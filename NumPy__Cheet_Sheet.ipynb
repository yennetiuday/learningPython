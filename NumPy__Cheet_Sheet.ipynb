{
  "nbformat": 4,
  "nbformat_minor": 0,
  "metadata": {
    "colab": {
      "name": "NumPy _Cheet_Sheet.ipynb",
      "provenance": [],
      "collapsed_sections": []
    },
    "kernelspec": {
      "name": "python3",
      "display_name": "Python 3"
    },
    "language_info": {
      "name": "python"
    }
  },
  "cells": [
    {
      "cell_type": "markdown",
      "metadata": {
        "id": "26P3utkk1iz5"
      },
      "source": [
        "#NumPy Cheet Sheet"
      ]
    },
    {
      "cell_type": "markdown",
      "metadata": {
        "id": "BzT45o4c2BfM"
      },
      "source": [
        "This Numpy library is the core library for scientific computing in Python. It provides a high-performance multi-dimentional array object, and tools for working with these arrays. "
      ]
    },
    {
      "cell_type": "code",
      "metadata": {
        "id": "MAkMwHNv1cV8"
      },
      "source": [
        "import numpy as np"
      ],
      "execution_count": 79,
      "outputs": []
    },
    {
      "cell_type": "markdown",
      "metadata": {
        "id": "ZKlRpukP2a7M"
      },
      "source": [
        "#Creating Arrays"
      ]
    },
    {
      "cell_type": "code",
      "metadata": {
        "colab": {
          "base_uri": "https://localhost:8080/"
        },
        "id": "76bMkRa22Zuk",
        "outputId": "08e3ea15-6af5-4378-fa0c-4f27f87af83b"
      },
      "source": [
        "#1D Array\n",
        "a = np.array([1,2,3,4])\n",
        "a"
      ],
      "execution_count": 80,
      "outputs": [
        {
          "output_type": "execute_result",
          "data": {
            "text/plain": [
              "array([1, 2, 3, 4])"
            ]
          },
          "metadata": {},
          "execution_count": 80
        }
      ]
    },
    {
      "cell_type": "code",
      "metadata": {
        "colab": {
          "base_uri": "https://localhost:8080/"
        },
        "id": "-Wne1V2w28zK",
        "outputId": "67f26821-b57f-43ec-acb4-bc0f99968e2b"
      },
      "source": [
        "#2D Array\n",
        "b = np.array([(1.5, 2, 3),(4, 5, 6)], dtype=float)\n",
        "b"
      ],
      "execution_count": 81,
      "outputs": [
        {
          "output_type": "execute_result",
          "data": {
            "text/plain": [
              "array([[1.5, 2. , 3. ],\n",
              "       [4. , 5. , 6. ]])"
            ]
          },
          "metadata": {},
          "execution_count": 81
        }
      ]
    },
    {
      "cell_type": "code",
      "metadata": {
        "colab": {
          "base_uri": "https://localhost:8080/"
        },
        "id": "RZqwRFZM2_9p",
        "outputId": "a8b1a673-a201-47e4-9d22-404efc4a7c83"
      },
      "source": [
        "#3D Array\n",
        "c = np.array([[(1.5, 2, 3), (4, 5, 6)],[(3, 2, 1), (4, 5, 6)]], dtype=float)\n",
        "c"
      ],
      "execution_count": 82,
      "outputs": [
        {
          "output_type": "execute_result",
          "data": {
            "text/plain": [
              "array([[[1.5, 2. , 3. ],\n",
              "        [4. , 5. , 6. ]],\n",
              "\n",
              "       [[3. , 2. , 1. ],\n",
              "        [4. , 5. , 6. ]]])"
            ]
          },
          "metadata": {},
          "execution_count": 82
        }
      ]
    },
    {
      "cell_type": "markdown",
      "metadata": {
        "id": "D3A0UmCx31i0"
      },
      "source": [
        "#Initial Placeholders"
      ]
    },
    {
      "cell_type": "code",
      "metadata": {
        "colab": {
          "base_uri": "https://localhost:8080/"
        },
        "id": "UHLpyHvv3ffd",
        "outputId": "320659bd-1fd5-42dd-baf5-11e88cb937f9"
      },
      "source": [
        "np.zeros((3,4)) # Create an array of Zeros"
      ],
      "execution_count": 83,
      "outputs": [
        {
          "output_type": "execute_result",
          "data": {
            "text/plain": [
              "array([[0., 0., 0., 0.],\n",
              "       [0., 0., 0., 0.],\n",
              "       [0., 0., 0., 0.]])"
            ]
          },
          "metadata": {},
          "execution_count": 83
        }
      ]
    },
    {
      "cell_type": "code",
      "metadata": {
        "colab": {
          "base_uri": "https://localhost:8080/"
        },
        "id": "XDchGo9U4GAl",
        "outputId": "82e6f7a3-215a-4ff0-b0f3-a9d8162a5739"
      },
      "source": [
        "np.ones((2, 3, 4), dtype=np.int64) # Create an array of Ones"
      ],
      "execution_count": 84,
      "outputs": [
        {
          "output_type": "execute_result",
          "data": {
            "text/plain": [
              "array([[[1, 1, 1, 1],\n",
              "        [1, 1, 1, 1],\n",
              "        [1, 1, 1, 1]],\n",
              "\n",
              "       [[1, 1, 1, 1],\n",
              "        [1, 1, 1, 1],\n",
              "        [1, 1, 1, 1]]])"
            ]
          },
          "metadata": {},
          "execution_count": 84
        }
      ]
    },
    {
      "cell_type": "code",
      "metadata": {
        "colab": {
          "base_uri": "https://localhost:8080/"
        },
        "id": "iSMc7VXL4We6",
        "outputId": "c2c5c9c5-c20d-4a87-bc2b-5933c590c634"
      },
      "source": [
        "d = np.arange(10, 25, 5) # Create an array of evenly spaced values(step value)\n",
        "d"
      ],
      "execution_count": 85,
      "outputs": [
        {
          "output_type": "execute_result",
          "data": {
            "text/plain": [
              "array([10, 15, 20])"
            ]
          },
          "metadata": {},
          "execution_count": 85
        }
      ]
    },
    {
      "cell_type": "code",
      "metadata": {
        "colab": {
          "base_uri": "https://localhost:8080/"
        },
        "id": "KlcPRTA55KTQ",
        "outputId": "ca657335-0bca-48de-9021-06f152329df6"
      },
      "source": [
        "np.linspace(0,2,9) # Create an array of evenly spaced values (number of samples)"
      ],
      "execution_count": 86,
      "outputs": [
        {
          "output_type": "execute_result",
          "data": {
            "text/plain": [
              "array([0.  , 0.25, 0.5 , 0.75, 1.  , 1.25, 1.5 , 1.75, 2.  ])"
            ]
          },
          "metadata": {},
          "execution_count": 86
        }
      ]
    },
    {
      "cell_type": "code",
      "metadata": {
        "colab": {
          "base_uri": "https://localhost:8080/"
        },
        "id": "l_zPLvOz44Fq",
        "outputId": "5dc2ee38-c582-4806-8b1c-6aae4757f82d"
      },
      "source": [
        "e = np.full((2, 2), 7) # Create a constant array\n",
        "e"
      ],
      "execution_count": 87,
      "outputs": [
        {
          "output_type": "execute_result",
          "data": {
            "text/plain": [
              "array([[7, 7],\n",
              "       [7, 7]])"
            ]
          },
          "metadata": {},
          "execution_count": 87
        }
      ]
    },
    {
      "cell_type": "code",
      "metadata": {
        "colab": {
          "base_uri": "https://localhost:8080/"
        },
        "id": "dteoQm6Y5Z0F",
        "outputId": "f3fce596-dbc6-4695-8f00-eebc06afa377"
      },
      "source": [
        "f = np.eye(2) # Create a 2X2 identity matrix\n",
        "f"
      ],
      "execution_count": 88,
      "outputs": [
        {
          "output_type": "execute_result",
          "data": {
            "text/plain": [
              "array([[1., 0.],\n",
              "       [0., 1.]])"
            ]
          },
          "metadata": {},
          "execution_count": 88
        }
      ]
    },
    {
      "cell_type": "code",
      "metadata": {
        "colab": {
          "base_uri": "https://localhost:8080/"
        },
        "id": "4ZXcEOFu5ZQh",
        "outputId": "54fd2fc4-8526-4851-ed10-de0ede5ac2a4"
      },
      "source": [
        "np.random.random((2,2)) #Create an array with random values"
      ],
      "execution_count": 89,
      "outputs": [
        {
          "output_type": "execute_result",
          "data": {
            "text/plain": [
              "array([[0.14946831, 0.20123169],\n",
              "       [0.29100971, 0.40882434]])"
            ]
          },
          "metadata": {},
          "execution_count": 89
        }
      ]
    },
    {
      "cell_type": "code",
      "metadata": {
        "colab": {
          "base_uri": "https://localhost:8080/"
        },
        "id": "ccMnutbW56ng",
        "outputId": "afe237e6-0b68-4a9e-be70-8a0e5e45b882"
      },
      "source": [
        "np.empty((3,2)) #Create an emtpy array"
      ],
      "execution_count": 90,
      "outputs": [
        {
          "output_type": "execute_result",
          "data": {
            "text/plain": [
              "array([[1.5, 2. ],\n",
              "       [3. , 4. ],\n",
              "       [5. , 6. ]])"
            ]
          },
          "metadata": {},
          "execution_count": 90
        }
      ]
    },
    {
      "cell_type": "markdown",
      "metadata": {
        "id": "wYiDlDYH6lno"
      },
      "source": [
        "#I/O"
      ]
    },
    {
      "cell_type": "markdown",
      "metadata": {
        "id": "DyyXGllp6ozc"
      },
      "source": [
        "##Saving & Loading on Disk"
      ]
    },
    {
      "cell_type": "code",
      "metadata": {
        "colab": {
          "base_uri": "https://localhost:8080/"
        },
        "id": "OpZHT97V6k8R",
        "outputId": "f09696ab-aa0b-42a4-98b1-0cdfd8c021fb"
      },
      "source": [
        "np.save('my_array', a)\n",
        "np.savez('array.npz', a, b)\n",
        "np.load('my_array.npy')"
      ],
      "execution_count": 91,
      "outputs": [
        {
          "output_type": "execute_result",
          "data": {
            "text/plain": [
              "array([1, 2, 3, 4])"
            ]
          },
          "metadata": {},
          "execution_count": 91
        }
      ]
    },
    {
      "cell_type": "markdown",
      "metadata": {
        "id": "O7I-c3737RL8"
      },
      "source": [
        "##Saving & Loading Text Files"
      ]
    },
    {
      "cell_type": "code",
      "metadata": {
        "colab": {
          "base_uri": "https://localhost:8080/"
        },
        "id": "2ek0eY6w7Z0W",
        "outputId": "6d21854f-f45b-4967-f149-cfb1c2511a4c"
      },
      "source": [
        "np.savetxt(\"myarray.txt\", a, delimiter=\" \")\n",
        "np.genfromtxt(\"myarray.txt\", delimiter=\",\")\n",
        "np.loadtxt(\"myarray.txt\")"
      ],
      "execution_count": 92,
      "outputs": [
        {
          "output_type": "execute_result",
          "data": {
            "text/plain": [
              "array([1., 2., 3., 4.])"
            ]
          },
          "metadata": {},
          "execution_count": 92
        }
      ]
    },
    {
      "cell_type": "markdown",
      "metadata": {
        "id": "OOsDEMQDGrd_"
      },
      "source": [
        "#Data Types"
      ]
    },
    {
      "cell_type": "code",
      "metadata": {
        "colab": {
          "base_uri": "https://localhost:8080/"
        },
        "id": "633pxhiYGuZl",
        "outputId": "fbcd335b-d3e6-44fe-91c6-bb36e1f21d24"
      },
      "source": [
        "np.int64 # Signed 64-bit integer types\n",
        "np.float32 # Standard double-precision floating point\n",
        "np.complex # Complex numbers represented by 128 floats\n",
        "np.bool # Boolean type storing TRUE and FALSE values\n",
        "np.object # python object type\n",
        "np.string_ # Fixed-length string type\n",
        "np.unicode_ # Fixed-length unicode type"
      ],
      "execution_count": 93,
      "outputs": [
        {
          "output_type": "execute_result",
          "data": {
            "text/plain": [
              "numpy.str_"
            ]
          },
          "metadata": {},
          "execution_count": 93
        }
      ]
    },
    {
      "cell_type": "markdown",
      "metadata": {
        "id": "hUfykkf-Hl78"
      },
      "source": [
        "#Inspecting your Array"
      ]
    },
    {
      "cell_type": "code",
      "metadata": {
        "colab": {
          "base_uri": "https://localhost:8080/"
        },
        "id": "DQT6D0pBHrX8",
        "outputId": "a10cf246-c0b4-4b7f-8714-b40df1913000"
      },
      "source": [
        "a.shape #Array dimensions\n",
        "len(a) #Length of Array\n",
        "b.ndim #Number of array dimentions\n",
        "e.size # Number of array elements\n",
        "b.dtype #Data type pf array elements\n",
        "b.dtype.name #Name of data type\n",
        "b.astype(int) #Convert an array to a different type"
      ],
      "execution_count": 94,
      "outputs": [
        {
          "output_type": "execute_result",
          "data": {
            "text/plain": [
              "array([[1, 2, 3],\n",
              "       [4, 5, 6]])"
            ]
          },
          "metadata": {},
          "execution_count": 94
        }
      ]
    },
    {
      "cell_type": "markdown",
      "metadata": {
        "id": "TNM27IM9ISev"
      },
      "source": [
        "#Asking For Help"
      ]
    },
    {
      "cell_type": "code",
      "metadata": {
        "id": "7EkOhjNXIR8e"
      },
      "source": [
        "np.info(np.ndarray.dtype)"
      ],
      "execution_count": 95,
      "outputs": []
    },
    {
      "cell_type": "markdown",
      "metadata": {
        "id": "xbSteKoGIaDr"
      },
      "source": [
        "#Array Mathematics"
      ]
    },
    {
      "cell_type": "markdown",
      "metadata": {
        "id": "uf9XYGbZI2up"
      },
      "source": [
        "## Arthematic Operations"
      ]
    },
    {
      "cell_type": "code",
      "metadata": {
        "id": "44qD5HSvI5_U"
      },
      "source": [
        "g = np.array([1, 3, 2, 6, 5])\n",
        "h = np.array([4, 3, 2, 1, 3])"
      ],
      "execution_count": 96,
      "outputs": []
    },
    {
      "cell_type": "code",
      "metadata": {
        "colab": {
          "base_uri": "https://localhost:8080/"
        },
        "id": "jz298VxFJ33S",
        "outputId": "a59d4b3b-d264-4428-f5eb-7c83e48ec6b7"
      },
      "source": [
        "i = g-h #Subtraction\n",
        "g"
      ],
      "execution_count": 97,
      "outputs": [
        {
          "output_type": "execute_result",
          "data": {
            "text/plain": [
              "array([1, 3, 2, 6, 5])"
            ]
          },
          "metadata": {},
          "execution_count": 97
        }
      ]
    },
    {
      "cell_type": "code",
      "metadata": {
        "colab": {
          "base_uri": "https://localhost:8080/"
        },
        "id": "TPEEG1a8J-oD",
        "outputId": "284a6009-d388-4ddd-aeed-3144659b2b78"
      },
      "source": [
        "np.subtract(g,h) # Subtraction"
      ],
      "execution_count": 98,
      "outputs": [
        {
          "output_type": "execute_result",
          "data": {
            "text/plain": [
              "array([-3,  0,  0,  5,  2])"
            ]
          },
          "metadata": {},
          "execution_count": 98
        }
      ]
    },
    {
      "cell_type": "code",
      "metadata": {
        "colab": {
          "base_uri": "https://localhost:8080/"
        },
        "id": "xvghYFCaKHOq",
        "outputId": "2fceb73f-495b-4cb3-8478-b12dd26bbf81"
      },
      "source": [
        "g+h # Addition"
      ],
      "execution_count": 99,
      "outputs": [
        {
          "output_type": "execute_result",
          "data": {
            "text/plain": [
              "array([5, 6, 4, 7, 8])"
            ]
          },
          "metadata": {},
          "execution_count": 99
        }
      ]
    },
    {
      "cell_type": "code",
      "metadata": {
        "colab": {
          "base_uri": "https://localhost:8080/"
        },
        "id": "nbfNYOuRKMZE",
        "outputId": "1eea4de2-0eab-4dce-f99c-1b840407847a"
      },
      "source": [
        "np.add(g, h) # Addition"
      ],
      "execution_count": 100,
      "outputs": [
        {
          "output_type": "execute_result",
          "data": {
            "text/plain": [
              "array([5, 6, 4, 7, 8])"
            ]
          },
          "metadata": {},
          "execution_count": 100
        }
      ]
    },
    {
      "cell_type": "code",
      "metadata": {
        "colab": {
          "base_uri": "https://localhost:8080/"
        },
        "id": "wkPkvI1BKSyP",
        "outputId": "267cf81b-8c68-476e-f140-fdc7645a4878"
      },
      "source": [
        "g/h # Division"
      ],
      "execution_count": 101,
      "outputs": [
        {
          "output_type": "execute_result",
          "data": {
            "text/plain": [
              "array([0.25      , 1.        , 1.        , 6.        , 1.66666667])"
            ]
          },
          "metadata": {},
          "execution_count": 101
        }
      ]
    },
    {
      "cell_type": "code",
      "metadata": {
        "colab": {
          "base_uri": "https://localhost:8080/"
        },
        "id": "TDhwcxGnKZk7",
        "outputId": "4b262519-24c2-42b7-f4b8-2f22d1526922"
      },
      "source": [
        "np.divide(g, h) # Division"
      ],
      "execution_count": 102,
      "outputs": [
        {
          "output_type": "execute_result",
          "data": {
            "text/plain": [
              "array([0.25      , 1.        , 1.        , 6.        , 1.66666667])"
            ]
          },
          "metadata": {},
          "execution_count": 102
        }
      ]
    },
    {
      "cell_type": "code",
      "metadata": {
        "colab": {
          "base_uri": "https://localhost:8080/"
        },
        "id": "5gDXTE0hKhpU",
        "outputId": "a22af4e2-52cd-4365-a29c-04caa365e850"
      },
      "source": [
        "g*h # Multiplication"
      ],
      "execution_count": 103,
      "outputs": [
        {
          "output_type": "execute_result",
          "data": {
            "text/plain": [
              "array([ 4,  9,  4,  6, 15])"
            ]
          },
          "metadata": {},
          "execution_count": 103
        }
      ]
    },
    {
      "cell_type": "code",
      "metadata": {
        "colab": {
          "base_uri": "https://localhost:8080/"
        },
        "id": "lfKSXyH4KrNL",
        "outputId": "ab32bddd-0f7a-4b40-ce42-1688073af226"
      },
      "source": [
        "np.multiply(g, h) # Multiplication"
      ],
      "execution_count": 104,
      "outputs": [
        {
          "output_type": "execute_result",
          "data": {
            "text/plain": [
              "array([ 4,  9,  4,  6, 15])"
            ]
          },
          "metadata": {},
          "execution_count": 104
        }
      ]
    },
    {
      "cell_type": "code",
      "metadata": {
        "colab": {
          "base_uri": "https://localhost:8080/"
        },
        "id": "-l5K1YMaKzte",
        "outputId": "b4f7c803-bd14-4135-b0f4-551b762639b3"
      },
      "source": [
        "np.exp(h) #Exponentiation"
      ],
      "execution_count": 105,
      "outputs": [
        {
          "output_type": "execute_result",
          "data": {
            "text/plain": [
              "array([54.59815003, 20.08553692,  7.3890561 ,  2.71828183, 20.08553692])"
            ]
          },
          "metadata": {},
          "execution_count": 105
        }
      ]
    },
    {
      "cell_type": "code",
      "metadata": {
        "colab": {
          "base_uri": "https://localhost:8080/"
        },
        "id": "WU0C-T5KK9J8",
        "outputId": "ddecea66-5195-4398-d06c-c43cb8199569"
      },
      "source": [
        "np.sqrt(h) #Square root"
      ],
      "execution_count": 106,
      "outputs": [
        {
          "output_type": "execute_result",
          "data": {
            "text/plain": [
              "array([2.        , 1.73205081, 1.41421356, 1.        , 1.73205081])"
            ]
          },
          "metadata": {},
          "execution_count": 106
        }
      ]
    },
    {
      "cell_type": "code",
      "metadata": {
        "colab": {
          "base_uri": "https://localhost:8080/"
        },
        "id": "Gig3kqAMLNOw",
        "outputId": "361fd2a5-4e9a-4dcf-8704-60982efaccf9"
      },
      "source": [
        "np.sin(g) #Print sines of an array"
      ],
      "execution_count": 107,
      "outputs": [
        {
          "output_type": "execute_result",
          "data": {
            "text/plain": [
              "array([ 0.84147098,  0.14112001,  0.90929743, -0.2794155 , -0.95892427])"
            ]
          },
          "metadata": {},
          "execution_count": 107
        }
      ]
    },
    {
      "cell_type": "code",
      "metadata": {
        "colab": {
          "base_uri": "https://localhost:8080/"
        },
        "id": "XHoTmYUULTZ9",
        "outputId": "879a50cb-762b-4ad3-c23a-1c470d09fceb"
      },
      "source": [
        "np.cos(h) #Element-wise cosine"
      ],
      "execution_count": 108,
      "outputs": [
        {
          "output_type": "execute_result",
          "data": {
            "text/plain": [
              "array([-0.65364362, -0.9899925 , -0.41614684,  0.54030231, -0.9899925 ])"
            ]
          },
          "metadata": {},
          "execution_count": 108
        }
      ]
    },
    {
      "cell_type": "code",
      "metadata": {
        "colab": {
          "base_uri": "https://localhost:8080/"
        },
        "id": "GgWEMDwfLa4Q",
        "outputId": "60df6383-f5c1-400a-ff5f-5c9d197ac624"
      },
      "source": [
        "np.log(g) #Element-wise natural logarithm"
      ],
      "execution_count": 109,
      "outputs": [
        {
          "output_type": "execute_result",
          "data": {
            "text/plain": [
              "array([0.        , 1.09861229, 0.69314718, 1.79175947, 1.60943791])"
            ]
          },
          "metadata": {},
          "execution_count": 109
        }
      ]
    },
    {
      "cell_type": "code",
      "metadata": {
        "colab": {
          "base_uri": "https://localhost:8080/"
        },
        "id": "8angrsxiLn9G",
        "outputId": "100cc878-46cd-44dd-e7b6-cd76c6615eee"
      },
      "source": [
        "e.dot(f) # Dot product"
      ],
      "execution_count": 110,
      "outputs": [
        {
          "output_type": "execute_result",
          "data": {
            "text/plain": [
              "array([[7., 7.],\n",
              "       [7., 7.]])"
            ]
          },
          "metadata": {},
          "execution_count": 110
        }
      ]
    },
    {
      "cell_type": "markdown",
      "metadata": {
        "id": "oNnKSsiVLz9B"
      },
      "source": [
        "## Comparison"
      ]
    },
    {
      "cell_type": "code",
      "metadata": {
        "colab": {
          "base_uri": "https://localhost:8080/"
        },
        "id": "rUsc8z4xL3Tf",
        "outputId": "823c3a85-2f68-48b5-d228-8ed7bed9ca0a"
      },
      "source": [
        "g == h #Element-wise comparision"
      ],
      "execution_count": 111,
      "outputs": [
        {
          "output_type": "execute_result",
          "data": {
            "text/plain": [
              "array([False,  True,  True, False, False])"
            ]
          },
          "metadata": {},
          "execution_count": 111
        }
      ]
    },
    {
      "cell_type": "code",
      "metadata": {
        "colab": {
          "base_uri": "https://localhost:8080/"
        },
        "id": "da5bfXoIL9bK",
        "outputId": "f9069977-5b3f-4d7a-9100-833385720919"
      },
      "source": [
        "g < 2 #Element-wise comparision"
      ],
      "execution_count": 112,
      "outputs": [
        {
          "output_type": "execute_result",
          "data": {
            "text/plain": [
              "array([ True, False, False, False, False])"
            ]
          },
          "metadata": {},
          "execution_count": 112
        }
      ]
    },
    {
      "cell_type": "code",
      "metadata": {
        "colab": {
          "base_uri": "https://localhost:8080/"
        },
        "id": "NN85U5gzMFSt",
        "outputId": "f5e66c38-d135-4e6c-fb2e-01cf08edf313"
      },
      "source": [
        "np.array_equal(g, h) #Array-wise comparision"
      ],
      "execution_count": 113,
      "outputs": [
        {
          "output_type": "execute_result",
          "data": {
            "text/plain": [
              "False"
            ]
          },
          "metadata": {},
          "execution_count": 113
        }
      ]
    },
    {
      "cell_type": "markdown",
      "metadata": {
        "id": "GGHmIycaMQU4"
      },
      "source": [
        "##Aggregate Functions"
      ]
    },
    {
      "cell_type": "code",
      "metadata": {
        "colab": {
          "base_uri": "https://localhost:8080/"
        },
        "id": "Sz1zmpDrMVpi",
        "outputId": "d70047d7-bf39-434e-e252-49dc652b352a"
      },
      "source": [
        "g.sum() #Array-wise sum"
      ],
      "execution_count": 114,
      "outputs": [
        {
          "output_type": "execute_result",
          "data": {
            "text/plain": [
              "17"
            ]
          },
          "metadata": {},
          "execution_count": 114
        }
      ]
    },
    {
      "cell_type": "code",
      "metadata": {
        "colab": {
          "base_uri": "https://localhost:8080/"
        },
        "id": "zbdxDdr4Md5B",
        "outputId": "a4c1c0f6-d837-4fd0-e2c0-260125642b09"
      },
      "source": [
        "g.min() #Array-wise minimum value"
      ],
      "execution_count": 115,
      "outputs": [
        {
          "output_type": "execute_result",
          "data": {
            "text/plain": [
              "1"
            ]
          },
          "metadata": {},
          "execution_count": 115
        }
      ]
    },
    {
      "cell_type": "code",
      "metadata": {
        "colab": {
          "base_uri": "https://localhost:8080/"
        },
        "id": "FgrYqDMCMkGe",
        "outputId": "98477042-0d72-40b2-b467-1d6aa8c53b43"
      },
      "source": [
        "h.max(axis=0) #Maximum value of an array row"
      ],
      "execution_count": 116,
      "outputs": [
        {
          "output_type": "execute_result",
          "data": {
            "text/plain": [
              "4"
            ]
          },
          "metadata": {},
          "execution_count": 116
        }
      ]
    },
    {
      "cell_type": "code",
      "metadata": {
        "colab": {
          "base_uri": "https://localhost:8080/"
        },
        "id": "qyHBif_3aL8I",
        "outputId": "0bf29743-b4b3-4be9-bfa2-eb673b167a80"
      },
      "source": [
        "b"
      ],
      "execution_count": 117,
      "outputs": [
        {
          "output_type": "execute_result",
          "data": {
            "text/plain": [
              "array([[1.5, 2. , 3. ],\n",
              "       [4. , 5. , 6. ]])"
            ]
          },
          "metadata": {},
          "execution_count": 117
        }
      ]
    },
    {
      "cell_type": "code",
      "metadata": {
        "colab": {
          "base_uri": "https://localhost:8080/"
        },
        "id": "45vZpW1kMqjL",
        "outputId": "97790bcf-d52b-4334-eb1a-5f94dea8588b"
      },
      "source": [
        "b.cumsum(axis=0) # Cumulative sum of the elements"
      ],
      "execution_count": 118,
      "outputs": [
        {
          "output_type": "execute_result",
          "data": {
            "text/plain": [
              "array([[1.5, 2. , 3. ],\n",
              "       [5.5, 7. , 9. ]])"
            ]
          },
          "metadata": {},
          "execution_count": 118
        }
      ]
    },
    {
      "cell_type": "code",
      "metadata": {
        "colab": {
          "base_uri": "https://localhost:8080/"
        },
        "id": "r-5ei_K2M1Y3",
        "outputId": "5a21281b-83ca-4a36-d98f-e0a493911091"
      },
      "source": [
        "g.mean() #Mean"
      ],
      "execution_count": 119,
      "outputs": [
        {
          "output_type": "execute_result",
          "data": {
            "text/plain": [
              "3.4"
            ]
          },
          "metadata": {},
          "execution_count": 119
        }
      ]
    },
    {
      "cell_type": "code",
      "metadata": {
        "colab": {
          "base_uri": "https://localhost:8080/"
        },
        "id": "tSkrbjISN52v",
        "outputId": "be6f4a9a-5bc5-4d71-94be-b367a6915647"
      },
      "source": [
        "np.median(b) #Median"
      ],
      "execution_count": 120,
      "outputs": [
        {
          "output_type": "execute_result",
          "data": {
            "text/plain": [
              "3.5"
            ]
          },
          "metadata": {},
          "execution_count": 120
        }
      ]
    },
    {
      "cell_type": "code",
      "metadata": {
        "colab": {
          "base_uri": "https://localhost:8080/"
        },
        "id": "7L8o2a0kOACw",
        "outputId": "7cccbcc1-9d97-47d5-c192-b2d6de016996"
      },
      "source": [
        "np.corrcoef(a) #Correlation Coefficient"
      ],
      "execution_count": 121,
      "outputs": [
        {
          "output_type": "execute_result",
          "data": {
            "text/plain": [
              "1.0"
            ]
          },
          "metadata": {},
          "execution_count": 121
        }
      ]
    },
    {
      "cell_type": "code",
      "metadata": {
        "colab": {
          "base_uri": "https://localhost:8080/"
        },
        "id": "qtGpRxE6M44o",
        "outputId": "23818b8b-56aa-406e-9764-5010c262f259"
      },
      "source": [
        "np.std(b) #Standard Deviation"
      ],
      "execution_count": 122,
      "outputs": [
        {
          "output_type": "execute_result",
          "data": {
            "text/plain": [
              "1.5920810978785667"
            ]
          },
          "metadata": {},
          "execution_count": 122
        }
      ]
    },
    {
      "cell_type": "markdown",
      "metadata": {
        "id": "cgWIC7VSOKF2"
      },
      "source": [
        "#Copying Arrays"
      ]
    },
    {
      "cell_type": "code",
      "metadata": {
        "colab": {
          "base_uri": "https://localhost:8080/"
        },
        "id": "bLSNW9WNON3I",
        "outputId": "0e0cc19a-82a1-41ce-9c97-1532ef7daaae"
      },
      "source": [
        "h = a.view() #Create a view of the array with the same data\n",
        "np.copy(a)\n",
        "h=a.copy()\n",
        "h"
      ],
      "execution_count": 123,
      "outputs": [
        {
          "output_type": "execute_result",
          "data": {
            "text/plain": [
              "array([1, 2, 3, 4])"
            ]
          },
          "metadata": {},
          "execution_count": 123
        }
      ]
    },
    {
      "cell_type": "markdown",
      "metadata": {
        "id": "eKEWS-LTOizI"
      },
      "source": [
        "#Sorting Array"
      ]
    },
    {
      "cell_type": "code",
      "metadata": {
        "colab": {
          "base_uri": "https://localhost:8080/"
        },
        "id": "YpiNK-kgOX1v",
        "outputId": "a7a4a1ca-e3a0-49ae-c037-23df28bc2938"
      },
      "source": [
        "a.sort() #Sort a array\n",
        "a"
      ],
      "execution_count": 124,
      "outputs": [
        {
          "output_type": "execute_result",
          "data": {
            "text/plain": [
              "array([1, 2, 3, 4])"
            ]
          },
          "metadata": {},
          "execution_count": 124
        }
      ]
    },
    {
      "cell_type": "code",
      "metadata": {
        "colab": {
          "base_uri": "https://localhost:8080/"
        },
        "id": "rPqRJjmPQqNk",
        "outputId": "656f7e3e-7efd-4e81-eeeb-be3224c19914"
      },
      "source": [
        "b.sort()\n",
        "reversed_array = b[::-1] # Sort a array in reversed order\n",
        "reversed_array"
      ],
      "execution_count": 126,
      "outputs": [
        {
          "output_type": "execute_result",
          "data": {
            "text/plain": [
              "array([[4. , 5. , 6. ],\n",
              "       [1.5, 2. , 3. ]])"
            ]
          },
          "metadata": {},
          "execution_count": 126
        }
      ]
    },
    {
      "cell_type": "code",
      "metadata": {
        "colab": {
          "base_uri": "https://localhost:8080/"
        },
        "id": "Gsq91yIKOrkc",
        "outputId": "edca0481-9888-4b57-84e9-13b15a99663b"
      },
      "source": [
        "c.sort(axis=1) #Sort the elements of an array's axis\n",
        "c"
      ],
      "execution_count": 127,
      "outputs": [
        {
          "output_type": "execute_result",
          "data": {
            "text/plain": [
              "array([[[1.5, 2. , 3. ],\n",
              "        [4. , 5. , 6. ]],\n",
              "\n",
              "       [[3. , 2. , 1. ],\n",
              "        [4. , 5. , 6. ]]])"
            ]
          },
          "metadata": {},
          "execution_count": 127
        }
      ]
    },
    {
      "cell_type": "markdown",
      "metadata": {
        "id": "r46jnBQsRUM_"
      },
      "source": [
        "#Subsetting, Slicing, Indexing"
      ]
    },
    {
      "cell_type": "markdown",
      "metadata": {
        "id": "flgcedr2SfBN"
      },
      "source": [
        "##Subsetting"
      ]
    },
    {
      "cell_type": "code",
      "metadata": {
        "colab": {
          "base_uri": "https://localhost:8080/"
        },
        "id": "wRayLMFFPhk-",
        "outputId": "7dd8ff9c-b849-496f-bf8b-2589fe7d0df8"
      },
      "source": [
        "a"
      ],
      "execution_count": 128,
      "outputs": [
        {
          "output_type": "execute_result",
          "data": {
            "text/plain": [
              "array([1, 2, 3, 4])"
            ]
          },
          "metadata": {},
          "execution_count": 128
        }
      ]
    },
    {
      "cell_type": "code",
      "metadata": {
        "colab": {
          "base_uri": "https://localhost:8080/"
        },
        "id": "TOrerq95Re4B",
        "outputId": "428ae136-ed3d-480e-8cf4-47f14a198d41"
      },
      "source": [
        "\n",
        "a[2]"
      ],
      "execution_count": 129,
      "outputs": [
        {
          "output_type": "execute_result",
          "data": {
            "text/plain": [
              "3"
            ]
          },
          "metadata": {},
          "execution_count": 129
        }
      ]
    },
    {
      "cell_type": "markdown",
      "metadata": {
        "id": "fvmS-D6GSohK"
      },
      "source": [
        "##Slicing"
      ]
    },
    {
      "cell_type": "code",
      "metadata": {
        "colab": {
          "base_uri": "https://localhost:8080/"
        },
        "id": "84c3sSEpRjbi",
        "outputId": "dd4c9319-7ef3-4b2d-d631-aaea8341d266"
      },
      "source": [
        "c"
      ],
      "execution_count": 130,
      "outputs": [
        {
          "output_type": "execute_result",
          "data": {
            "text/plain": [
              "array([[[1.5, 2. , 3. ],\n",
              "        [4. , 5. , 6. ]],\n",
              "\n",
              "       [[3. , 2. , 1. ],\n",
              "        [4. , 5. , 6. ]]])"
            ]
          },
          "metadata": {},
          "execution_count": 130
        }
      ]
    },
    {
      "cell_type": "code",
      "metadata": {
        "colab": {
          "base_uri": "https://localhost:8080/"
        },
        "id": "RdFxWSyrdLEr",
        "outputId": "d0b227f2-ab9d-42d6-9cfe-5ea290ee15ca"
      },
      "source": [
        "a"
      ],
      "execution_count": 143,
      "outputs": [
        {
          "output_type": "execute_result",
          "data": {
            "text/plain": [
              "array([1, 2, 3, 4])"
            ]
          },
          "metadata": {},
          "execution_count": 143
        }
      ]
    },
    {
      "cell_type": "code",
      "metadata": {
        "colab": {
          "base_uri": "https://localhost:8080/"
        },
        "id": "4LWDUKPiRnaY",
        "outputId": "a586240b-7253-4e9a-a536-5459355f5e7c"
      },
      "source": [
        "a[0:2] # Select items at 0 and 1"
      ],
      "execution_count": 131,
      "outputs": [
        {
          "output_type": "execute_result",
          "data": {
            "text/plain": [
              "array([1, 2])"
            ]
          },
          "metadata": {},
          "execution_count": 131
        }
      ]
    },
    {
      "cell_type": "code",
      "metadata": {
        "colab": {
          "base_uri": "https://localhost:8080/"
        },
        "id": "9byVwBpwYgwM",
        "outputId": "b85f70c8-2e7c-44b1-f472-0a2ac390b217"
      },
      "source": [
        "b"
      ],
      "execution_count": 132,
      "outputs": [
        {
          "output_type": "execute_result",
          "data": {
            "text/plain": [
              "array([[1.5, 2. , 3. ],\n",
              "       [4. , 5. , 6. ]])"
            ]
          },
          "metadata": {},
          "execution_count": 132
        }
      ]
    },
    {
      "cell_type": "code",
      "metadata": {
        "colab": {
          "base_uri": "https://localhost:8080/"
        },
        "id": "V4dqzsTTanHU",
        "outputId": "f8784e06-71e6-44ac-e847-566084efbad5"
      },
      "source": [
        "b[0:2,1] #Select items at rows 0 and 1 in column 1  "
      ],
      "execution_count": 133,
      "outputs": [
        {
          "output_type": "execute_result",
          "data": {
            "text/plain": [
              "array([2., 5.])"
            ]
          },
          "metadata": {},
          "execution_count": 133
        }
      ]
    },
    {
      "cell_type": "code",
      "metadata": {
        "colab": {
          "base_uri": "https://localhost:8080/"
        },
        "id": "8Hy8CDx4a4RL",
        "outputId": "4cee6d83-c11f-4207-bd28-6b1e008e6b52"
      },
      "source": [
        "b[:1] # Select all values at row 0 (equivalent to b[0:1,:])"
      ],
      "execution_count": 135,
      "outputs": [
        {
          "output_type": "execute_result",
          "data": {
            "text/plain": [
              "array([[1.5, 2. , 3. ]])"
            ]
          },
          "metadata": {},
          "execution_count": 135
        }
      ]
    },
    {
      "cell_type": "code",
      "metadata": {
        "colab": {
          "base_uri": "https://localhost:8080/"
        },
        "id": "xl7uh7NDbIPG",
        "outputId": "9f35ffeb-8677-4593-d951-8611df7f8806"
      },
      "source": [
        "c"
      ],
      "execution_count": 138,
      "outputs": [
        {
          "output_type": "execute_result",
          "data": {
            "text/plain": [
              "array([[[1.5, 2. , 3. ],\n",
              "        [4. , 5. , 6. ]],\n",
              "\n",
              "       [[3. , 2. , 1. ],\n",
              "        [4. , 5. , 6. ]]])"
            ]
          },
          "metadata": {},
          "execution_count": 138
        }
      ]
    },
    {
      "cell_type": "code",
      "metadata": {
        "colab": {
          "base_uri": "https://localhost:8080/"
        },
        "id": "sQvuA8Q0bBYZ",
        "outputId": "2af0ef24-7186-4886-cc9c-8d84c81da26b"
      },
      "source": [
        "c[1,...] #Same as [1,:,:]"
      ],
      "execution_count": 137,
      "outputs": [
        {
          "output_type": "execute_result",
          "data": {
            "text/plain": [
              "array([[3., 2., 1.],\n",
              "       [4., 5., 6.]])"
            ]
          },
          "metadata": {},
          "execution_count": 137
        }
      ]
    },
    {
      "cell_type": "code",
      "metadata": {
        "colab": {
          "base_uri": "https://localhost:8080/"
        },
        "id": "2WBAQcCRbOqA",
        "outputId": "b6eec2dc-0bbd-4ac9-871d-7e5d86b543ab"
      },
      "source": [
        "a[::-1] #Reversed Array a"
      ],
      "execution_count": 139,
      "outputs": [
        {
          "output_type": "execute_result",
          "data": {
            "text/plain": [
              "array([4, 3, 2, 1])"
            ]
          },
          "metadata": {},
          "execution_count": 139
        }
      ]
    },
    {
      "cell_type": "markdown",
      "metadata": {
        "id": "lw8bl-BTbkG8"
      },
      "source": [
        "##Boolean Indexing"
      ]
    },
    {
      "cell_type": "code",
      "metadata": {
        "colab": {
          "base_uri": "https://localhost:8080/"
        },
        "id": "t1LdFM33bTZB",
        "outputId": "58c89b4b-c7c4-49e8-cf88-5dd7caca70dc"
      },
      "source": [
        "a[a<2] #Select elements from a less than 2"
      ],
      "execution_count": 140,
      "outputs": [
        {
          "output_type": "execute_result",
          "data": {
            "text/plain": [
              "array([1])"
            ]
          },
          "metadata": {},
          "execution_count": 140
        }
      ]
    },
    {
      "cell_type": "markdown",
      "metadata": {
        "id": "Lc6Z_IoJbuAW"
      },
      "source": [
        "##Fancy Indexing"
      ]
    },
    {
      "cell_type": "code",
      "metadata": {
        "colab": {
          "base_uri": "https://localhost:8080/"
        },
        "id": "O_DhSlXYb-ye",
        "outputId": "8ed48301-87f0-44e9-c363-98111d25bdb9"
      },
      "source": [
        "b"
      ],
      "execution_count": 142,
      "outputs": [
        {
          "output_type": "execute_result",
          "data": {
            "text/plain": [
              "array([[1.5, 2. , 3. ],\n",
              "       [4. , 5. , 6. ]])"
            ]
          },
          "metadata": {},
          "execution_count": 142
        }
      ]
    },
    {
      "cell_type": "code",
      "metadata": {
        "colab": {
          "base_uri": "https://localhost:8080/"
        },
        "id": "_tGbICWObtlI",
        "outputId": "6775e2d6-d028-42d3-bc1b-a19d34a35946"
      },
      "source": [
        "b[[1,0,1,0],[0,1,2,0]] #Select elements (1,0), (0,1), (1,2), (0,0)"
      ],
      "execution_count": 141,
      "outputs": [
        {
          "output_type": "execute_result",
          "data": {
            "text/plain": [
              "array([4. , 2. , 6. , 1.5])"
            ]
          },
          "metadata": {},
          "execution_count": 141
        }
      ]
    },
    {
      "cell_type": "code",
      "metadata": {
        "colab": {
          "base_uri": "https://localhost:8080/"
        },
        "id": "MKHhYVQpd3fa",
        "outputId": "37ef13c8-9aa0-48ce-de30-98656aab8e1e"
      },
      "source": [
        "b[[1,0,1,0]][:,[0,1,2,0]] #Select subset of the matrix's rows and columns"
      ],
      "execution_count": 144,
      "outputs": [
        {
          "output_type": "execute_result",
          "data": {
            "text/plain": [
              "array([[4. , 5. , 6. , 4. ],\n",
              "       [1.5, 2. , 3. , 1.5],\n",
              "       [4. , 5. , 6. , 4. ],\n",
              "       [1.5, 2. , 3. , 1.5]])"
            ]
          },
          "metadata": {},
          "execution_count": 144
        }
      ]
    },
    {
      "cell_type": "markdown",
      "metadata": {
        "id": "DLcQjPYqeXFn"
      },
      "source": [
        "#Array Manipulation"
      ]
    },
    {
      "cell_type": "markdown",
      "metadata": {
        "id": "iJyo54AdebIT"
      },
      "source": [
        "##Transposing Array"
      ]
    },
    {
      "cell_type": "code",
      "metadata": {
        "colab": {
          "base_uri": "https://localhost:8080/"
        },
        "id": "Dofhj_6deZ4q",
        "outputId": "43caa12e-81a5-4154-8b82-f22cc0a95578"
      },
      "source": [
        "j = np.transpose(b) #Premute array dimentions\n",
        "j"
      ],
      "execution_count": 154,
      "outputs": [
        {
          "output_type": "execute_result",
          "data": {
            "text/plain": [
              "array([[1.5, 4. ],\n",
              "       [2. , 5. ],\n",
              "       [3. , 6. ]])"
            ]
          },
          "metadata": {},
          "execution_count": 154
        }
      ]
    },
    {
      "cell_type": "code",
      "metadata": {
        "colab": {
          "base_uri": "https://localhost:8080/"
        },
        "id": "Mkh_NuxFegse",
        "outputId": "eb54a34d-c6c1-46ca-bd13-7607e5302a0e"
      },
      "source": [
        "j.T #Premute array dimentions"
      ],
      "execution_count": 155,
      "outputs": [
        {
          "output_type": "execute_result",
          "data": {
            "text/plain": [
              "array([[1.5, 2. , 3. ],\n",
              "       [4. , 5. , 6. ]])"
            ]
          },
          "metadata": {},
          "execution_count": 155
        }
      ]
    },
    {
      "cell_type": "markdown",
      "metadata": {
        "id": "OXfThp7nfF6U"
      },
      "source": [
        "##Change Array Shape"
      ]
    },
    {
      "cell_type": "code",
      "metadata": {
        "colab": {
          "base_uri": "https://localhost:8080/"
        },
        "id": "f0BNBrpXfES3",
        "outputId": "05d1f49b-2be8-4be4-fe0e-3d1e8ba345b6"
      },
      "source": [
        "b.ravel() #Flatten the array"
      ],
      "execution_count": 156,
      "outputs": [
        {
          "output_type": "execute_result",
          "data": {
            "text/plain": [
              "array([1.5, 2. , 3. , 4. , 5. , 6. ])"
            ]
          },
          "metadata": {},
          "execution_count": 156
        }
      ]
    },
    {
      "cell_type": "code",
      "metadata": {
        "colab": {
          "base_uri": "https://localhost:8080/"
        },
        "id": "mV0Zah4yfLPJ",
        "outputId": "70789fe8-f433-4fd9-b17f-204e4ce51c00"
      },
      "source": [
        "c"
      ],
      "execution_count": 160,
      "outputs": [
        {
          "output_type": "execute_result",
          "data": {
            "text/plain": [
              "array([[[1.5, 2. , 3. ],\n",
              "        [4. , 5. , 6. ]],\n",
              "\n",
              "       [[3. , 2. , 1. ],\n",
              "        [4. , 5. , 6. ]]])"
            ]
          },
          "metadata": {},
          "execution_count": 160
        }
      ]
    },
    {
      "cell_type": "code",
      "metadata": {
        "colab": {
          "base_uri": "https://localhost:8080/"
        },
        "id": "6X0zBRuEfNr8",
        "outputId": "fcae5e6d-b164-4e71-bbef-9fdb296b7d19"
      },
      "source": [
        "c.reshape(3,-2) #Reshape but don't change data"
      ],
      "execution_count": 161,
      "outputs": [
        {
          "output_type": "execute_result",
          "data": {
            "text/plain": [
              "array([[1.5, 2. , 3. , 4. ],\n",
              "       [5. , 6. , 3. , 2. ],\n",
              "       [1. , 4. , 5. , 6. ]])"
            ]
          },
          "metadata": {},
          "execution_count": 161
        }
      ]
    },
    {
      "cell_type": "markdown",
      "metadata": {
        "id": "smZEiFwEf0WW"
      },
      "source": [
        "##Adding/Removing Elements"
      ]
    },
    {
      "cell_type": "code",
      "metadata": {
        "colab": {
          "base_uri": "https://localhost:8080/"
        },
        "id": "3OENnJ52fzrF",
        "outputId": "0d88810f-bb9f-4e86-e911-8f3560e147f9"
      },
      "source": [
        "c"
      ],
      "execution_count": 164,
      "outputs": [
        {
          "output_type": "execute_result",
          "data": {
            "text/plain": [
              "array([[[1.5, 2. , 3. ],\n",
              "        [4. , 5. , 6. ]],\n",
              "\n",
              "       [[3. , 2. , 1. ],\n",
              "        [4. , 5. , 6. ]]])"
            ]
          },
          "metadata": {},
          "execution_count": 164
        }
      ]
    },
    {
      "cell_type": "code",
      "metadata": {
        "colab": {
          "base_uri": "https://localhost:8080/"
        },
        "id": "rjpEJB5_f-8w",
        "outputId": "a4cb6d37-36c7-43f7-a8b6-8b6ce6e835c5"
      },
      "source": [
        "c.resize((2,6)) #Return new array with shape(2,6)\n",
        "c"
      ],
      "execution_count": 167,
      "outputs": [
        {
          "output_type": "execute_result",
          "data": {
            "text/plain": [
              "array([[1.5, 2. , 3. , 4. , 5. , 6. ],\n",
              "       [3. , 2. , 1. , 4. , 5. , 6. ]])"
            ]
          },
          "metadata": {},
          "execution_count": 167
        }
      ]
    },
    {
      "cell_type": "code",
      "metadata": {
        "colab": {
          "base_uri": "https://localhost:8080/"
        },
        "id": "YGcVFi0KgYS7",
        "outputId": "35c3d831-aec9-4508-fb80-778f1a8bf191"
      },
      "source": [
        "h"
      ],
      "execution_count": 168,
      "outputs": [
        {
          "output_type": "execute_result",
          "data": {
            "text/plain": [
              "array([1, 2, 3, 4])"
            ]
          },
          "metadata": {},
          "execution_count": 168
        }
      ]
    },
    {
      "cell_type": "code",
      "metadata": {
        "colab": {
          "base_uri": "https://localhost:8080/"
        },
        "id": "LungmacWgaDx",
        "outputId": "bebe353b-512a-4504-b4d8-18cbfc1eceb4"
      },
      "source": [
        "g"
      ],
      "execution_count": 169,
      "outputs": [
        {
          "output_type": "execute_result",
          "data": {
            "text/plain": [
              "array([1, 3, 2, 6, 5])"
            ]
          },
          "metadata": {},
          "execution_count": 169
        }
      ]
    },
    {
      "cell_type": "code",
      "metadata": {
        "colab": {
          "base_uri": "https://localhost:8080/"
        },
        "id": "5Ni-K8DcgUkQ",
        "outputId": "bfcd0414-abd9-46ff-99f9-a9164897aefc"
      },
      "source": [
        "np.append(h,g) #Appends items to an array"
      ],
      "execution_count": 170,
      "outputs": [
        {
          "output_type": "execute_result",
          "data": {
            "text/plain": [
              "array([1, 2, 3, 4, 1, 3, 2, 6, 5])"
            ]
          },
          "metadata": {},
          "execution_count": 170
        }
      ]
    },
    {
      "cell_type": "code",
      "metadata": {
        "colab": {
          "base_uri": "https://localhost:8080/"
        },
        "id": "EkiHSxr9glPq",
        "outputId": "7c89977b-9717-4cde-f2ec-094f096c0e1d"
      },
      "source": [
        "np.insert(a,1,5) #Insert items in an array"
      ],
      "execution_count": 171,
      "outputs": [
        {
          "output_type": "execute_result",
          "data": {
            "text/plain": [
              "array([1, 5, 2, 3, 4])"
            ]
          },
          "metadata": {},
          "execution_count": 171
        }
      ]
    },
    {
      "cell_type": "code",
      "metadata": {
        "colab": {
          "base_uri": "https://localhost:8080/"
        },
        "id": "yniaHrTpgwME",
        "outputId": "3f46de0c-762d-4fca-bda5-8ccdc9f5ad1e"
      },
      "source": [
        "np.delete(a, [1]) #Delete items from an array"
      ],
      "execution_count": 172,
      "outputs": [
        {
          "output_type": "execute_result",
          "data": {
            "text/plain": [
              "array([1, 3, 4])"
            ]
          },
          "metadata": {},
          "execution_count": 172
        }
      ]
    },
    {
      "cell_type": "markdown",
      "metadata": {
        "id": "AG_ZMEIjg-RD"
      },
      "source": [
        "##Combining arrays"
      ]
    },
    {
      "cell_type": "code",
      "metadata": {
        "colab": {
          "base_uri": "https://localhost:8080/"
        },
        "id": "xBSTY_l3hCec",
        "outputId": "5f3ddc33-1edd-4832-b536-5e0566173f88"
      },
      "source": [
        "np.concatenate((a,d), axis=0) #Concatenate arrays"
      ],
      "execution_count": 173,
      "outputs": [
        {
          "output_type": "execute_result",
          "data": {
            "text/plain": [
              "array([ 1,  2,  3,  4, 10, 15, 20])"
            ]
          },
          "metadata": {},
          "execution_count": 173
        }
      ]
    },
    {
      "cell_type": "code",
      "metadata": {
        "id": "dyQF4L_Rh5to"
      },
      "source": [
        "a = np.array([1, 2, 3])"
      ],
      "execution_count": 188,
      "outputs": []
    },
    {
      "cell_type": "code",
      "metadata": {
        "colab": {
          "base_uri": "https://localhost:8080/"
        },
        "id": "05XSm0dKh63A",
        "outputId": "35b03f19-3d25-47da-9aef-4e636c618259"
      },
      "source": [
        "b"
      ],
      "execution_count": 187,
      "outputs": [
        {
          "output_type": "execute_result",
          "data": {
            "text/plain": [
              "array([[1.5, 2. , 3. ],\n",
              "       [4. , 5. , 6. ]])"
            ]
          },
          "metadata": {},
          "execution_count": 187
        }
      ]
    },
    {
      "cell_type": "code",
      "metadata": {
        "colab": {
          "base_uri": "https://localhost:8080/"
        },
        "id": "1PnrZQY_h0g3",
        "outputId": "4ef9e6c5-6afd-48f7-aee8-c3fd26f3fd72"
      },
      "source": [
        "np.vstack((a, b)) #Stack arrays vertically(row-wise)"
      ],
      "execution_count": 189,
      "outputs": [
        {
          "output_type": "execute_result",
          "data": {
            "text/plain": [
              "array([[1. , 2. , 3. ],\n",
              "       [1.5, 2. , 3. ],\n",
              "       [4. , 5. , 6. ]])"
            ]
          },
          "metadata": {},
          "execution_count": 189
        }
      ]
    },
    {
      "cell_type": "code",
      "metadata": {
        "colab": {
          "base_uri": "https://localhost:8080/"
        },
        "id": "lFwi4V5Ri7kT",
        "outputId": "2a8b943f-7a32-4916-b05a-90b5655ed5ae"
      },
      "source": [
        "print(e)\n",
        "print(f)"
      ],
      "execution_count": 191,
      "outputs": [
        {
          "output_type": "stream",
          "name": "stdout",
          "text": [
            "[[7 7]\n",
            " [7 7]]\n",
            "[[1. 0.]\n",
            " [0. 1.]]\n"
          ]
        }
      ]
    },
    {
      "cell_type": "code",
      "metadata": {
        "colab": {
          "base_uri": "https://localhost:8080/"
        },
        "id": "rCRrI8xgitn_",
        "outputId": "07e8424a-4c2f-4ef2-cf88-b49efa7277e4"
      },
      "source": [
        "np.r_[e,f] #stack arrays vertically (row-wise)"
      ],
      "execution_count": 190,
      "outputs": [
        {
          "output_type": "execute_result",
          "data": {
            "text/plain": [
              "array([[7., 7.],\n",
              "       [7., 7.],\n",
              "       [1., 0.],\n",
              "       [0., 1.]])"
            ]
          },
          "metadata": {},
          "execution_count": 190
        }
      ]
    },
    {
      "cell_type": "code",
      "metadata": {
        "colab": {
          "base_uri": "https://localhost:8080/"
        },
        "id": "53Ah6zW2jJEI",
        "outputId": "e91787f1-e351-4e92-e834-53cebc6e00c0"
      },
      "source": [
        "np.hstack((e,f)) #stack arrays horizontally (column-wise)"
      ],
      "execution_count": 192,
      "outputs": [
        {
          "output_type": "execute_result",
          "data": {
            "text/plain": [
              "array([[7., 7., 1., 0.],\n",
              "       [7., 7., 0., 1.]])"
            ]
          },
          "metadata": {},
          "execution_count": 192
        }
      ]
    },
    {
      "cell_type": "code",
      "metadata": {
        "colab": {
          "base_uri": "https://localhost:8080/"
        },
        "id": "cKxFsXPxjTGp",
        "outputId": "0d3c4797-4061-4d50-8c8b-74b6694dc8e7"
      },
      "source": [
        "np.column_stack((a,d)) #Create stacked column-wise arrays"
      ],
      "execution_count": 193,
      "outputs": [
        {
          "output_type": "execute_result",
          "data": {
            "text/plain": [
              "array([[ 1, 10],\n",
              "       [ 2, 15],\n",
              "       [ 3, 20]])"
            ]
          },
          "metadata": {},
          "execution_count": 193
        }
      ]
    },
    {
      "cell_type": "code",
      "metadata": {
        "colab": {
          "base_uri": "https://localhost:8080/"
        },
        "id": "zBT0vS11jfKe",
        "outputId": "77fff57b-90e5-42f1-ed8f-829cfedd4cc8"
      },
      "source": [
        "np.c_[a,d] #Create stacked column-wise arrays"
      ],
      "execution_count": 195,
      "outputs": [
        {
          "output_type": "execute_result",
          "data": {
            "text/plain": [
              "array([[ 1, 10],\n",
              "       [ 2, 15],\n",
              "       [ 3, 20]])"
            ]
          },
          "metadata": {},
          "execution_count": 195
        }
      ]
    },
    {
      "cell_type": "markdown",
      "metadata": {
        "id": "JdYaV2mPjqeH"
      },
      "source": [
        "##Splitting Arrays"
      ]
    },
    {
      "cell_type": "code",
      "metadata": {
        "colab": {
          "base_uri": "https://localhost:8080/"
        },
        "id": "PQjTbQ4Ujon_",
        "outputId": "2bdda7dd-7414-4a6f-f34d-cca041473cdb"
      },
      "source": [
        "np.hsplit(a,3) #Split the array horizontally at the 3rd index"
      ],
      "execution_count": 196,
      "outputs": [
        {
          "output_type": "execute_result",
          "data": {
            "text/plain": [
              "[array([1]), array([2]), array([3])]"
            ]
          },
          "metadata": {},
          "execution_count": 196
        }
      ]
    },
    {
      "cell_type": "code",
      "metadata": {
        "colab": {
          "base_uri": "https://localhost:8080/"
        },
        "id": "KYUkLyAdj4Ol",
        "outputId": "91225a86-6038-463b-e89f-ab33480177cc"
      },
      "source": [
        "np.vsplit(c, 2) #Split the array vertically at the 2nd index"
      ],
      "execution_count": 198,
      "outputs": [
        {
          "output_type": "execute_result",
          "data": {
            "text/plain": [
              "[array([[1.5, 2. , 3. , 4. , 5. , 6. ]]), array([[3., 2., 1., 4., 5., 6.]])]"
            ]
          },
          "metadata": {},
          "execution_count": 198
        }
      ]
    }
  ]
}