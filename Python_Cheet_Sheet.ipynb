{
  "nbformat": 4,
  "nbformat_minor": 0,
  "metadata": {
    "colab": {
      "name": "Python Cheet Sheet",
      "provenance": [],
      "collapsed_sections": []
    },
    "kernelspec": {
      "name": "python3",
      "display_name": "Python 3"
    },
    "language_info": {
      "name": "python"
    }
  },
  "cells": [
    {
      "cell_type": "markdown",
      "metadata": {
        "id": "x2lj94JyyFee"
      },
      "source": [
        "#Python Cheet Sheet"
      ]
    },
    {
      "cell_type": "markdown",
      "metadata": {
        "id": "YCHXt68yyKaK"
      },
      "source": [
        "##Variables and Strings\n",
        "Variables are used to store values. A string is a series of characters, surrounded by single or double quotes."
      ]
    },
    {
      "cell_type": "code",
      "metadata": {
        "colab": {
          "base_uri": "https://localhost:8080/"
        },
        "id": "b2Uy-E5RxnAX",
        "outputId": "200edd29-adb7-40d3-9073-546bc6dce582"
      },
      "source": [
        "# Hello World!\n",
        "print(\"Hello world!\") "
      ],
      "execution_count": null,
      "outputs": [
        {
          "output_type": "stream",
          "name": "stdout",
          "text": [
            "Hello world!\n"
          ]
        }
      ]
    },
    {
      "cell_type": "code",
      "metadata": {
        "colab": {
          "base_uri": "https://localhost:8080/"
        },
        "id": "nxzR7OM8ybes",
        "outputId": "c869e6d5-fa3a-4610-f7e3-3080c3dce495"
      },
      "source": [
        "#Hello world with variable\n",
        "message = 'Hello World!'\n",
        "print(message)"
      ],
      "execution_count": null,
      "outputs": [
        {
          "output_type": "stream",
          "name": "stdout",
          "text": [
            "Hello World!\n"
          ]
        }
      ]
    },
    {
      "cell_type": "code",
      "metadata": {
        "colab": {
          "base_uri": "https://localhost:8080/"
        },
        "id": "u9sXChnfynyX",
        "outputId": "e74a970a-c6c7-4990-bda2-91401c2457ff"
      },
      "source": [
        "# Concatenation (Combining strings)\n",
        "first_name = 'Uday'\n",
        "last_name = \"Yenneti\"\n",
        "full_name = first_name + ' ' + last_name\n",
        "print(full_name) "
      ],
      "execution_count": null,
      "outputs": [
        {
          "output_type": "stream",
          "name": "stdout",
          "text": [
            "Uday Yenneti\n"
          ]
        }
      ]
    },
    {
      "cell_type": "markdown",
      "metadata": {
        "id": "0jDn4yJizCVI"
      },
      "source": [
        "##Lists\n",
        "A list stores a series of items in a particular order. You access items using an index, or within a loop."
      ]
    },
    {
      "cell_type": "code",
      "metadata": {
        "colab": {
          "base_uri": "https://localhost:8080/"
        },
        "id": "YLWyHcCxy9aj",
        "outputId": "0f9814cc-9bf8-409d-ca7e-393ebd810245"
      },
      "source": [
        "# Make a list\n",
        "cars = ['benz', 'audi', 'tesla']\n",
        "cars"
      ],
      "execution_count": null,
      "outputs": [
        {
          "output_type": "execute_result",
          "data": {
            "text/plain": [
              "['benz', 'audi', 'tesla']"
            ]
          },
          "metadata": {},
          "execution_count": 5
        }
      ]
    },
    {
      "cell_type": "code",
      "metadata": {
        "colab": {
          "base_uri": "https://localhost:8080/",
          "height": 35
        },
        "id": "gkT83a7jzkYh",
        "outputId": "ba58688a-c9e6-4ab6-e53f-0f9bf4615075"
      },
      "source": [
        "# Get first item in the list\n",
        "cars[0]"
      ],
      "execution_count": null,
      "outputs": [
        {
          "output_type": "execute_result",
          "data": {
            "application/vnd.google.colaboratory.intrinsic+json": {
              "type": "string"
            },
            "text/plain": [
              "'benz'"
            ]
          },
          "metadata": {},
          "execution_count": 6
        }
      ]
    },
    {
      "cell_type": "code",
      "metadata": {
        "colab": {
          "base_uri": "https://localhost:8080/",
          "height": 35
        },
        "id": "Ibs5_4Mqz_C2",
        "outputId": "ce8c180b-f63c-4557-f477-1e722e0eda02"
      },
      "source": [
        "# Get last item in the list\n",
        "cars[-1]"
      ],
      "execution_count": null,
      "outputs": [
        {
          "output_type": "execute_result",
          "data": {
            "application/vnd.google.colaboratory.intrinsic+json": {
              "type": "string"
            },
            "text/plain": [
              "'tesla'"
            ]
          },
          "metadata": {},
          "execution_count": 7
        }
      ]
    },
    {
      "cell_type": "code",
      "metadata": {
        "colab": {
          "base_uri": "https://localhost:8080/"
        },
        "id": "V_QFJNFC0FVi",
        "outputId": "938f2712-4c08-4f01-b909-05263a6411a7"
      },
      "source": [
        "#Looping through the list\n",
        "for car in cars:\n",
        "  print(car)"
      ],
      "execution_count": null,
      "outputs": [
        {
          "output_type": "stream",
          "name": "stdout",
          "text": [
            "benz\n",
            "audi\n",
            "tesla\n"
          ]
        }
      ]
    },
    {
      "cell_type": "code",
      "metadata": {
        "colab": {
          "base_uri": "https://localhost:8080/"
        },
        "id": "01pYoh960SuG",
        "outputId": "c26c979b-c2ca-4149-a959-136a258590fa"
      },
      "source": [
        "# Adding items to the list\n",
        "cars.append('honda')\n",
        "cars.append('fiat')\n",
        "cars.append('suzuki')\n",
        "cars"
      ],
      "execution_count": null,
      "outputs": [
        {
          "output_type": "execute_result",
          "data": {
            "text/plain": [
              "['benz', 'audi', 'tesla', 'honda', 'fiat', 'suzuki']"
            ]
          },
          "metadata": {},
          "execution_count": 10
        }
      ]
    },
    {
      "cell_type": "code",
      "metadata": {
        "colab": {
          "base_uri": "https://localhost:8080/"
        },
        "id": "YtL3rkJ-0Mub",
        "outputId": "3fb688d5-a3c8-459b-885d-7bb711b09b0c"
      },
      "source": [
        "# Making numerical lists\n",
        "squares = []\n",
        "for x in range(1,11):\n",
        "  squares.append(x**2) #squaring the numbers from 1 to 10 and adding to the list\n",
        "\n",
        "squares "
      ],
      "execution_count": null,
      "outputs": [
        {
          "output_type": "execute_result",
          "data": {
            "text/plain": [
              "[1, 4, 9, 16, 25, 36, 49, 64, 81, 100]"
            ]
          },
          "metadata": {},
          "execution_count": 11
        }
      ]
    },
    {
      "cell_type": "code",
      "metadata": {
        "colab": {
          "base_uri": "https://localhost:8080/"
        },
        "id": "Yqou6GPq1PB8",
        "outputId": "d88e859e-9e5e-48c4-e90a-57c1ed8225ba"
      },
      "source": [
        "# List Comprehensions\n",
        "squares = [x**2 for x in range(1,11)]\n",
        "squares"
      ],
      "execution_count": null,
      "outputs": [
        {
          "output_type": "execute_result",
          "data": {
            "text/plain": [
              "[1, 4, 9, 16, 25, 36, 49, 64, 81, 100]"
            ]
          },
          "metadata": {},
          "execution_count": 12
        }
      ]
    },
    {
      "cell_type": "code",
      "metadata": {
        "colab": {
          "base_uri": "https://localhost:8080/"
        },
        "id": "GMnZOk8Z1dV2",
        "outputId": "ae3b491a-47fe-4c12-c331-dad1a74fdeec"
      },
      "source": [
        "# Slicing a list\n",
        "cars[:2] #First two items in the list"
      ],
      "execution_count": null,
      "outputs": [
        {
          "output_type": "execute_result",
          "data": {
            "text/plain": [
              "['benz', 'audi']"
            ]
          },
          "metadata": {},
          "execution_count": 13
        }
      ]
    },
    {
      "cell_type": "code",
      "metadata": {
        "colab": {
          "base_uri": "https://localhost:8080/"
        },
        "id": "FHZWpaJD1taU",
        "outputId": "62ca69b6-945f-4a5b-f48c-1ecbebe1e9ae"
      },
      "source": [
        "# copying a list\n",
        "cars_copy = cars[:]\n",
        "cars_copy"
      ],
      "execution_count": null,
      "outputs": [
        {
          "output_type": "execute_result",
          "data": {
            "text/plain": [
              "['benz', 'audi', 'tesla', 'honda', 'fiat', 'suzuki']"
            ]
          },
          "metadata": {},
          "execution_count": 14
        }
      ]
    },
    {
      "cell_type": "markdown",
      "metadata": {
        "id": "p0MHTISyzBn2"
      },
      "source": [
        "##Tuples\n",
        "Tuples are similar to lists, but the items in a tuple can't be modified."
      ]
    },
    {
      "cell_type": "code",
      "metadata": {
        "colab": {
          "base_uri": "https://localhost:8080/"
        },
        "id": "53Rvb11T2BqZ",
        "outputId": "1ff5d43b-9f9f-4479-d617-7e91822b6ca4"
      },
      "source": [
        "# Making a tuple\n",
        "coordinates = (1, 2) #Tuples are immutable\n",
        "coordinates"
      ],
      "execution_count": null,
      "outputs": [
        {
          "output_type": "execute_result",
          "data": {
            "text/plain": [
              "(1, 2)"
            ]
          },
          "metadata": {},
          "execution_count": 16
        }
      ]
    },
    {
      "cell_type": "markdown",
      "metadata": {
        "id": "PkKMD70b2rSN"
      },
      "source": [
        "##If Statement\n",
        "If statements are used to test for particular conditions and respond appropriately.\n"
      ]
    },
    {
      "cell_type": "code",
      "metadata": {
        "id": "7T61H-l72n0G"
      },
      "source": [
        "# Conditional tests \n",
        "equals        x == 42 \n",
        "not equal     x != 42 \n",
        "greater than  x > 42 \n",
        "  or equal to x >= 42 \n",
        "less than     x < 42 \n",
        "  or equal to x <= 42"
      ],
      "execution_count": null,
      "outputs": []
    },
    {
      "cell_type": "code",
      "metadata": {
        "id": "0aXa7tSY3VNl"
      },
      "source": [
        "# Conditional test with lists\n",
        "'benz' in cars\n",
        "'ford' not in cars"
      ],
      "execution_count": null,
      "outputs": []
    },
    {
      "cell_type": "code",
      "metadata": {
        "id": "DSK_ekcCDIao"
      },
      "source": [
        "# Assigning boolean values\n",
        "game_active = True\n",
        "can_edit = False"
      ],
      "execution_count": null,
      "outputs": []
    },
    {
      "cell_type": "code",
      "metadata": {
        "id": "lOVGKAn5DZcO"
      },
      "source": [
        "# A simple if test\n",
        "if age >= 18 :\n",
        "  print(\"You are eligible to vote.\")"
      ],
      "execution_count": null,
      "outputs": []
    },
    {
      "cell_type": "code",
      "metadata": {
        "id": "wNpy_7SJDo0W"
      },
      "source": [
        "# Sample if-elif-else\n",
        "if age <= 5:\n",
        "  ticket_fare = 0\n",
        "elif age < 60 :\n",
        "  ticket_fare = 50\n",
        "else :\n",
        "  ticket_fare = 35"
      ],
      "execution_count": null,
      "outputs": []
    },
    {
      "cell_type": "markdown",
      "metadata": {
        "id": "lY2LW34FEL4G"
      },
      "source": [
        "## Dictionaries\n",
        "Dictionaries store connections between pieces of information. Each item in a dictionary is a key-value pair"
      ]
    },
    {
      "cell_type": "code",
      "metadata": {
        "id": "6YiXKxfWEI7p"
      },
      "source": [
        "# A simple dictionary\n",
        "aliens = {\"color\": 'green', 'points': 5}"
      ],
      "execution_count": 5,
      "outputs": []
    },
    {
      "cell_type": "code",
      "metadata": {
        "colab": {
          "base_uri": "https://localhost:8080/"
        },
        "id": "IvlczZOWEzQU",
        "outputId": "66544978-6555-4172-a63b-af4e0fa0c2e7"
      },
      "source": [
        "# Accessing a value\n",
        "print(\"The alien's color is \"+ aliens[\"color\"])"
      ],
      "execution_count": 6,
      "outputs": [
        {
          "output_type": "stream",
          "name": "stdout",
          "text": [
            "The alien's color is green\n"
          ]
        }
      ]
    },
    {
      "cell_type": "code",
      "metadata": {
        "id": "uVdMzD3DFDjB"
      },
      "source": [
        "# Adding a new key-value pair \n",
        "aliens['x_position'] = 0"
      ],
      "execution_count": 7,
      "outputs": []
    },
    {
      "cell_type": "code",
      "metadata": {
        "colab": {
          "base_uri": "https://localhost:8080/"
        },
        "id": "wmf9YOoNFTTw",
        "outputId": "954f7360-47a0-4039-afc9-5bcca0db9929"
      },
      "source": [
        "# Looping through all keys\n",
        "for alien in aliens.keys():\n",
        "  print(alien + ' is a key in aliens')"
      ],
      "execution_count": 8,
      "outputs": [
        {
          "output_type": "stream",
          "name": "stdout",
          "text": [
            "color is a key in aliens\n",
            "points is a key in aliens\n",
            "x_position is a key in aliens\n"
          ]
        }
      ]
    },
    {
      "cell_type": "code",
      "metadata": {
        "colab": {
          "base_uri": "https://localhost:8080/"
        },
        "id": "KH4umvJnHAVg",
        "outputId": "69c24aac-eef4-4f84-a023-ff8657f1ef14"
      },
      "source": [
        "# Looping through all values\n",
        "for alien in aliens.values():\n",
        "  print(str(alien) + ' is a key in aliens')"
      ],
      "execution_count": 10,
      "outputs": [
        {
          "output_type": "stream",
          "name": "stdout",
          "text": [
            "green is a key in aliens\n",
            "5 is a key in aliens\n",
            "0 is a key in aliens\n"
          ]
        }
      ]
    },
    {
      "cell_type": "markdown",
      "metadata": {
        "id": "kTMwOWytHPG5"
      },
      "source": [
        "## User Input\n",
        "Your programs can prompt the user for input. All input is stored as a string."
      ]
    },
    {
      "cell_type": "code",
      "metadata": {
        "colab": {
          "base_uri": "https://localhost:8080/"
        },
        "id": "a8kNmVPQHODv",
        "outputId": "567db2bf-1536-422c-ad42-0769b918ffc4"
      },
      "source": [
        "# Prompting for a value \n",
        "name = input(\"What's your name? \")\n",
        "print(\"Hello, \"+ name + \"!\")"
      ],
      "execution_count": 11,
      "outputs": [
        {
          "output_type": "stream",
          "name": "stdout",
          "text": [
            "What's your name? Uday\n",
            "Hello, Uday!\n"
          ]
        }
      ]
    },
    {
      "cell_type": "code",
      "metadata": {
        "colab": {
          "base_uri": "https://localhost:8080/"
        },
        "id": "WwZ6a_l_H9JZ",
        "outputId": "511433ee-2896-4096-885e-301c6597997d"
      },
      "source": [
        "# Prompting for numerical input\n",
        "age = int(input(\"How old are you? \"))\n",
        "print(f\"Your age {age}\")\n",
        "\n",
        "pi = float(input(\"what is the value of pi? \"))\n",
        "print(f\"User given value of pi: {pi}\")"
      ],
      "execution_count": 13,
      "outputs": [
        {
          "output_type": "stream",
          "name": "stdout",
          "text": [
            "How old are you? 33\n",
            "Your age 33\n",
            "what is the value of pi? 3.141\n",
            "User given value of pi: 3.141\n"
          ]
        }
      ]
    },
    {
      "cell_type": "markdown",
      "metadata": {
        "id": "Bs2lI-PoIuL1"
      },
      "source": [
        "## While Loops\n",
        "A while loop repeats a block of code as long as a certain condition is true."
      ]
    },
    {
      "cell_type": "code",
      "metadata": {
        "colab": {
          "base_uri": "https://localhost:8080/"
        },
        "id": "gY4_dhlZIskl",
        "outputId": "ada51321-433a-44e9-e35c-77f6f197d27a"
      },
      "source": [
        "# A simple while loop\n",
        "current_value = 1\n",
        "while current_value < 5:\n",
        "  print(current_value)\n",
        "  current_value += 1"
      ],
      "execution_count": 14,
      "outputs": [
        {
          "output_type": "stream",
          "name": "stdout",
          "text": [
            "1\n",
            "2\n",
            "3\n",
            "4\n"
          ]
        }
      ]
    },
    {
      "cell_type": "code",
      "metadata": {
        "colab": {
          "base_uri": "https://localhost:8080/"
        },
        "id": "35rVfEykJfjI",
        "outputId": "ee55ed12-1a36-42b2-e962-578822cd4129"
      },
      "source": [
        "#Letting the user choose when to quit\n",
        "msg = ''\n",
        "while msg != 'quit':\n",
        "  msg = input(\"What's your message? \")\n",
        "  print(msg)"
      ],
      "execution_count": 15,
      "outputs": [
        {
          "output_type": "stream",
          "name": "stdout",
          "text": [
            "What's your message? hi!\n",
            "hi!\n",
            "What's your message? hello\n",
            "hello\n",
            "What's your message? quit\n",
            "quit\n"
          ]
        }
      ]
    },
    {
      "cell_type": "markdown",
      "metadata": {
        "id": "Qm6p5j2aOEDq"
      },
      "source": [
        "##Functions\n",
        "Functions are names blocks of code, designed to do one specific job. Information passed to the function is called an argument, and the information received by the function is called a parameter."
      ]
    },
    {
      "cell_type": "code",
      "metadata": {
        "colab": {
          "base_uri": "https://localhost:8080/"
        },
        "id": "cCcmC6r_J3Te",
        "outputId": "d545bf3c-0482-4c4c-843f-4f7bdeb4f102"
      },
      "source": [
        "# A simple function\n",
        "def great_user() :\n",
        "  \"\"\"Displaying a simple greeting.\"\"\"\n",
        "  print(\"Hello!\")\n",
        "\n",
        "great_user()"
      ],
      "execution_count": 16,
      "outputs": [
        {
          "output_type": "stream",
          "name": "stdout",
          "text": [
            "Hello!\n"
          ]
        }
      ]
    },
    {
      "cell_type": "code",
      "metadata": {
        "colab": {
          "base_uri": "https://localhost:8080/"
        },
        "id": "i6XngdBaO5cF",
        "outputId": "ce2eb8b7-7f84-437e-c192-6af774034e1b"
      },
      "source": [
        "# Passing an argument\n",
        "def great_user(name) :\n",
        "  \"\"\"Displaying a simple greeting.\"\"\"\n",
        "  print(f\"Hello {name}!\")\n",
        "\n",
        "great_user(\"Uday\")"
      ],
      "execution_count": 17,
      "outputs": [
        {
          "output_type": "stream",
          "name": "stdout",
          "text": [
            "Hello! Uday\n"
          ]
        }
      ]
    },
    {
      "cell_type": "code",
      "metadata": {
        "colab": {
          "base_uri": "https://localhost:8080/"
        },
        "id": "_oYIDadrPGej",
        "outputId": "e770b0b4-d8cf-481e-aaca-a0c9cd30463f"
      },
      "source": [
        "# Default values for parameters\n",
        "def make_pizza(topping = \"chicken\"):\n",
        "  \"\"\"Make a single-topping pizza.\"\"\"\n",
        "  print(f\"Have a {topping} pizza!\")\n",
        "\n",
        "make_pizza()\n",
        "make_pizza(\"pepperoni\")"
      ],
      "execution_count": 18,
      "outputs": [
        {
          "output_type": "stream",
          "name": "stdout",
          "text": [
            "Have a chicken pizza!\n",
            "Have a pepperoni pizza!\n"
          ]
        }
      ]
    },
    {
      "cell_type": "code",
      "metadata": {
        "colab": {
          "base_uri": "https://localhost:8080/"
        },
        "id": "uZ-PHSxzQUCA",
        "outputId": "07db114f-5044-4ab8-840b-418daa115300"
      },
      "source": [
        "# Returning a value\n",
        "def add_numbers(x, y):\n",
        "  \"\"\"Add two numbers and return the sum.\"\"\"\n",
        "  return x+y\n",
        "\n",
        "print(add_numbers(4, 6))"
      ],
      "execution_count": 19,
      "outputs": [
        {
          "output_type": "stream",
          "name": "stdout",
          "text": [
            "10\n"
          ]
        }
      ]
    },
    {
      "cell_type": "markdown",
      "metadata": {
        "id": "Ov2Fl-CmRKqE"
      },
      "source": [
        "##Classes\n",
        "A class defines the behaviour of an object and the kind of information an object can store. the information in a class is stored in attributes, and functions that belong to a class are called methods. A child class inherits the attributes and methods from its parent class."
      ]
    },
    {
      "cell_type": "code",
      "metadata": {
        "colab": {
          "base_uri": "https://localhost:8080/"
        },
        "id": "EokA_Ql0TFpU",
        "outputId": "34b23517-6e04-454e-eea1-7df91e5b40b7"
      },
      "source": [
        "# Creating a dog class\n",
        "class Dog():\n",
        "  \"\"\"Represent a dog.\"\"\"\n",
        "  def __init__(self, name):\n",
        "    \"\"\"Initialize dog object.\"\"\"\n",
        "    self.name = name\n",
        "  \n",
        "  def sit(self):\n",
        "    \"\"\"Simulate sitting.\"\"\"\n",
        "    print(f\"{self.name} is sitting.\")\n",
        "\n",
        "my_dog = Dog(\"Ludo\")\n",
        "print(f\"{my_dog.name} is a great dog!\")\n",
        "my_dog.sit()"
      ],
      "execution_count": 20,
      "outputs": [
        {
          "output_type": "stream",
          "name": "stdout",
          "text": [
            "Ludo is a great dog!\n",
            "Ludo is sitting.\n"
          ]
        }
      ]
    },
    {
      "cell_type": "code",
      "metadata": {
        "colab": {
          "base_uri": "https://localhost:8080/"
        },
        "id": "4Cc5h3g2UEOi",
        "outputId": "adc55690-7b32-4b90-99e5-837d938efc08"
      },
      "source": [
        "# Inheritance\n",
        "class SARDog(Dog):\n",
        "  # Represent a search dog.\n",
        "  def __init__(self, name):\n",
        "    # Initialize the sardog.\n",
        "    super().__init__(name)\n",
        "  \n",
        "  def search(self):\n",
        "    # Simulate searching\n",
        "    print(f\"{self.name} is searching.\")\n",
        "  \n",
        "my_dog = SARDog(\"Scooby\")\n",
        "\n",
        "print(f\"{my_dog.name} is a search dog.\")\n",
        "my_dog.sit()\n",
        "my_dog.search()"
      ],
      "execution_count": 22,
      "outputs": [
        {
          "output_type": "stream",
          "name": "stdout",
          "text": [
            "Scooby is a search dog.\n",
            "Scooby is sitting.\n",
            "Scooby is searching.\n"
          ]
        }
      ]
    },
    {
      "cell_type": "markdown",
      "metadata": {
        "id": "XbEaKaWtVtB7"
      },
      "source": [
        "## Infinite Skills\n",
        "**If you had infinite programming skills, what would you build?**\n",
        "\n",
        "As you're learning to program, it's helpful to think about the real-world projects you'd like to create. It's a good habit to keep an \"ideas\" notebook that you can refer to whenever you want to start a new project. If you haven't done so already, take a few minutes and descrive three projects you'd like to create."
      ]
    },
    {
      "cell_type": "markdown",
      "metadata": {
        "id": "L9H9XdruXIS0"
      },
      "source": [
        "## Working with files\n",
        "Your programs can read from files and write to files. Files are opened in read mode ('r') by default, but can also be opened in write mode ('w') and append mode ('a')."
      ]
    },
    {
      "cell_type": "code",
      "metadata": {
        "id": "3uB-Zv_zYgma"
      },
      "source": [
        "# Write to a file\n",
        "filename = 'test.txt'\n",
        "with open(filename, 'w+') as file_object:\n",
        "  file_object.write(\"I love programming.\")"
      ],
      "execution_count": 24,
      "outputs": []
    },
    {
      "cell_type": "code",
      "metadata": {
        "colab": {
          "base_uri": "https://localhost:8080/"
        },
        "id": "njQkzWoFV1bH",
        "outputId": "4c8d4db8-732a-4874-966f-9a351dc26c29"
      },
      "source": [
        "# Reading a file storing its lines\n",
        "with open(filename) as file_object:\n",
        "  lines = file_object.readlines()\n",
        "\n",
        "for line in lines:\n",
        "  print(line)"
      ],
      "execution_count": 27,
      "outputs": [
        {
          "output_type": "stream",
          "name": "stdout",
          "text": [
            "I love programming.\n",
            "\n",
            "I love making games.\n"
          ]
        }
      ]
    },
    {
      "cell_type": "code",
      "metadata": {
        "id": "20RkTtQBY_-w"
      },
      "source": [
        "#Appending to a file\n",
        "with open(filename, 'a') as file_object:\n",
        "  file_object.write(\"\\nI love making games.\")"
      ],
      "execution_count": 26,
      "outputs": []
    },
    {
      "cell_type": "markdown",
      "metadata": {
        "id": "2sH7013zZV_N"
      },
      "source": [
        "##Exceptions\n",
        "Exceptions help you respond appropriately to errors that are likely to occur. You place code that might cause an error in the try block. Code that should run in rsponse to an error goes in the except block. Code that should run only if the try block was successful goes in the else block."
      ]
    },
    {
      "cell_type": "code",
      "metadata": {
        "colab": {
          "base_uri": "https://localhost:8080/"
        },
        "id": "fxJcATGpZ0pZ",
        "outputId": "13553f47-a323-4b52-d1b0-3e89651122a4"
      },
      "source": [
        "#Catching an exception\n",
        "prompt = \"How much tickets do you need?\"\n",
        "num_tickets = input(prompt)\n",
        "\n",
        "try:\n",
        "  num_tickets = int(num_tickets)\n",
        "except ValueError:\n",
        "  print(\"Please try again.\")\n",
        "else :\n",
        "  print(\"Your tickets are printing.\")"
      ],
      "execution_count": 29,
      "outputs": [
        {
          "output_type": "stream",
          "name": "stdout",
          "text": [
            "How much tickets do you need?5\n",
            "Your tickets are printing.\n"
          ]
        }
      ]
    },
    {
      "cell_type": "markdown",
      "metadata": {
        "id": "zr-ZeHI7aW_-"
      },
      "source": [
        "##Zen of Python\n",
        "**Simple is better than complex**\n",
        "\n",
        "If you have a choice between a simple and a complex solution, and both work, use the simple solution. Your code will be easier to maintain, and it will be easier for you and others to build on that code later on."
      ]
    },
    {
      "cell_type": "markdown",
      "metadata": {
        "id": "B9CiPK-Aa1r6"
      },
      "source": [
        "##What are lists?\n",
        "A list stores a series of items in a particular order. Lists allow you to store sets of information in one place, whether you have just a few items or millinons of items. Lists are one of Python's most powerful features readily accessible to new programmers, and they tie together many important concepts in programming."
      ]
    },
    {
      "cell_type": "markdown",
      "metadata": {
        "id": "4fXGRc9Uc2tG"
      },
      "source": [
        "## Defining a list\n",
        "Use square brackets to define a list, and use commas to separate individual items in the list. Use plural names for lists, to make your easier to read."
      ]
    },
    {
      "cell_type": "code",
      "metadata": {
        "id": "Y4A6s233ctPE"
      },
      "source": [
        "# Making a list\n",
        "users = [\"Uday\", \"Bhaskar\", \"Santosh\", \"Kumar\"]"
      ],
      "execution_count": 30,
      "outputs": []
    },
    {
      "cell_type": "markdown",
      "metadata": {
        "id": "eE5sw4XXduJi"
      },
      "source": [
        "##Accessing elements\n",
        "Individual elements in a list are accessed according to their position, called the index. The index of the first element is 0, the index of the second element is 1, and so forth. Negative indices refer to items at the end of the list. To get a particular element, write the name of the list and then the index of the element in square brackets."
      ]
    },
    {
      "cell_type": "code",
      "metadata": {
        "colab": {
          "base_uri": "https://localhost:8080/"
        },
        "id": "55wX4twoeQoB",
        "outputId": "52c233d8-4e16-41c2-83ba-96c38c7111fa"
      },
      "source": [
        "#Getting the first element\n",
        "first_user = users[0]\n",
        "print(first_user)"
      ],
      "execution_count": 32,
      "outputs": [
        {
          "output_type": "stream",
          "name": "stdout",
          "text": [
            "Uday\n"
          ]
        }
      ]
    },
    {
      "cell_type": "code",
      "metadata": {
        "colab": {
          "base_uri": "https://localhost:8080/"
        },
        "id": "htDzE7Mgeaw0",
        "outputId": "0b57a8fb-e314-4d4c-819b-20dcf299ca31"
      },
      "source": [
        "#Getting the second element\n",
        "second_user = users[1]\n",
        "print(second_user)"
      ],
      "execution_count": 34,
      "outputs": [
        {
          "output_type": "stream",
          "name": "stdout",
          "text": [
            "Bhaskar\n"
          ]
        }
      ]
    },
    {
      "cell_type": "code",
      "metadata": {
        "colab": {
          "base_uri": "https://localhost:8080/"
        },
        "id": "sU76Fzd1epQT",
        "outputId": "1b7fe381-6b72-4302-a6ad-935d7093b2a7"
      },
      "source": [
        "#Getting the last element\n",
        "last_user = users[-1]\n",
        "print(last_user)"
      ],
      "execution_count": 35,
      "outputs": [
        {
          "output_type": "stream",
          "name": "stdout",
          "text": [
            "Kumar\n"
          ]
        }
      ]
    },
    {
      "cell_type": "markdown",
      "metadata": {
        "id": "GRokeSgEeu1W"
      },
      "source": [
        "##Modifying individual items\n",
        "Once your've defined a list, you can change individual elements in the list. You do this by referring to the index of the item you want to modify."
      ]
    },
    {
      "cell_type": "code",
      "metadata": {
        "id": "iXTc6EwDe_2X"
      },
      "source": [
        "#Changing an element\n",
        "users[0] = \"Sarvani\"\n",
        "users[-2] = \"Shaurya\""
      ],
      "execution_count": 36,
      "outputs": []
    },
    {
      "cell_type": "markdown",
      "metadata": {
        "id": "ufA3T3JBfUU9"
      },
      "source": [
        "## Adding elements\n",
        "You can add elements to the end of a list, or you can insert them wherever you like in a list."
      ]
    },
    {
      "cell_type": "code",
      "metadata": {
        "colab": {
          "base_uri": "https://localhost:8080/"
        },
        "id": "ft2tZ3OHfJKJ",
        "outputId": "2605233c-dc65-4ecd-93be-b5eca200a499"
      },
      "source": [
        "# Adding an element to the end of the list\n",
        "users.append(\"Prasanna\")\n",
        "users"
      ],
      "execution_count": 37,
      "outputs": [
        {
          "output_type": "execute_result",
          "data": {
            "text/plain": [
              "['Sarvani', 'Bhaskar', 'Shaurya', 'Kumar', 'Prasanna']"
            ]
          },
          "metadata": {},
          "execution_count": 37
        }
      ]
    },
    {
      "cell_type": "code",
      "metadata": {
        "colab": {
          "base_uri": "https://localhost:8080/"
        },
        "id": "BK3QrzKhfsPi",
        "outputId": "f27ec7f4-b66e-43dc-fff0-8d8425637541"
      },
      "source": [
        "# Starting with an empty list\n",
        "animals = []\n",
        "animals.append(\"dog\")\n",
        "animals.append(\"cat\")\n",
        "animals.append(\"cow\")\n",
        "animals"
      ],
      "execution_count": 38,
      "outputs": [
        {
          "output_type": "execute_result",
          "data": {
            "text/plain": [
              "['dog', 'cat', 'cow']"
            ]
          },
          "metadata": {},
          "execution_count": 38
        }
      ]
    },
    {
      "cell_type": "code",
      "metadata": {
        "colab": {
          "base_uri": "https://localhost:8080/"
        },
        "id": "ZFeQLx7Sgygb",
        "outputId": "35585957-78fc-45a7-d260-9383d2507f85"
      },
      "source": [
        "# Inserting elements at a particular position\n",
        "animals.insert(0, 'horse')\n",
        "animals.insert(3, 'bull')\n",
        "animals"
      ],
      "execution_count": 39,
      "outputs": [
        {
          "output_type": "execute_result",
          "data": {
            "text/plain": [
              "['horse', 'dog', 'cat', 'bull', 'cow']"
            ]
          },
          "metadata": {},
          "execution_count": 39
        }
      ]
    },
    {
      "cell_type": "markdown",
      "metadata": {
        "id": "zDPS7xzPhLYP"
      },
      "source": [
        "## Removing elements\n",
        "You can remove elements by their position in a list, or by the value of the item. If you remove an item by its value, Python removes only the first item that has the value."
      ]
    },
    {
      "cell_type": "code",
      "metadata": {
        "colab": {
          "base_uri": "https://localhost:8080/"
        },
        "id": "O9WTJvEah0Ny",
        "outputId": "9dafa8fe-983d-4baa-dc46-d74c84fee9d2"
      },
      "source": [
        "# Deleting an element by its position\n",
        "del animals[-1]\n",
        "animals"
      ],
      "execution_count": 40,
      "outputs": [
        {
          "output_type": "execute_result",
          "data": {
            "text/plain": [
              "['horse', 'dog', 'cat', 'bull']"
            ]
          },
          "metadata": {},
          "execution_count": 40
        }
      ]
    },
    {
      "cell_type": "code",
      "metadata": {
        "colab": {
          "base_uri": "https://localhost:8080/"
        },
        "id": "iD-Kq0kdh-tV",
        "outputId": "1e5b01e6-aa36-4038-cf84-e501ec2d5b9b"
      },
      "source": [
        "animals.remove('bull')\n",
        "animals"
      ],
      "execution_count": 41,
      "outputs": [
        {
          "output_type": "execute_result",
          "data": {
            "text/plain": [
              "['horse', 'dog', 'cat']"
            ]
          },
          "metadata": {},
          "execution_count": 41
        }
      ]
    },
    {
      "cell_type": "markdown",
      "metadata": {
        "id": "SqTZPDcaiGfw"
      },
      "source": [
        "##List length\n",
        "the len() function returns the number of items in a list."
      ]
    },
    {
      "cell_type": "code",
      "metadata": {
        "colab": {
          "base_uri": "https://localhost:8080/"
        },
        "id": "Ou7w1og_iPn0",
        "outputId": "46dd1a69-b0f7-401f-9346-96a403fecf4d"
      },
      "source": [
        "# Find the length of a list\n",
        "num_animals = len(animals)\n",
        "print(f\"We have {str(num_animals)} animals in the list.\")"
      ],
      "execution_count": 43,
      "outputs": [
        {
          "output_type": "stream",
          "name": "stdout",
          "text": [
            "We have 3 animals in the list.\n"
          ]
        }
      ]
    },
    {
      "cell_type": "markdown",
      "metadata": {
        "id": "s96aK2IviuqO"
      },
      "source": [
        "## Sorting a list\n",
        "The sort() method changes the order of a list permanently. The sorted() function retuns a copy of the list, leaving the original list unchanged. You can sort the items in a list in alphabeticla order or reverse alphabetical order. You can also reverse the original order of the list. Keep in mind that lowercase and uppercase letters may affect the sort order."
      ]
    },
    {
      "cell_type": "code",
      "metadata": {
        "colab": {
          "base_uri": "https://localhost:8080/"
        },
        "id": "zLhwlwb_j3QB",
        "outputId": "90d642d7-04e8-4dad-df84-128b9d86973b"
      },
      "source": [
        "#Sorting a list permanently\n",
        "animals.sort()\n",
        "animals"
      ],
      "execution_count": 45,
      "outputs": [
        {
          "output_type": "execute_result",
          "data": {
            "text/plain": [
              "['cat', 'dog', 'horse']"
            ]
          },
          "metadata": {},
          "execution_count": 45
        }
      ]
    },
    {
      "cell_type": "code",
      "metadata": {
        "colab": {
          "base_uri": "https://localhost:8080/"
        },
        "id": "KCKJbhm_j-1c",
        "outputId": "685fd949-c380-4e6f-c649-687508a8519e"
      },
      "source": [
        "#Sorting a list permanently in reverse alphabetical order\n",
        "animals.sort(reverse=True)\n",
        "animals"
      ],
      "execution_count": 46,
      "outputs": [
        {
          "output_type": "execute_result",
          "data": {
            "text/plain": [
              "['horse', 'dog', 'cat']"
            ]
          },
          "metadata": {},
          "execution_count": 46
        }
      ]
    },
    {
      "cell_type": "code",
      "metadata": {
        "colab": {
          "base_uri": "https://localhost:8080/"
        },
        "id": "l--FfjrSkMA7",
        "outputId": "58cf8ccc-0e92-4ad8-830a-32c4010cbe2f"
      },
      "source": [
        "# Reversing the order of a list\n",
        "animals.reverse()\n",
        "animals"
      ],
      "execution_count": 48,
      "outputs": [
        {
          "output_type": "execute_result",
          "data": {
            "text/plain": [
              "['horse', 'dog', 'cat']"
            ]
          },
          "metadata": {},
          "execution_count": 48
        }
      ]
    },
    {
      "cell_type": "markdown",
      "metadata": {
        "id": "ed2BIwCfkoYc"
      },
      "source": [
        "## Looping through a list\n",
        "Lists can contain millions of items, so Python provides an efficient way to loop through all the items in a list. When you set up a loop, Python pulls each item from the list one at a time and stores it in a temporary variable, which you provide a name for. This name should be the singular version of the list name.\n",
        "The indented block of code makes up the body of the loop, where you can work with each individual item. Any lines that are not indented run after the loop is completed."
      ]
    },
    {
      "cell_type": "code",
      "metadata": {
        "colab": {
          "base_uri": "https://localhost:8080/"
        },
        "id": "j0OIKVOVlfTt",
        "outputId": "b6d359d0-76a2-4752-c165-dfbabbd674aa"
      },
      "source": [
        "# Printing all items in a list\n",
        "for user in users:\n",
        "  print(user)"
      ],
      "execution_count": 49,
      "outputs": [
        {
          "output_type": "stream",
          "name": "stdout",
          "text": [
            "Sarvani\n",
            "Bhaskar\n",
            "Shaurya\n",
            "Kumar\n",
            "Prasanna\n"
          ]
        }
      ]
    },
    {
      "cell_type": "code",
      "metadata": {
        "colab": {
          "base_uri": "https://localhost:8080/"
        },
        "id": "6Kik0Z9Dll7x",
        "outputId": "5cabe22b-f5e8-4aff-e43a-c0741b595934"
      },
      "source": [
        "# Printing a message for each item, and a separate message afterwards\n",
        "for user in users:\n",
        "  print(f\"Welcome, {user}!\")\n",
        "print(\"Welcome, we're gald to see you all!\")"
      ],
      "execution_count": 50,
      "outputs": [
        {
          "output_type": "stream",
          "name": "stdout",
          "text": [
            "Welcome, Sarvani!\n",
            "Welcome, Bhaskar!\n",
            "Welcome, Shaurya!\n",
            "Welcome, Kumar!\n",
            "Welcome, Prasanna!\n",
            "Welcome, we're gald to see you all!\n"
          ]
        }
      ]
    },
    {
      "cell_type": "markdown",
      "metadata": {
        "id": "QQKfpCrKmC_c"
      },
      "source": [
        "## The range() function\n",
        "You can use the range() function to work with a set of numbers efficiently. The range() function starts at 0 by default, and stops one number below the number passed to it. You can use the list() function to efficiently generate a large list of numbers."
      ]
    },
    {
      "cell_type": "code",
      "metadata": {
        "colab": {
          "base_uri": "https://localhost:8080/"
        },
        "id": "OIbGibcfmfap",
        "outputId": "83e07313-5bbd-449f-d102-4c3b99ee2adb"
      },
      "source": [
        "# Printing the numbers 0 to 10\n",
        "for number in range(11):\n",
        "  print(number)"
      ],
      "execution_count": 52,
      "outputs": [
        {
          "output_type": "stream",
          "name": "stdout",
          "text": [
            "0\n",
            "1\n",
            "2\n",
            "3\n",
            "4\n",
            "5\n",
            "6\n",
            "7\n",
            "8\n",
            "9\n",
            "10\n"
          ]
        }
      ]
    },
    {
      "cell_type": "code",
      "metadata": {
        "colab": {
          "base_uri": "https://localhost:8080/"
        },
        "id": "Tr5S5V3LmvGg",
        "outputId": "95522ea0-2c72-4971-f381-7bd011f77052"
      },
      "source": [
        "# Printing the numbers 1 to 10\n",
        "for number in range(1, 11):\n",
        "  print(number)"
      ],
      "execution_count": 53,
      "outputs": [
        {
          "output_type": "stream",
          "name": "stdout",
          "text": [
            "1\n",
            "2\n",
            "3\n",
            "4\n",
            "5\n",
            "6\n",
            "7\n",
            "8\n",
            "9\n",
            "10\n"
          ]
        }
      ]
    },
    {
      "cell_type": "code",
      "metadata": {
        "colab": {
          "base_uri": "https://localhost:8080/"
        },
        "id": "AMRVIp2Oms3c",
        "outputId": "45f7cd6b-5829-4327-bdf5-1f15653bdd24"
      },
      "source": [
        "# Making a list of numbers from 1 to 100\n",
        "numbers = list(range(1, 101))\n",
        "numbers"
      ],
      "execution_count": 56,
      "outputs": [
        {
          "output_type": "execute_result",
          "data": {
            "text/plain": [
              "[1,\n",
              " 2,\n",
              " 3,\n",
              " 4,\n",
              " 5,\n",
              " 6,\n",
              " 7,\n",
              " 8,\n",
              " 9,\n",
              " 10,\n",
              " 11,\n",
              " 12,\n",
              " 13,\n",
              " 14,\n",
              " 15,\n",
              " 16,\n",
              " 17,\n",
              " 18,\n",
              " 19,\n",
              " 20,\n",
              " 21,\n",
              " 22,\n",
              " 23,\n",
              " 24,\n",
              " 25,\n",
              " 26,\n",
              " 27,\n",
              " 28,\n",
              " 29,\n",
              " 30,\n",
              " 31,\n",
              " 32,\n",
              " 33,\n",
              " 34,\n",
              " 35,\n",
              " 36,\n",
              " 37,\n",
              " 38,\n",
              " 39,\n",
              " 40,\n",
              " 41,\n",
              " 42,\n",
              " 43,\n",
              " 44,\n",
              " 45,\n",
              " 46,\n",
              " 47,\n",
              " 48,\n",
              " 49,\n",
              " 50,\n",
              " 51,\n",
              " 52,\n",
              " 53,\n",
              " 54,\n",
              " 55,\n",
              " 56,\n",
              " 57,\n",
              " 58,\n",
              " 59,\n",
              " 60,\n",
              " 61,\n",
              " 62,\n",
              " 63,\n",
              " 64,\n",
              " 65,\n",
              " 66,\n",
              " 67,\n",
              " 68,\n",
              " 69,\n",
              " 70,\n",
              " 71,\n",
              " 72,\n",
              " 73,\n",
              " 74,\n",
              " 75,\n",
              " 76,\n",
              " 77,\n",
              " 78,\n",
              " 79,\n",
              " 80,\n",
              " 81,\n",
              " 82,\n",
              " 83,\n",
              " 84,\n",
              " 85,\n",
              " 86,\n",
              " 87,\n",
              " 88,\n",
              " 89,\n",
              " 90,\n",
              " 91,\n",
              " 92,\n",
              " 93,\n",
              " 94,\n",
              " 95,\n",
              " 96,\n",
              " 97,\n",
              " 98,\n",
              " 99,\n",
              " 100]"
            ]
          },
          "metadata": {},
          "execution_count": 56
        }
      ]
    },
    {
      "cell_type": "markdown",
      "metadata": {
        "id": "8ggUqSXinN9U"
      },
      "source": [
        "##Simple statistics\n",
        "There are a number of simple statistics you can run on a list containing numerical data."
      ]
    },
    {
      "cell_type": "code",
      "metadata": {
        "colab": {
          "base_uri": "https://localhost:8080/"
        },
        "id": "ZLNRDup2nZK-",
        "outputId": "4f139b53-e49b-4503-e71e-9b7281bcb22e"
      },
      "source": [
        "# Finding the minimum value in a list\n",
        "ages = [22, 33, 23, 12, 65, 38, 72, 2, 30]\n",
        "youngest = min(ages)\n",
        "print(youngest)"
      ],
      "execution_count": 58,
      "outputs": [
        {
          "output_type": "stream",
          "name": "stdout",
          "text": [
            "2\n"
          ]
        }
      ]
    },
    {
      "cell_type": "code",
      "metadata": {
        "colab": {
          "base_uri": "https://localhost:8080/"
        },
        "id": "7MEKyzBwnuHG",
        "outputId": "6b7cd9d9-1e18-4e90-e4dc-d53b53028472"
      },
      "source": [
        "# Finding the maximum value in a list\n",
        "ages = [22, 33, 23, 12, 65, 38, 72, 2, 30]\n",
        "oldest = max(ages)\n",
        "print(oldest)"
      ],
      "execution_count": 59,
      "outputs": [
        {
          "output_type": "stream",
          "name": "stdout",
          "text": [
            "72\n"
          ]
        }
      ]
    },
    {
      "cell_type": "code",
      "metadata": {
        "colab": {
          "base_uri": "https://localhost:8080/"
        },
        "id": "wTrMIPKjn5jo",
        "outputId": "c33ead5f-2e9d-4d70-c267-fd92813c17db"
      },
      "source": [
        "# Finding the sum of all values\n",
        "total_ages = sum(ages)\n",
        "total_ages"
      ],
      "execution_count": 60,
      "outputs": [
        {
          "output_type": "execute_result",
          "data": {
            "text/plain": [
              "297"
            ]
          },
          "metadata": {},
          "execution_count": 60
        }
      ]
    },
    {
      "cell_type": "markdown",
      "metadata": {
        "id": "ILFpjSeloJO3"
      },
      "source": [
        "## Slicing a list\n",
        "You can work with any set of elements from a list. A protion of a list is called a slice. To slice a list start with the index of the first item you want, then add a colon and the index after the last item you want. Leave off the first index to start at the beginning of the list, and leave off the last index of slice through the end of the list."
      ]
    },
    {
      "cell_type": "code",
      "metadata": {
        "colab": {
          "base_uri": "https://localhost:8080/"
        },
        "id": "zwTtEXsqo5-X",
        "outputId": "4038095d-2024-4cc1-c9aa-7faf4e0c0343"
      },
      "source": [
        "# Getting the first three items\n",
        "finishers = ['kai', 'abe', 'ada', 'gus', 'zoe']\n",
        "first_three = finishers[:3]\n",
        "first_three"
      ],
      "execution_count": 62,
      "outputs": [
        {
          "output_type": "execute_result",
          "data": {
            "text/plain": [
              "['kai', 'abe', 'ada']"
            ]
          },
          "metadata": {},
          "execution_count": 62
        }
      ]
    },
    {
      "cell_type": "code",
      "metadata": {
        "colab": {
          "base_uri": "https://localhost:8080/"
        },
        "id": "VoYbizwcpYT7",
        "outputId": "aaf88e6e-0fd5-4912-e950-9f94481797a9"
      },
      "source": [
        "# Getting the middle three items\n",
        "middle_three = finishers[1:4]\n",
        "middle_three"
      ],
      "execution_count": 63,
      "outputs": [
        {
          "output_type": "execute_result",
          "data": {
            "text/plain": [
              "['abe', 'ada', 'gus']"
            ]
          },
          "metadata": {},
          "execution_count": 63
        }
      ]
    },
    {
      "cell_type": "code",
      "metadata": {
        "colab": {
          "base_uri": "https://localhost:8080/"
        },
        "id": "oRUWkhDAptaj",
        "outputId": "5694d76a-0ed6-416d-fff4-b363825963fe"
      },
      "source": [
        "# Gettnig the last three items\n",
        "last_three = finishers[-3:]\n",
        "last_three"
      ],
      "execution_count": 64,
      "outputs": [
        {
          "output_type": "execute_result",
          "data": {
            "text/plain": [
              "['ada', 'gus', 'zoe']"
            ]
          },
          "metadata": {},
          "execution_count": 64
        }
      ]
    },
    {
      "cell_type": "markdown",
      "metadata": {
        "id": "i0gZf_pjqIQY"
      },
      "source": [
        "## Copying a list\n",
        "To copy a list make a slice that starts at the first item and ends at the last item. If you try to copy a list without using this approach, whatever you do to the copied list will affect the original list as well."
      ]
    },
    {
      "cell_type": "code",
      "metadata": {
        "colab": {
          "base_uri": "https://localhost:8080/"
        },
        "id": "YpyZXamHp-_l",
        "outputId": "a67a8f76-5b17-4b92-b25e-f6573dedfaec"
      },
      "source": [
        "copy_of_finishers = finishers[:]\n",
        "copy_of_finishers"
      ],
      "execution_count": 65,
      "outputs": [
        {
          "output_type": "execute_result",
          "data": {
            "text/plain": [
              "['kai', 'abe', 'ada', 'gus', 'zoe']"
            ]
          },
          "metadata": {},
          "execution_count": 65
        }
      ]
    },
    {
      "cell_type": "markdown",
      "metadata": {
        "id": "MV0QoV3nqeUj"
      },
      "source": [
        "## List comprehensions\n",
        "You can use a loop to generate a list based on a range of numbers or on another list. This is a common operation, so Python offers a more efficient way to do it. List comprehensions may look complicated at first; if so, use the for loop approach until you're ready to start using comprehensions.\n",
        "To write a comprehension, define an expression for the values you want to store in the list. Then write a for loop to generate input values needed to make the list."
      ]
    },
    {
      "cell_type": "code",
      "metadata": {
        "colab": {
          "base_uri": "https://localhost:8080/"
        },
        "id": "Lu27h--Dqd1a",
        "outputId": "0454d536-b59e-45f5-94fe-32a309d0699b"
      },
      "source": [
        "# Using a loop to generate a list of square numbers\n",
        "squares = []\n",
        "for x in range (1, 11):\n",
        "  square = x**2\n",
        "  squares.append(square)\n",
        "squares"
      ],
      "execution_count": 66,
      "outputs": [
        {
          "output_type": "execute_result",
          "data": {
            "text/plain": [
              "[1, 4, 9, 16, 25, 36, 49, 64, 81, 100]"
            ]
          },
          "metadata": {},
          "execution_count": 66
        }
      ]
    },
    {
      "cell_type": "code",
      "metadata": {
        "colab": {
          "base_uri": "https://localhost:8080/"
        },
        "id": "47mCIIpKtelI",
        "outputId": "cab02e78-d487-4f1f-e010-b8b29479d63b"
      },
      "source": [
        "# Using a comprehension to generate a list of square numbers\n",
        "squares = [x**2 for x in range(1, 11)]\n",
        "squares"
      ],
      "execution_count": 67,
      "outputs": [
        {
          "output_type": "execute_result",
          "data": {
            "text/plain": [
              "[1, 4, 9, 16, 25, 36, 49, 64, 81, 100]"
            ]
          },
          "metadata": {},
          "execution_count": 67
        }
      ]
    },
    {
      "cell_type": "code",
      "metadata": {
        "colab": {
          "base_uri": "https://localhost:8080/"
        },
        "id": "NZeL6a14tscS",
        "outputId": "2d1aa0e5-b792-430b-edf2-8b985e2635ad"
      },
      "source": [
        "# Using a loop to convert a list of names to Upper case\n",
        "names = ['kai', 'abe', 'ada', 'gus', 'zoe']\n",
        "\n",
        "upper_case_names = []\n",
        "for name in names:\n",
        "  upper_case_names.append(name.upper())\n",
        "\n",
        "upper_case_names"
      ],
      "execution_count": 69,
      "outputs": [
        {
          "output_type": "execute_result",
          "data": {
            "text/plain": [
              "['KAI', 'ABE', 'ADA', 'GUS', 'ZOE']"
            ]
          },
          "metadata": {},
          "execution_count": 69
        }
      ]
    },
    {
      "cell_type": "code",
      "metadata": {
        "colab": {
          "base_uri": "https://localhost:8080/"
        },
        "id": "QefT6tUfunaU",
        "outputId": "7bdf95f6-f088-45e5-fd1e-8016fdf13a43"
      },
      "source": [
        "# Using a comprehension to convert a list of names to upper case\n",
        "upper_case_names = [name.upper() for name in names]\n",
        "upper_case_names"
      ],
      "execution_count": 70,
      "outputs": [
        {
          "output_type": "execute_result",
          "data": {
            "text/plain": [
              "['KAI', 'ABE', 'ADA', 'GUS', 'ZOE']"
            ]
          },
          "metadata": {},
          "execution_count": 70
        }
      ]
    },
    {
      "cell_type": "markdown",
      "metadata": {
        "id": "nakTXFWvvaF2"
      },
      "source": [
        "## Styling your code\n",
        "Readability counts\n",
        "*   Use four spaces per indentation level.\n",
        "*   Keep your lines to 79 characters or fewer.\n",
        "*   Use single blank lines to group parts of your program visually\n",
        "\n"
      ]
    },
    {
      "cell_type": "markdown",
      "metadata": {
        "id": "SVc7gZl4wFjG"
      },
      "source": [
        "## Tuples\n",
        "A tuple is like a list, except you can't change the values in a tuple once it's defined. Tuples are good for storing information that shouldn't be changed throughout the life of a program. Tuples are designated by parentheses instead of square brackets. (You can overwrite an entire tuple, but you can't change the individual elements in a tuple.)"
      ]
    },
    {
      "cell_type": "code",
      "metadata": {
        "id": "E7SBHt1dwBRY"
      },
      "source": [
        "# Defining a tuple\n",
        "axis = (3, 4)"
      ],
      "execution_count": 72,
      "outputs": []
    },
    {
      "cell_type": "code",
      "metadata": {
        "colab": {
          "base_uri": "https://localhost:8080/"
        },
        "id": "LTboXhkZxkeb",
        "outputId": "f6e568a8-9f8f-48f5-cb6d-b6a4df99bf3f"
      },
      "source": [
        "# Looping through a tuple\n",
        "for x in axis:\n",
        "  print(x)"
      ],
      "execution_count": 73,
      "outputs": [
        {
          "output_type": "stream",
          "name": "stdout",
          "text": [
            "3\n",
            "4\n"
          ]
        }
      ]
    },
    {
      "cell_type": "code",
      "metadata": {
        "id": "IsVsmk7RyCkr"
      },
      "source": [
        "# Overwriting a tuple\n",
        "axis = (5 ,6)"
      ],
      "execution_count": null,
      "outputs": []
    },
    {
      "cell_type": "code",
      "metadata": {
        "colab": {
          "base_uri": "https://localhost:8080/"
        },
        "id": "nMkbGy5uyU2K",
        "outputId": "bbdb33f2-ccff-4d2d-aafb-9a6c64b3f4d6"
      },
      "source": [
        "# Looping through a tuple\n",
        "for x in axis:\n",
        "  print(x)"
      ],
      "execution_count": 74,
      "outputs": [
        {
          "output_type": "stream",
          "name": "stdout",
          "text": [
            "3\n",
            "4\n"
          ]
        }
      ]
    },
    {
      "cell_type": "markdown",
      "metadata": {
        "id": "I6xQ_iweyigq"
      },
      "source": [
        "## Visualizing your code\n",
        "When you're first learning about data structures such as lists, it helps to visualize how Python is working with the information in your program. pythontutor.com is a greater tool for seeing how Python keeps track of the information in a list. Try running the following code on pythontutor.com, and then run your own code."
      ]
    },
    {
      "cell_type": "code",
      "metadata": {
        "colab": {
          "base_uri": "https://localhost:8080/"
        },
        "id": "L741mcYsyhzj",
        "outputId": "28c8be86-a0f8-4c30-83a9-dacf7d7625e1"
      },
      "source": [
        "# Build a list and print the items in the list\n",
        "dogs = []\n",
        "dogs.append('willie')\n",
        "dogs.append('hootz')\n",
        "dogs.append('peso')\n",
        "dogs.append('goblin')\n",
        "\n",
        "for dog in dogs:\n",
        "  print(f\"Hello {dog}!\")\n",
        "print(\"I love these dogs!\")\n",
        "\n",
        "print(\"\\nThese were my first two dogs:\")\n",
        "old_dogs = dogs[:2]\n",
        "for old_dog in old_dogs:\n",
        "  print(old_dog)\n",
        "\n",
        "del dogs[0]\n",
        "dogs.remove('peso')\n",
        "print(dogs)"
      ],
      "execution_count": 75,
      "outputs": [
        {
          "output_type": "stream",
          "name": "stdout",
          "text": [
            "Hello willie!\n",
            "Hello hootz!\n",
            "Hello peso!\n",
            "Hello goblin!\n",
            "I love these dogs!\n",
            "\n",
            "These were my first two dogs:\n",
            "willie\n",
            "hootz\n",
            "['hootz', 'goblin']\n"
          ]
        }
      ]
    },
    {
      "cell_type": "markdown",
      "metadata": {
        "id": "mBXpof6m2uO-"
      },
      "source": [
        "## What are dictionaries?\n",
        "Python's dictionaries allow you to connect pieces of related information. Each piece of information in a dictionary is stored as a key-value pair. When you provied a key, Python returns the value associated with the key. You can loop through all the key-value pairs, all the keys, or all the values."
      ]
    },
    {
      "cell_type": "markdown",
      "metadata": {
        "id": "x-vqjSGJ3VWQ"
      },
      "source": [
        "## Define a dictionary\n",
        "Use curly braces to define a dictionary. Use colons to connect keys and values, and use commas to seperate individual key-value pairs."
      ]
    },
    {
      "cell_type": "code",
      "metadata": {
        "id": "vDiVR-RQ2tCL"
      },
      "source": [
        "# Making a dictionary\n",
        "alien_0 = {'color': 'green', 'points': 5}"
      ],
      "execution_count": 76,
      "outputs": []
    },
    {
      "cell_type": "markdown",
      "metadata": {
        "id": "OPde5nUu33ur"
      },
      "source": [
        "## Accessing values\n",
        "To access the value associated with an individual key give the name of the dictionary and then place the key in a set of square brackets. If the key you're asking for is not in the dictionary, an error will occur. \n",
        "\n",
        "You can also use the get() method, which returns None instead of an error if the key doesn't exist. You can also specify a default value to use if the key is not in the dictionary."
      ]
    },
    {
      "cell_type": "code",
      "metadata": {
        "colab": {
          "base_uri": "https://localhost:8080/"
        },
        "id": "Tcd-3IZw4zcN",
        "outputId": "f96c9e83-b166-4ee1-bfc2-588b95beec3b"
      },
      "source": [
        "# Getting the value assiciated with a key\n",
        "print(alien_0['color'])\n",
        "print(alien_0['points'])"
      ],
      "execution_count": 77,
      "outputs": [
        {
          "output_type": "stream",
          "name": "stdout",
          "text": [
            "green\n",
            "5\n"
          ]
        }
      ]
    },
    {
      "cell_type": "code",
      "metadata": {
        "colab": {
          "base_uri": "https://localhost:8080/"
        },
        "id": "7aTpsUCZ5N0j",
        "outputId": "b7801f1e-9372-48cc-8675-f10d97d0ed9d"
      },
      "source": [
        "alien_0 = {'color': 'green'}\n",
        "\n",
        "alien_color = alien_0.get('color')\n",
        "alien_points = alien_0.get('points', 0)\n",
        "\n",
        "print(alien_color)\n",
        "print(alien_points)"
      ],
      "execution_count": 78,
      "outputs": [
        {
          "output_type": "stream",
          "name": "stdout",
          "text": [
            "green\n",
            "0\n"
          ]
        }
      ]
    },
    {
      "cell_type": "markdown",
      "metadata": {
        "id": "l9K16HLB5w2C"
      },
      "source": [
        "## Adding new key-value pairs\n",
        "Your can store as many key-value pairs as you want in a dictionary, until your computer runs out of memory. To add a new key-value pair to an existing dictionary give the name of the dictionary and the new key in square brackets, and set it equal to the new value.\n",
        "\n",
        "This also allows you to start with an empty dictionary and add key-value pairs as they become relevant."
      ]
    },
    {
      "cell_type": "code",
      "metadata": {
        "colab": {
          "base_uri": "https://localhost:8080/"
        },
        "id": "H5KItHD56X6D",
        "outputId": "5678c91b-e9e3-405b-f4c0-3c23eda58548"
      },
      "source": [
        "# Adding a key-value pair\n",
        "alien_0['x'] = 0\n",
        "alien_0['y'] = 25\n",
        "alien_0['speed'] = 1.5\n",
        "alien_0"
      ],
      "execution_count": 80,
      "outputs": [
        {
          "output_type": "execute_result",
          "data": {
            "text/plain": [
              "{'color': 'green', 'speed': 1.5, 'x': 0, 'y': 25}"
            ]
          },
          "metadata": {},
          "execution_count": 80
        }
      ]
    },
    {
      "cell_type": "code",
      "metadata": {
        "colab": {
          "base_uri": "https://localhost:8080/"
        },
        "id": "aeCok7w-6mY1",
        "outputId": "5b8f0320-3bff-4e1b-b6ab-a054a2eccc01"
      },
      "source": [
        "# Adding to an empty dictionary\n",
        "alien_0 = {}\n",
        "alien_0['color'] = 'green'\n",
        "alien_0['points'] = 5\n",
        "alien_0"
      ],
      "execution_count": 81,
      "outputs": [
        {
          "output_type": "execute_result",
          "data": {
            "text/plain": [
              "{'color': 'green', 'points': 5}"
            ]
          },
          "metadata": {},
          "execution_count": 81
        }
      ]
    },
    {
      "cell_type": "markdown",
      "metadata": {
        "id": "lFKrjsh87AtT"
      },
      "source": [
        "## Modifying values\n",
        "You can modify the value associated with any key in a dictionary. To do so give the name of the dictionary and enclose the key in square brackets, then provide the new value for that key."
      ]
    },
    {
      "cell_type": "code",
      "metadata": {
        "colab": {
          "base_uri": "https://localhost:8080/"
        },
        "id": "ZZLih-Gu7UBF",
        "outputId": "c2935bdc-ec3a-4a5e-ec56-8be524fac46a"
      },
      "source": [
        "# Modifying values in a dictionary\n",
        "print(alien_0)\n",
        "\n",
        "# Change the alien's color and point value.\n",
        "alien_0['color'] = 'yellow'\n",
        "alien_0['points'] = 10\n",
        "print(alien_0)"
      ],
      "execution_count": 83,
      "outputs": [
        {
          "output_type": "stream",
          "name": "stdout",
          "text": [
            "{'color': 'green', 'points': 5}\n",
            "{'color': 'yellow', 'points': 10}\n"
          ]
        }
      ]
    },
    {
      "cell_type": "markdown",
      "metadata": {
        "id": "8lN7ak5P8fqK"
      },
      "source": [
        "## Removing key-value pairs\n",
        "You can remove any key-value pair you want from a dictionary. to do so use the del keyword and the dictionary name, followed by the key in square brackets. This will delete the key and its associated value."
      ]
    },
    {
      "cell_type": "code",
      "metadata": {
        "colab": {
          "base_uri": "https://localhost:8080/"
        },
        "id": "PLRBFgJb8zj-",
        "outputId": "d1f94b45-cf9a-40bd-bbc4-676dc6791bcc"
      },
      "source": [
        "# Deleting a key-value pair\n",
        "del alien_0['points']\n",
        "print(alien_0)"
      ],
      "execution_count": 84,
      "outputs": [
        {
          "output_type": "stream",
          "name": "stdout",
          "text": [
            "{'color': 'yellow'}\n"
          ]
        }
      ]
    },
    {
      "cell_type": "markdown",
      "metadata": {
        "id": "Cuu6LSnt9AjX"
      },
      "source": [
        "## Visualizing dictionaries\n",
        "Try running some of these examples on pythontutor.com."
      ]
    },
    {
      "cell_type": "markdown",
      "metadata": {
        "id": "SC0yWcZq9Nrf"
      },
      "source": [
        "### Looping through a dictionary\n",
        "You can loop through a dictionary in three ways: you can loop through all the keys, or all the values. A dictionary only tracks the connections between keys and values; it doesn't track tehe order of items in the dictionary. If you want to process the information in order, you can sort the keys in your loop."
      ]
    },
    {
      "cell_type": "code",
      "metadata": {
        "colab": {
          "base_uri": "https://localhost:8080/"
        },
        "id": "7cfG78Cb-nio",
        "outputId": "2e3cfc17-cbfb-4999-8893-1293e35884ae"
      },
      "source": [
        "# Looping through all key-value pairs\n",
        "  # Store people's favourite languages.\n",
        "fav_languages = {\n",
        "    'uday' : 'python',\n",
        "    'bhaskar' : 'java',\n",
        "    'santosh' : 'angular',\n",
        "    'kumar' : 'html'\n",
        "}\n",
        "# Show everyone who's taken the survey.\n",
        "for name, language in fav_languages.items():\n",
        "  print(name + \" : \" + language)"
      ],
      "execution_count": 85,
      "outputs": [
        {
          "output_type": "stream",
          "name": "stdout",
          "text": [
            "uday : python\n",
            "bhaskar : java\n",
            "santosh : angular\n",
            "kumar : html\n"
          ]
        }
      ]
    },
    {
      "cell_type": "code",
      "metadata": {
        "colab": {
          "base_uri": "https://localhost:8080/"
        },
        "id": "TYS5XRwqAo8R",
        "outputId": "5f48ee44-e190-44f2-b72c-a9ac2bbac6cb"
      },
      "source": [
        "# Looping through all the keys\n",
        "  # Show everyone who's taken the survey.\n",
        "for name in fav_languages.keys():\n",
        "  print(name)"
      ],
      "execution_count": 86,
      "outputs": [
        {
          "output_type": "stream",
          "name": "stdout",
          "text": [
            "uday\n",
            "bhaskar\n",
            "santosh\n",
            "kumar\n"
          ]
        }
      ]
    },
    {
      "cell_type": "code",
      "metadata": {
        "colab": {
          "base_uri": "https://localhost:8080/"
        },
        "id": "R72oS-wRA35F",
        "outputId": "d36a89a0-a32f-4b7c-b451-a2c70b8b8a97"
      },
      "source": [
        "# Looping through all the values\n",
        "  # Show all the languages that have been chosen.\n",
        "for language in fav_languages.values():\n",
        "  print(language)"
      ],
      "execution_count": 87,
      "outputs": [
        {
          "output_type": "stream",
          "name": "stdout",
          "text": [
            "python\n",
            "java\n",
            "angular\n",
            "html\n"
          ]
        }
      ]
    },
    {
      "cell_type": "code",
      "metadata": {
        "colab": {
          "base_uri": "https://localhost:8080/"
        },
        "id": "wkWl4BHwBLB-",
        "outputId": "d864464e-aba0-4d40-e281-40dca3274a05"
      },
      "source": [
        "# Looping through all the keys in order\n",
        "  # Show each person's favourite language,\n",
        "  # in order by the person's name.\n",
        "for name in sorted(fav_languages.keys()):\n",
        "  print(name + \" : \" + language)"
      ],
      "execution_count": 88,
      "outputs": [
        {
          "output_type": "stream",
          "name": "stdout",
          "text": [
            "bhaskar : html\n",
            "kumar : html\n",
            "santosh : html\n",
            "uday : html\n"
          ]
        }
      ]
    },
    {
      "cell_type": "markdown",
      "metadata": {
        "id": "cS_-5fk-BuSk"
      },
      "source": [
        "### Dictionary length\n",
        "You can find the number of key-value pairs in a dictionary."
      ]
    },
    {
      "cell_type": "code",
      "metadata": {
        "colab": {
          "base_uri": "https://localhost:8080/"
        },
        "id": "eJxdKa8OBtV8",
        "outputId": "38d67684-3f14-48e7-cfe2-28fb6f886946"
      },
      "source": [
        "# Finding a dictionary's length\n",
        "num_responses = len(fav_languages)\n",
        "print(num_responses)"
      ],
      "execution_count": 89,
      "outputs": [
        {
          "output_type": "stream",
          "name": "stdout",
          "text": [
            "4\n"
          ]
        }
      ]
    },
    {
      "cell_type": "markdown",
      "metadata": {
        "id": "6-Y6bqP4DSTV"
      },
      "source": [
        "## Nesting - A list of dictionaries\n",
        "It's sometimes useful to store a set of dictionaries in a list; this is called nesting."
      ]
    },
    {
      "cell_type": "code",
      "metadata": {
        "colab": {
          "base_uri": "https://localhost:8080/"
        },
        "id": "V5zU8PYWDmpQ",
        "outputId": "24ae0131-541f-4367-c0d8-4d5edab6ab6d"
      },
      "source": [
        "# Storing dictionaries in a list\n",
        "# Start with an empty list.\n",
        "users = []\n",
        "# Make a new user, and add them to the list.\n",
        "new_user = {\n",
        "    'last': 'yenneti',\n",
        "    'first': 'uday',\n",
        "    'username': 'yuday'\n",
        "}\n",
        "users.append(new_user)\n",
        "# Show all information about each user.\n",
        "for user_dict in users:\n",
        "  for k, v in user_dict.items():\n",
        "    print(k + \" : \"+ v)\n",
        "  print(\"\\n\")"
      ],
      "execution_count": 91,
      "outputs": [
        {
          "output_type": "stream",
          "name": "stdout",
          "text": [
            "last : yenneti\n",
            "first : uday\n",
            "username : yuday\n",
            "\n",
            "\n"
          ]
        }
      ]
    },
    {
      "cell_type": "code",
      "metadata": {
        "colab": {
          "base_uri": "https://localhost:8080/"
        },
        "id": "2dBhjvKMFQGE",
        "outputId": "6e6db405-7ffe-4878-9603-11b2eb8f1f6c"
      },
      "source": [
        "# You can also define a list of dictionaries directly, without using append():\n",
        "\n",
        "# Define a list of users, where each user\n",
        "#   is represented by a dictionary.\n",
        "users = [\n",
        "         {\n",
        "             'last': 'yenneti',\n",
        "          'first' : 'uday',\n",
        "          'username' : 'yuday'\n",
        "         },\n",
        "         {\n",
        "             'last': 'yenneti',\n",
        "          'first': 'bhaskar',\n",
        "          'username': 'ybhaskar'\n",
        "         }\n",
        "]\n",
        "# Show all information about each user\n",
        "for user_dict in users:\n",
        "  for k, v in user_dict.items():\n",
        "    print(k + \" : \" + v)\n",
        "  print(\"\\n\")"
      ],
      "execution_count": 92,
      "outputs": [
        {
          "output_type": "stream",
          "name": "stdout",
          "text": [
            "last : yenneti\n",
            "first : uday\n",
            "username : yuday\n",
            "\n",
            "\n",
            "last : yenneti\n",
            "first : bhaskar\n",
            "username : ybhaskar\n",
            "\n",
            "\n"
          ]
        }
      ]
    },
    {
      "cell_type": "markdown",
      "metadata": {
        "id": "1HfAz292HGLy"
      },
      "source": [
        "## Nesting - Lists in a dictionary\n",
        "Storing a list inside a dictionary alows you to associate more than one value with each key."
      ]
    },
    {
      "cell_type": "code",
      "metadata": {
        "colab": {
          "base_uri": "https://localhost:8080/"
        },
        "id": "sre3P_72HYSb",
        "outputId": "34e8cf9e-54ac-4899-f875-0ee0180b8354"
      },
      "source": [
        "# Storing lists in a dictionary\n",
        "# Store multiple languages for each person.\n",
        "fav_languages = {\n",
        "    'uday' : ['python', 'r'],\n",
        "    'bhaskar' : ['java'],\n",
        "    'santosh' : ['angular', 'html'],\n",
        "    'kumar' : ['javascript', 'jquery']\n",
        "}\n",
        "# Show all responses for each person.\n",
        "for name, langs in fav_languages.items():\n",
        "  print(name + \": \")\n",
        "  for lang in langs:\n",
        "    print(\"- \" + lang)"
      ],
      "execution_count": 93,
      "outputs": [
        {
          "output_type": "stream",
          "name": "stdout",
          "text": [
            "uday: \n",
            "- python\n",
            "- r\n",
            "bhaskar: \n",
            "- java\n",
            "santosh: \n",
            "- angular\n",
            "- html\n",
            "kumar: \n",
            "- javascript\n",
            "- jquery\n"
          ]
        }
      ]
    },
    {
      "cell_type": "markdown",
      "metadata": {
        "id": "Vqb7NO5RJLGm"
      },
      "source": [
        "## Nesting - A dictionary of dictionaries\n",
        "You can store a dictionary inside another dictionary. In this case each value associated with a key is itself a dictionary."
      ]
    },
    {
      "cell_type": "code",
      "metadata": {
        "colab": {
          "base_uri": "https://localhost:8080/"
        },
        "id": "Rgmp10xiJfti",
        "outputId": "9d84dcfc-1af9-4cc2-f861-66a0fee0b91d"
      },
      "source": [
        "# Storing dictionaries in a dictionary\n",
        "users = {\n",
        "    'yuday': {\n",
        "        'first': 'uday',\n",
        "        'last': 'yenneti',\n",
        "        'location': 'hyderabad'\n",
        "    },\n",
        "    'ybhaskar': {\n",
        "        'first': 'bhaskar',\n",
        "        'last' : 'yenneti',\n",
        "        'location' : 'vizag'\n",
        "    }\n",
        "}\n",
        "\n",
        "for username, user_dict in users.items():\n",
        "  print(\"\\nUsername: \" + username)\n",
        "  full_name = user_dict['first']+\" \"\n",
        "  full_name += user_dict['last']\n",
        "  location = user_dict['location']\n",
        "  print(\"\\tFull name: \" + full_name.title())\n",
        "  print(\"\\tLocation: \" + location.title())"
      ],
      "execution_count": 95,
      "outputs": [
        {
          "output_type": "stream",
          "name": "stdout",
          "text": [
            "\n",
            "Username: yuday\n",
            "\tFull name: Uday Yenneti\n",
            "\tLocation: Hyderabad\n",
            "\n",
            "Username: ybhaskar\n",
            "\tFull name: Bhaskar Yenneti\n",
            "\tLocation: Vizag\n"
          ]
        }
      ]
    },
    {
      "cell_type": "markdown",
      "metadata": {
        "id": "93LM126xM1e6"
      },
      "source": [
        "## Levels of nesting\n",
        "Nesting is extremely useful in certain situations. However, be aware of making your code overly complex. If you're nesting items much deeper than what you see here there are probably simpler ways of managing your data, such as using classes."
      ]
    },
    {
      "cell_type": "markdown",
      "metadata": {
        "id": "nrPiYoMANQQL"
      },
      "source": [
        "## Using an OrderedDict\n",
        "Standard Python dictionaries don't keep track of the order in which keys and values are added; they only preserve the association between each key and its value. If you want to preserve the order in which keys and values are added, use an OrderedDict."
      ]
    },
    {
      "cell_type": "code",
      "metadata": {
        "colab": {
          "base_uri": "https://localhost:8080/"
        },
        "id": "-Vu2JlHDNpeA",
        "outputId": "3e64f72e-290c-40df-ad73-84559c4e7da6"
      },
      "source": [
        "from collections import  OrderedDict\n",
        "\n",
        "# Store each person's languages, keeping\n",
        "# track of who responded first.\n",
        "fav_languages = OrderedDict()\n",
        "fav_languages['uday'] =  ['python', 'r']\n",
        "fav_languages['bhaskar'] =  ['java']\n",
        "fav_languages['santosh'] =  ['angular', 'html']\n",
        "fav_languages['kumar'] =  ['javascript', 'jquery']\n",
        "\n",
        "# Display the results, in the same order they were entered.\n",
        "for name, langs in fav_languages.items():\n",
        "  print(name+ \": \")\n",
        "  for lang in langs:\n",
        "    print(\"- \" + lang)"
      ],
      "execution_count": 97,
      "outputs": [
        {
          "output_type": "stream",
          "name": "stdout",
          "text": [
            "uday: \n",
            "- python\n",
            "- r\n",
            "bhaskar: \n",
            "- java\n",
            "santosh: \n",
            "- angular\n",
            "- html\n",
            "kumar: \n",
            "- javascript\n",
            "- jquery\n"
          ]
        }
      ]
    },
    {
      "cell_type": "markdown",
      "metadata": {
        "id": "l62Cd81iPRZ_"
      },
      "source": [
        "## Generating a million dictionaries\n",
        "You can use a loop to generate a large number of dictionaries efficiently, if all the dictionaries start out with similar data."
      ]
    },
    {
      "cell_type": "code",
      "metadata": {
        "colab": {
          "base_uri": "https://localhost:8080/"
        },
        "id": "zaM9Z5JiPhTk",
        "outputId": "14e88a89-be95-4c79-ef58-1c57029c9b33"
      },
      "source": [
        "# A million aliens\n",
        "aliens = []\n",
        "\n",
        "# Make a million green aliens, worth 5 points each. \n",
        "# Have them all start in one row.\n",
        "for alien_num in range(1000000):\n",
        "  new_alien = {}\n",
        "  new_alien['color'] = 'green'\n",
        "  new_alien['x'] = 20 * alien_num\n",
        "  new_alien['y'] = 0\n",
        "  aliens.append(new_alien)\n",
        "\n",
        "# Prove the list contains a million aliens.\n",
        "num_aliens = len(aliens)\n",
        "\n",
        "print(\"Number of aliens created: \")\n",
        "print(num_aliens)"
      ],
      "execution_count": 98,
      "outputs": [
        {
          "output_type": "stream",
          "name": "stdout",
          "text": [
            "Number of aliens created: \n",
            "1000000\n"
          ]
        }
      ]
    },
    {
      "cell_type": "markdown",
      "metadata": {
        "id": "Cysanx6HY8rQ"
      },
      "source": [
        "## If Statements and While Loops\n",
        "\n",
        "**What are if statements? What are while loops?**\n",
        "If statements allow you to examine the current state of a program and respond appropriately to that state. You can write a simple if statement that checks one condition, or you can create a complex series of if statements that identify the exact conditions you're looking for.\n",
        "\n",
        "While loops run as long as certain conditions remain true. You can use while loops to let your programs run as long as your users want them to."
      ]
    },
    {
      "cell_type": "markdown",
      "metadata": {
        "id": "3kRHuMXVZtu1"
      },
      "source": [
        "### Conditional Tests\n",
        "A conditional test is an expression that can be evaluated as True or False. Python uses the values True and False to decide whether the code in an if statement should be executed.\n",
        "\n",
        "**Checking for equality**\n",
        "\n",
        "A single equal sign assigns a value to a varaible. A double equal sign(==) checks whether two values are equal."
      ]
    },
    {
      "cell_type": "code",
      "metadata": {
        "colab": {
          "base_uri": "https://localhost:8080/"
        },
        "id": "Ac2GHhqPaVvI",
        "outputId": "b0aff4f8-2f99-430e-960f-41090a324921"
      },
      "source": [
        "car = \"bmw\"\n",
        "car == \"bmw\""
      ],
      "execution_count": 99,
      "outputs": [
        {
          "output_type": "execute_result",
          "data": {
            "text/plain": [
              "True"
            ]
          },
          "metadata": {},
          "execution_count": 99
        }
      ]
    },
    {
      "cell_type": "code",
      "metadata": {
        "colab": {
          "base_uri": "https://localhost:8080/"
        },
        "id": "nPR-h9N6ajhJ",
        "outputId": "70c3a7be-efba-4b47-a17f-4358a03f0a70"
      },
      "source": [
        "car = \"audi\"\n",
        "car == \"bmw\""
      ],
      "execution_count": 100,
      "outputs": [
        {
          "output_type": "execute_result",
          "data": {
            "text/plain": [
              "False"
            ]
          },
          "metadata": {},
          "execution_count": 100
        }
      ]
    },
    {
      "cell_type": "code",
      "metadata": {
        "colab": {
          "base_uri": "https://localhost:8080/"
        },
        "id": "ctBEYa8Waook",
        "outputId": "5b353219-2b44-4652-d169-28137b34f2cb"
      },
      "source": [
        "# Ignoring case when making a comparison\n",
        "car = 'Audi'\n",
        "car.lower() == 'audi'"
      ],
      "execution_count": 101,
      "outputs": [
        {
          "output_type": "execute_result",
          "data": {
            "text/plain": [
              "True"
            ]
          },
          "metadata": {},
          "execution_count": 101
        }
      ]
    },
    {
      "cell_type": "code",
      "metadata": {
        "colab": {
          "base_uri": "https://localhost:8080/"
        },
        "id": "ubeAtY9Sa41l",
        "outputId": "565c6c00-03ff-443f-b264-314430eb193f"
      },
      "source": [
        "# Checking for inequality\n",
        "topping = 'mushrooms'\n",
        "topping != 'anchovies'"
      ],
      "execution_count": 102,
      "outputs": [
        {
          "output_type": "execute_result",
          "data": {
            "text/plain": [
              "True"
            ]
          },
          "metadata": {},
          "execution_count": 102
        }
      ]
    },
    {
      "cell_type": "markdown",
      "metadata": {
        "id": "kfphh58VbMIU"
      },
      "source": [
        "## Numerical comparisions\n",
        "Testing numerical values is similar to testing string values."
      ]
    },
    {
      "cell_type": "code",
      "metadata": {
        "colab": {
          "base_uri": "https://localhost:8080/"
        },
        "id": "aA0FYfbCbU-6",
        "outputId": "045ac677-2886-4aa2-a7dd-7ceaa839d23e"
      },
      "source": [
        "# Testing equality and inequality\n",
        "age = 18\n",
        "age == 18"
      ],
      "execution_count": 103,
      "outputs": [
        {
          "output_type": "execute_result",
          "data": {
            "text/plain": [
              "True"
            ]
          },
          "metadata": {},
          "execution_count": 103
        }
      ]
    },
    {
      "cell_type": "code",
      "metadata": {
        "colab": {
          "base_uri": "https://localhost:8080/"
        },
        "id": "IG03VHPGbeNg",
        "outputId": "c3c2e5c7-f0c8-4463-fcdf-d39d596c235e"
      },
      "source": [
        "age != 18"
      ],
      "execution_count": 104,
      "outputs": [
        {
          "output_type": "execute_result",
          "data": {
            "text/plain": [
              "False"
            ]
          },
          "metadata": {},
          "execution_count": 104
        }
      ]
    },
    {
      "cell_type": "code",
      "metadata": {
        "colab": {
          "base_uri": "https://localhost:8080/"
        },
        "id": "0m0YUvJNbrfl",
        "outputId": "246582ec-718b-418e-fad1-0138f237ef02"
      },
      "source": [
        "# Compatision operators\n",
        "age = 19\n",
        "age < 21"
      ],
      "execution_count": 105,
      "outputs": [
        {
          "output_type": "execute_result",
          "data": {
            "text/plain": [
              "True"
            ]
          },
          "metadata": {},
          "execution_count": 105
        }
      ]
    },
    {
      "cell_type": "code",
      "metadata": {
        "colab": {
          "base_uri": "https://localhost:8080/"
        },
        "id": "i6DgSiSIbzGn",
        "outputId": "8a5266e0-1852-425b-f168-52777c6d945f"
      },
      "source": [
        "age <= 21"
      ],
      "execution_count": 106,
      "outputs": [
        {
          "output_type": "execute_result",
          "data": {
            "text/plain": [
              "True"
            ]
          },
          "metadata": {},
          "execution_count": 106
        }
      ]
    },
    {
      "cell_type": "code",
      "metadata": {
        "colab": {
          "base_uri": "https://localhost:8080/"
        },
        "id": "2PS9oJDkb1P9",
        "outputId": "0ca8c024-5ff0-4e8f-e8d7-c05fa878dd1d"
      },
      "source": [
        "age > 21"
      ],
      "execution_count": 107,
      "outputs": [
        {
          "output_type": "execute_result",
          "data": {
            "text/plain": [
              "False"
            ]
          },
          "metadata": {},
          "execution_count": 107
        }
      ]
    },
    {
      "cell_type": "code",
      "metadata": {
        "colab": {
          "base_uri": "https://localhost:8080/"
        },
        "id": "VosVCNk8b4-F",
        "outputId": "7d2e783f-1535-4ee3-9de9-3926af39044b"
      },
      "source": [
        "age >= 21"
      ],
      "execution_count": 108,
      "outputs": [
        {
          "output_type": "execute_result",
          "data": {
            "text/plain": [
              "False"
            ]
          },
          "metadata": {},
          "execution_count": 108
        }
      ]
    },
    {
      "cell_type": "markdown",
      "metadata": {
        "id": "liX0r3vmbhBv"
      },
      "source": [
        "# Checking multiple conditions\n",
        "You can check multiple conditions at the same time. The \"and\" operator returns \"True\" if all the conditions listed are True. the \"or\" operator returns \"True\" if any condition is True."
      ]
    },
    {
      "cell_type": "code",
      "metadata": {
        "colab": {
          "base_uri": "https://localhost:8080/"
        },
        "id": "DhWjhglocVyV",
        "outputId": "286bd05e-6396-493f-a693-bbb08c105bfe"
      },
      "source": [
        "#Using \"and\" to check multiple conditions\n",
        "age_0 = 22\n",
        "age_1 = 18\n",
        "age_0 >= 21 and age_1 >= 21"
      ],
      "execution_count": 109,
      "outputs": [
        {
          "output_type": "execute_result",
          "data": {
            "text/plain": [
              "False"
            ]
          },
          "metadata": {},
          "execution_count": 109
        }
      ]
    },
    {
      "cell_type": "code",
      "metadata": {
        "colab": {
          "base_uri": "https://localhost:8080/"
        },
        "id": "4y46hHtrcjSS",
        "outputId": "ffbede33-0d50-486b-b0d9-fafa8405054e"
      },
      "source": [
        "age_1 = 23\n",
        "age_0 >= 21 and age_1 >= 21"
      ],
      "execution_count": 110,
      "outputs": [
        {
          "output_type": "execute_result",
          "data": {
            "text/plain": [
              "True"
            ]
          },
          "metadata": {},
          "execution_count": 110
        }
      ]
    },
    {
      "cell_type": "code",
      "metadata": {
        "colab": {
          "base_uri": "https://localhost:8080/"
        },
        "id": "9O73RtZZcrtl",
        "outputId": "947ddffc-1339-4872-c763-b05da5e45bd3"
      },
      "source": [
        "# Using or to check multiple conditions\n",
        "age_0 = 22\n",
        "age_1 = 18\n",
        "age_0 >= 21 or age_1 >= 21"
      ],
      "execution_count": 112,
      "outputs": [
        {
          "output_type": "execute_result",
          "data": {
            "text/plain": [
              "True"
            ]
          },
          "metadata": {},
          "execution_count": 112
        }
      ]
    },
    {
      "cell_type": "code",
      "metadata": {
        "colab": {
          "base_uri": "https://localhost:8080/"
        },
        "id": "cU0rDTtgc-Vo",
        "outputId": "adcd1e85-e4a1-46dc-85e3-ecfb6ffe6bd5"
      },
      "source": [
        "age_0 = 18\n",
        "age_0 >= 21 or age_1 >= 21"
      ],
      "execution_count": 113,
      "outputs": [
        {
          "output_type": "execute_result",
          "data": {
            "text/plain": [
              "False"
            ]
          },
          "metadata": {},
          "execution_count": 113
        }
      ]
    },
    {
      "cell_type": "markdown",
      "metadata": {
        "id": "arQW9RBedFzU"
      },
      "source": [
        "## Boolean values\n",
        "A boolean value is either True or False. Variables with boolean values are often used to keep track of certain conditions within a program."
      ]
    },
    {
      "cell_type": "code",
      "metadata": {
        "id": "Tro5r7MxdTEM"
      },
      "source": [
        "# Simple boolean values\n",
        "game_active = True\n",
        "can_edit = False"
      ],
      "execution_count": 114,
      "outputs": []
    },
    {
      "cell_type": "markdown",
      "metadata": {
        "id": "MBdZVxjvddV6"
      },
      "source": [
        "## If statements\n",
        "Several kinds of if statements exist. Your choice of which to use depends on the number of conditions you need to test. You can have as many elif blocks as you need, and the else block is always optionl."
      ]
    },
    {
      "cell_type": "code",
      "metadata": {
        "colab": {
          "base_uri": "https://localhost:8080/"
        },
        "id": "bO2GeaCsdydY",
        "outputId": "9e24ddf9-513f-4a5b-df1f-a48abf7785f3"
      },
      "source": [
        "# Simple if statement\n",
        "age = 19\n",
        "if age >= 18:\n",
        "  print(\"You're old enough to vote!\")"
      ],
      "execution_count": 115,
      "outputs": [
        {
          "output_type": "stream",
          "name": "stdout",
          "text": [
            "You're old enough to vote!\n"
          ]
        }
      ]
    },
    {
      "cell_type": "code",
      "metadata": {
        "colab": {
          "base_uri": "https://localhost:8080/"
        },
        "id": "1c-s9rxDd8_j",
        "outputId": "30561bb4-e19f-41da-bc22-6336fb6f61d8"
      },
      "source": [
        "# If-else statements\n",
        "age = 17\n",
        "if age >= 18:\n",
        "  print(\"You're old enough to vote!\")\n",
        "else:\n",
        "  print(\"You can't vote yet.\")"
      ],
      "execution_count": 116,
      "outputs": [
        {
          "output_type": "stream",
          "name": "stdout",
          "text": [
            "You can't vote yet.\n"
          ]
        }
      ]
    },
    {
      "cell_type": "code",
      "metadata": {
        "colab": {
          "base_uri": "https://localhost:8080/"
        },
        "id": "YBdnCPZHePp5",
        "outputId": "acc9bea5-9a50-4b0f-db44-860c61abec7f"
      },
      "source": [
        "# the if-elif-else chain\n",
        "age = 12\n",
        "\n",
        "if age <= 5:\n",
        "  price = 0\n",
        "elif age < 60:\n",
        "  price = 50\n",
        "else:\n",
        "  price = 10\n",
        "\n",
        "print(\"Your cost is $\" + str(price)+ \".\")"
      ],
      "execution_count": 118,
      "outputs": [
        {
          "output_type": "stream",
          "name": "stdout",
          "text": [
            "Your cost is $50.\n"
          ]
        }
      ]
    },
    {
      "cell_type": "markdown",
      "metadata": {
        "id": "IINhVM-Iezwc"
      },
      "source": [
        "## Conditional tests with lists\n",
        "You can easily test whether a certain value is in a list. You can also test whether a list is empty before trying to loop through the list."
      ]
    },
    {
      "cell_type": "code",
      "metadata": {
        "colab": {
          "base_uri": "https://localhost:8080/"
        },
        "id": "0qmy-hCXfC5u",
        "outputId": "1c6c222f-5676-4012-8488-154fbbfa68ba"
      },
      "source": [
        "# Testing is a value is in a list\n",
        "players = ['uday', 'bhaskar', 'santosh', 'kumar']\n",
        "'uday' in players"
      ],
      "execution_count": 119,
      "outputs": [
        {
          "output_type": "execute_result",
          "data": {
            "text/plain": [
              "True"
            ]
          },
          "metadata": {},
          "execution_count": 119
        }
      ]
    },
    {
      "cell_type": "code",
      "metadata": {
        "colab": {
          "base_uri": "https://localhost:8080/"
        },
        "id": "40XpCjMBfW0E",
        "outputId": "424dc435-10bc-4120-edfa-0a604bc0590c"
      },
      "source": [
        "'yenneti' in players"
      ],
      "execution_count": 120,
      "outputs": [
        {
          "output_type": "execute_result",
          "data": {
            "text/plain": [
              "False"
            ]
          },
          "metadata": {},
          "execution_count": 120
        }
      ]
    },
    {
      "cell_type": "code",
      "metadata": {
        "colab": {
          "base_uri": "https://localhost:8080/"
        },
        "id": "qd622hZdfq0u",
        "outputId": "93677999-4d5c-49a4-b9fa-8e6a2d36fe77"
      },
      "source": [
        "# Testing if a value is not in a list\n",
        "banned_users = ['john', 'karter']\n",
        "user = 'uday'\n",
        "\n",
        "if user not in banned_users:\n",
        "  print(\"You can play!\")"
      ],
      "execution_count": 121,
      "outputs": [
        {
          "output_type": "stream",
          "name": "stdout",
          "text": [
            "You can play!\n"
          ]
        }
      ]
    },
    {
      "cell_type": "code",
      "metadata": {
        "colab": {
          "base_uri": "https://localhost:8080/"
        },
        "id": "YTAIWFu_gIr7",
        "outputId": "eba49a9a-91c3-417e-fcd2-500217484f60"
      },
      "source": [
        "# Checking if a list is empty\n",
        "players = []\n",
        "\n",
        "if players:\n",
        "  for player in players:\n",
        "    print(\"Player: \"+ player.title())\n",
        "else:\n",
        "  print(\"We have no players yet!\")"
      ],
      "execution_count": 122,
      "outputs": [
        {
          "output_type": "stream",
          "name": "stdout",
          "text": [
            "We have no players yet!\n"
          ]
        }
      ]
    },
    {
      "cell_type": "markdown",
      "metadata": {
        "id": "8EcmPpfQgj51"
      },
      "source": [
        "## Accepting input\n",
        "You can allow your users to enter input using the input() statement. In Python 3, all input is stored as a string."
      ]
    },
    {
      "cell_type": "code",
      "metadata": {
        "colab": {
          "base_uri": "https://localhost:8080/"
        },
        "id": "nPZYKWNYg0b2",
        "outputId": "101d841d-edba-4c7e-c8ba-298cf2211c59"
      },
      "source": [
        "# Simple input\n",
        "name = input(\"What's your name?\")\n",
        "print(\"Hello, \"+ name + \".\")"
      ],
      "execution_count": 123,
      "outputs": [
        {
          "output_type": "stream",
          "name": "stdout",
          "text": [
            "What's your name?uday\n",
            "Hello, uday.\n"
          ]
        }
      ]
    },
    {
      "cell_type": "code",
      "metadata": {
        "colab": {
          "base_uri": "https://localhost:8080/"
        },
        "id": "gS78M4qdhFv5",
        "outputId": "e1a08766-6e36-4bd0-e79f-0ffe5c153cec"
      },
      "source": [
        "# Accepting numerical input\n",
        "age = input(\"How old are you?\")\n",
        "age = int(age)\n",
        "\n",
        "if age >= 18:\n",
        "  print(\"\\nYou can vote!\")\n",
        "else:\n",
        "  print(\"\\nYou can't vote yet.\")"
      ],
      "execution_count": 124,
      "outputs": [
        {
          "output_type": "stream",
          "name": "stdout",
          "text": [
            "How old are you?20\n",
            "\n",
            "You can vote!\n"
          ]
        }
      ]
    },
    {
      "cell_type": "markdown",
      "metadata": {
        "id": "WVoOU8DJiNOW"
      },
      "source": [
        "## While Loops\n",
        "A while loop repeats a block of code as long as a condition is True."
      ]
    },
    {
      "cell_type": "code",
      "metadata": {
        "colab": {
          "base_uri": "https://localhost:8080/"
        },
        "id": "VAOW6gJdiWOD",
        "outputId": "f8fe927c-8ae0-4006-e4de-e50e73a6f4e3"
      },
      "source": [
        "# Counting to 5\n",
        "current_number = 1\n",
        "while current_number <= 5:\n",
        "  print(current_number)\n",
        "  current_number += 1"
      ],
      "execution_count": 127,
      "outputs": [
        {
          "output_type": "stream",
          "name": "stdout",
          "text": [
            "1\n",
            "2\n",
            "3\n",
            "4\n",
            "5\n"
          ]
        }
      ]
    },
    {
      "cell_type": "code",
      "metadata": {
        "colab": {
          "base_uri": "https://localhost:8080/"
        },
        "id": "GfROHG_wiwU1",
        "outputId": "df50dad1-9ac9-4f15-abf2-b2b3959153e8"
      },
      "source": [
        "# Letting the user choose when to quit\n",
        "prompt = \"\\nTell me something , and I'll \"\n",
        "prompt += \"repeat it back to you.\"\n",
        "prompt += \"\\nEnter 'quit' to end the program.\"\n",
        "\n",
        "message = \"\"\n",
        "while message != 'quit':\n",
        "  message = input(prompt)\n",
        "\n",
        "  if message != 'quit':\n",
        "    print(message)"
      ],
      "execution_count": 128,
      "outputs": [
        {
          "name": "stdout",
          "output_type": "stream",
          "text": [
            "\n",
            "Tell me something , and I'll repeat it back to you.\n",
            "Enter 'quit' to end the program.hi\n",
            "hi\n",
            "\n",
            "Tell me something , and I'll repeat it back to you.\n",
            "Enter 'quit' to end the program.uday\n",
            "uday\n",
            "\n",
            "Tell me something , and I'll repeat it back to you.\n",
            "Enter 'quit' to end the program.quit\n"
          ]
        }
      ]
    },
    {
      "cell_type": "code",
      "metadata": {
        "colab": {
          "base_uri": "https://localhost:8080/"
        },
        "id": "hZ-dyGL5jeUr",
        "outputId": "3eb03aa5-3ee1-4cce-cfc2-e8f51ed84f47"
      },
      "source": [
        "# Using a flag\n",
        "active = True\n",
        "while active:\n",
        "  message = input(prompt)\n",
        "\n",
        "  if message == 'quit':\n",
        "    active = False\n",
        "  else:\n",
        "    print(message)"
      ],
      "execution_count": 129,
      "outputs": [
        {
          "name": "stdout",
          "output_type": "stream",
          "text": [
            "\n",
            "Tell me something , and I'll repeat it back to you.\n",
            "Enter 'quit' to end the program.uday\n",
            "uday\n",
            "\n",
            "Tell me something , and I'll repeat it back to you.\n",
            "Enter 'quit' to end the program.quit\n"
          ]
        }
      ]
    },
    {
      "cell_type": "code",
      "metadata": {
        "colab": {
          "base_uri": "https://localhost:8080/"
        },
        "id": "yacfocgFj7EM",
        "outputId": "aadfb629-5235-4acb-a086-cb5bfe7d53b9"
      },
      "source": [
        "# Using break to exit a loop\n",
        "prompt = \"\\nWhat cities have you visited?\"\n",
        "prompt += \"\\nEnter 'quit' when you're done. \"\n",
        "\n",
        "while True:\n",
        "  city = input(prompt)\n",
        "  if city == 'quit':\n",
        "    break\n",
        "  else:\n",
        "    print(\"I've been to \" + city + \"!\")"
      ],
      "execution_count": 131,
      "outputs": [
        {
          "name": "stdout",
          "output_type": "stream",
          "text": [
            "\n",
            "What cities have you visited?\n",
            "Enter 'quit' when you're done. cananda\n",
            "I've been to cananda!\n",
            "\n",
            "What cities have you visited?\n",
            "Enter 'quit' when you're done. hyderabad\n",
            "I've been to hyderabad!\n",
            "\n",
            "What cities have you visited?\n",
            "Enter 'quit' when you're done. quit\n"
          ]
        }
      ]
    },
    {
      "cell_type": "markdown",
      "metadata": {
        "id": "IBPFmmqOkkvZ"
      },
      "source": [
        "## Accepting input with Sublime Text\n",
        "Sublime Text doesn't run programs that prompt the user for input. You can use Sublime Text to write programs that prompt for input, but you'll need to run these programs from a terminal."
      ]
    },
    {
      "cell_type": "markdown",
      "metadata": {
        "id": "f-DZs7d4k7np"
      },
      "source": [
        "## Breaking out of loops\n",
        "You can use the break statement and the continue statement with any of Python's loops. for example you can use break to quit a for loop that's working through a list or a dictionary. You can use continue to skip over certain items when looping through a list of dictionary as well. "
      ]
    },
    {
      "cell_type": "code",
      "metadata": {
        "colab": {
          "base_uri": "https://localhost:8080/"
        },
        "id": "Dh5zen7hlYPh",
        "outputId": "4cd235de-8da3-46f7-ff8c-7098b28d0e4d"
      },
      "source": [
        "# Using continue in a loop\n",
        "prompt = \"\\nAdd a player to your team.\"\n",
        "prompt += \"\\nEnter 'quit' when your're done. \"\n",
        "\n",
        "player = []\n",
        "while True:\n",
        "  player = input(prompt)\n",
        "  if player == 'quit':\n",
        "    break\n",
        "  elif player in banned_users:\n",
        "    print(player + \" is banned!\")\n",
        "  else:\n",
        "    players.append(player)\n",
        "\n",
        "print(\"\\nYour team: \")\n",
        "for player in players:\n",
        "  print(player)"
      ],
      "execution_count": 132,
      "outputs": [
        {
          "output_type": "stream",
          "name": "stdout",
          "text": [
            "\n",
            "Add a player to your team.\n",
            "Enter 'quit' when your're done. Uday\n",
            "\n",
            "Add a player to your team.\n",
            "Enter 'quit' when your're done. Bhasker\n",
            "\n",
            "Add a player to your team.\n",
            "Enter 'quit' when your're done. Santosh\n",
            "\n",
            "Add a player to your team.\n",
            "Enter 'quit' when your're done. Kumar\n",
            "\n",
            "Add a player to your team.\n",
            "Enter 'quit' when your're done. quit\n",
            "\n",
            "Your team: \n",
            "Uday\n",
            "Bhasker\n",
            "Santosh\n",
            "Kumar\n"
          ]
        }
      ]
    },
    {
      "cell_type": "markdown",
      "metadata": {
        "id": "uamfXZ7RmSY0"
      },
      "source": [
        "## Avoiding infinite loops\n",
        "Every while loop needs a way to stop running so it won't continue to run forever. If there's no way for the condition to become False, the loop will never stop running."
      ]
    },
    {
      "cell_type": "code",
      "metadata": {
        "colab": {
          "base_uri": "https://localhost:8080/",
          "height": 561
        },
        "id": "b2cUIq4tmh2i",
        "outputId": "3fca776c-a47d-4002-e2ad-f3b02016bf8f"
      },
      "source": [
        "# An infinite loop\n",
        "while True:\n",
        "  name = input(\"\\Who are you? \")\n",
        "  print(\"Nice to meet you, \"+ name + \"!\")"
      ],
      "execution_count": 133,
      "outputs": [
        {
          "output_type": "stream",
          "name": "stdout",
          "text": [
            "\\Who are you? Uday\n",
            "Nice to meet you, Uday!\n"
          ]
        },
        {
          "output_type": "error",
          "ename": "KeyboardInterrupt",
          "evalue": "ignored",
          "traceback": [
            "\u001b[0;31m---------------------------------------------------------------------------\u001b[0m",
            "\u001b[0;31mKeyboardInterrupt\u001b[0m                         Traceback (most recent call last)",
            "\u001b[0;32m/usr/local/lib/python3.7/dist-packages/ipykernel/kernelbase.py\u001b[0m in \u001b[0;36m_input_request\u001b[0;34m(self, prompt, ident, parent, password)\u001b[0m\n\u001b[1;32m    728\u001b[0m             \u001b[0;32mtry\u001b[0m\u001b[0;34m:\u001b[0m\u001b[0;34m\u001b[0m\u001b[0;34m\u001b[0m\u001b[0m\n\u001b[0;32m--> 729\u001b[0;31m                 \u001b[0mident\u001b[0m\u001b[0;34m,\u001b[0m \u001b[0mreply\u001b[0m \u001b[0;34m=\u001b[0m \u001b[0mself\u001b[0m\u001b[0;34m.\u001b[0m\u001b[0msession\u001b[0m\u001b[0;34m.\u001b[0m\u001b[0mrecv\u001b[0m\u001b[0;34m(\u001b[0m\u001b[0mself\u001b[0m\u001b[0;34m.\u001b[0m\u001b[0mstdin_socket\u001b[0m\u001b[0;34m,\u001b[0m \u001b[0;36m0\u001b[0m\u001b[0;34m)\u001b[0m\u001b[0;34m\u001b[0m\u001b[0;34m\u001b[0m\u001b[0m\n\u001b[0m\u001b[1;32m    730\u001b[0m             \u001b[0;32mexcept\u001b[0m \u001b[0mException\u001b[0m\u001b[0;34m:\u001b[0m\u001b[0;34m\u001b[0m\u001b[0;34m\u001b[0m\u001b[0m\n",
            "\u001b[0;32m/usr/local/lib/python3.7/dist-packages/jupyter_client/session.py\u001b[0m in \u001b[0;36mrecv\u001b[0;34m(self, socket, mode, content, copy)\u001b[0m\n\u001b[1;32m    802\u001b[0m         \u001b[0;32mtry\u001b[0m\u001b[0;34m:\u001b[0m\u001b[0;34m\u001b[0m\u001b[0;34m\u001b[0m\u001b[0m\n\u001b[0;32m--> 803\u001b[0;31m             \u001b[0mmsg_list\u001b[0m \u001b[0;34m=\u001b[0m \u001b[0msocket\u001b[0m\u001b[0;34m.\u001b[0m\u001b[0mrecv_multipart\u001b[0m\u001b[0;34m(\u001b[0m\u001b[0mmode\u001b[0m\u001b[0;34m,\u001b[0m \u001b[0mcopy\u001b[0m\u001b[0;34m=\u001b[0m\u001b[0mcopy\u001b[0m\u001b[0;34m)\u001b[0m\u001b[0;34m\u001b[0m\u001b[0;34m\u001b[0m\u001b[0m\n\u001b[0m\u001b[1;32m    804\u001b[0m         \u001b[0;32mexcept\u001b[0m \u001b[0mzmq\u001b[0m\u001b[0;34m.\u001b[0m\u001b[0mZMQError\u001b[0m \u001b[0;32mas\u001b[0m \u001b[0me\u001b[0m\u001b[0;34m:\u001b[0m\u001b[0;34m\u001b[0m\u001b[0;34m\u001b[0m\u001b[0m\n",
            "\u001b[0;32m/usr/local/lib/python3.7/dist-packages/zmq/sugar/socket.py\u001b[0m in \u001b[0;36mrecv_multipart\u001b[0;34m(self, flags, copy, track)\u001b[0m\n\u001b[1;32m    624\u001b[0m         \"\"\"\n\u001b[0;32m--> 625\u001b[0;31m         \u001b[0mparts\u001b[0m \u001b[0;34m=\u001b[0m \u001b[0;34m[\u001b[0m\u001b[0mself\u001b[0m\u001b[0;34m.\u001b[0m\u001b[0mrecv\u001b[0m\u001b[0;34m(\u001b[0m\u001b[0mflags\u001b[0m\u001b[0;34m,\u001b[0m \u001b[0mcopy\u001b[0m\u001b[0;34m=\u001b[0m\u001b[0mcopy\u001b[0m\u001b[0;34m,\u001b[0m \u001b[0mtrack\u001b[0m\u001b[0;34m=\u001b[0m\u001b[0mtrack\u001b[0m\u001b[0;34m)\u001b[0m\u001b[0;34m]\u001b[0m\u001b[0;34m\u001b[0m\u001b[0;34m\u001b[0m\u001b[0m\n\u001b[0m\u001b[1;32m    626\u001b[0m         \u001b[0;31m# have first part already, only loop while more to receive\u001b[0m\u001b[0;34m\u001b[0m\u001b[0;34m\u001b[0m\u001b[0;34m\u001b[0m\u001b[0m\n",
            "\u001b[0;32mzmq/backend/cython/socket.pyx\u001b[0m in \u001b[0;36mzmq.backend.cython.socket.Socket.recv\u001b[0;34m()\u001b[0m\n",
            "\u001b[0;32mzmq/backend/cython/socket.pyx\u001b[0m in \u001b[0;36mzmq.backend.cython.socket.Socket.recv\u001b[0;34m()\u001b[0m\n",
            "\u001b[0;32mzmq/backend/cython/socket.pyx\u001b[0m in \u001b[0;36mzmq.backend.cython.socket._recv_copy\u001b[0;34m()\u001b[0m\n",
            "\u001b[0;32m/usr/local/lib/python3.7/dist-packages/zmq/backend/cython/checkrc.pxd\u001b[0m in \u001b[0;36mzmq.backend.cython.checkrc._check_rc\u001b[0;34m()\u001b[0m\n",
            "\u001b[0;31mKeyboardInterrupt\u001b[0m: ",
            "\nDuring handling of the above exception, another exception occurred:\n",
            "\u001b[0;31mKeyboardInterrupt\u001b[0m                         Traceback (most recent call last)",
            "\u001b[0;32m<ipython-input-133-5cb430465b10>\u001b[0m in \u001b[0;36m<module>\u001b[0;34m()\u001b[0m\n\u001b[1;32m      1\u001b[0m \u001b[0;31m# An infinite loop\u001b[0m\u001b[0;34m\u001b[0m\u001b[0;34m\u001b[0m\u001b[0;34m\u001b[0m\u001b[0m\n\u001b[1;32m      2\u001b[0m \u001b[0;32mwhile\u001b[0m \u001b[0;32mTrue\u001b[0m\u001b[0;34m:\u001b[0m\u001b[0;34m\u001b[0m\u001b[0;34m\u001b[0m\u001b[0m\n\u001b[0;32m----> 3\u001b[0;31m   \u001b[0mname\u001b[0m \u001b[0;34m=\u001b[0m \u001b[0minput\u001b[0m\u001b[0;34m(\u001b[0m\u001b[0;34m\"\\Who are you? \"\u001b[0m\u001b[0;34m)\u001b[0m\u001b[0;34m\u001b[0m\u001b[0;34m\u001b[0m\u001b[0m\n\u001b[0m\u001b[1;32m      4\u001b[0m   \u001b[0mprint\u001b[0m\u001b[0;34m(\u001b[0m\u001b[0;34m\"Nice to meet you, \"\u001b[0m\u001b[0;34m+\u001b[0m \u001b[0mname\u001b[0m \u001b[0;34m+\u001b[0m \u001b[0;34m\"!\"\u001b[0m\u001b[0;34m)\u001b[0m\u001b[0;34m\u001b[0m\u001b[0;34m\u001b[0m\u001b[0m\n",
            "\u001b[0;32m/usr/local/lib/python3.7/dist-packages/ipykernel/kernelbase.py\u001b[0m in \u001b[0;36mraw_input\u001b[0;34m(self, prompt)\u001b[0m\n\u001b[1;32m    702\u001b[0m             \u001b[0mself\u001b[0m\u001b[0;34m.\u001b[0m\u001b[0m_parent_ident\u001b[0m\u001b[0;34m,\u001b[0m\u001b[0;34m\u001b[0m\u001b[0;34m\u001b[0m\u001b[0m\n\u001b[1;32m    703\u001b[0m             \u001b[0mself\u001b[0m\u001b[0;34m.\u001b[0m\u001b[0m_parent_header\u001b[0m\u001b[0;34m,\u001b[0m\u001b[0;34m\u001b[0m\u001b[0;34m\u001b[0m\u001b[0m\n\u001b[0;32m--> 704\u001b[0;31m             \u001b[0mpassword\u001b[0m\u001b[0;34m=\u001b[0m\u001b[0;32mFalse\u001b[0m\u001b[0;34m,\u001b[0m\u001b[0;34m\u001b[0m\u001b[0;34m\u001b[0m\u001b[0m\n\u001b[0m\u001b[1;32m    705\u001b[0m         )\n\u001b[1;32m    706\u001b[0m \u001b[0;34m\u001b[0m\u001b[0m\n",
            "\u001b[0;32m/usr/local/lib/python3.7/dist-packages/ipykernel/kernelbase.py\u001b[0m in \u001b[0;36m_input_request\u001b[0;34m(self, prompt, ident, parent, password)\u001b[0m\n\u001b[1;32m    732\u001b[0m             \u001b[0;32mexcept\u001b[0m \u001b[0mKeyboardInterrupt\u001b[0m\u001b[0;34m:\u001b[0m\u001b[0;34m\u001b[0m\u001b[0;34m\u001b[0m\u001b[0m\n\u001b[1;32m    733\u001b[0m                 \u001b[0;31m# re-raise KeyboardInterrupt, to truncate traceback\u001b[0m\u001b[0;34m\u001b[0m\u001b[0;34m\u001b[0m\u001b[0;34m\u001b[0m\u001b[0m\n\u001b[0;32m--> 734\u001b[0;31m                 \u001b[0;32mraise\u001b[0m \u001b[0mKeyboardInterrupt\u001b[0m\u001b[0;34m\u001b[0m\u001b[0;34m\u001b[0m\u001b[0m\n\u001b[0m\u001b[1;32m    735\u001b[0m             \u001b[0;32melse\u001b[0m\u001b[0;34m:\u001b[0m\u001b[0;34m\u001b[0m\u001b[0;34m\u001b[0m\u001b[0m\n\u001b[1;32m    736\u001b[0m                 \u001b[0;32mbreak\u001b[0m\u001b[0;34m\u001b[0m\u001b[0;34m\u001b[0m\u001b[0m\n",
            "\u001b[0;31mKeyboardInterrupt\u001b[0m: "
          ]
        }
      ]
    },
    {
      "cell_type": "markdown",
      "metadata": {
        "id": "s9jbyvrem_Px"
      },
      "source": [
        "## Removing all instances of a value from a list\n",
        "The remove() method removes a specific value from a list, but it only removed the first instance of the value you provide. You can use a while loop to remove all instances of a particular value."
      ]
    },
    {
      "cell_type": "code",
      "metadata": {
        "colab": {
          "base_uri": "https://localhost:8080/"
        },
        "id": "KHoAH7Ujm-LM",
        "outputId": "e4363f83-a819-4392-be88-5111bdf6da19"
      },
      "source": [
        "# Removing all cats from a list of pets\n",
        "pets = ['dog', 'cat', 'dog', 'fish', 'cat', 'rabbit', 'cat']\n",
        "\n",
        "print(pets)\n",
        "\n",
        "while 'cat' in pets:\n",
        "  pets.remove('cat')\n",
        "\n",
        "print(pets)"
      ],
      "execution_count": 134,
      "outputs": [
        {
          "output_type": "stream",
          "name": "stdout",
          "text": [
            "['dog', 'cat', 'dog', 'fish', 'cat', 'rabbit', 'cat']\n",
            "['dog', 'dog', 'fish', 'rabbit']\n"
          ]
        }
      ]
    },
    {
      "cell_type": "markdown",
      "metadata": {
        "id": "rv8utvklnsBS"
      },
      "source": [
        "##Functions\n",
        "**What are functions?**\n",
        "\n",
        "Functions are named blocks of code designed to do one specific job. Functions allow you to write code once that can then be run whenever you need to accomplish the same task. Functions can take in the information they need, and return the information they generate. Using functions effectively makes your programs easier to write, read, test, fix."
      ]
    },
    {
      "cell_type": "markdown",
      "metadata": {
        "id": "NwhiXOrUoPq6"
      },
      "source": [
        "### Defining a function\n",
        "The first line of a function is its definition, marked by the keyword def. The name of the function is followed by a set of parentheses and a colon. A docstring, in triple quotes, describes what the function does. The body of a function is indented one level.\n",
        "\n",
        "To call a function, give the name of the function followed by a set of parentheses."
      ]
    },
    {
      "cell_type": "code",
      "metadata": {
        "colab": {
          "base_uri": "https://localhost:8080/"
        },
        "id": "xk8F2qjvozv6",
        "outputId": "a331d626-cd0c-4824-ae84-16171fb657d6"
      },
      "source": [
        "# Making a function\n",
        "def great_user():\n",
        "  # Displaying a simple greeting.\n",
        "  print(\"Hello!\")\n",
        "\n",
        "great_user()"
      ],
      "execution_count": 135,
      "outputs": [
        {
          "output_type": "stream",
          "name": "stdout",
          "text": [
            "Hello!\n"
          ]
        }
      ]
    },
    {
      "cell_type": "markdown",
      "metadata": {
        "id": "6t3-RhNEpRQd"
      },
      "source": [
        "### Passing information to a function\n",
        "Information that's passed to a function is called an argument; information that's received by a function is called a parameter. Arguments are included in parentheses after the function's name, and parameters are listed in parentheses in the function's definition."
      ]
    },
    {
      "cell_type": "code",
      "metadata": {
        "colab": {
          "base_uri": "https://localhost:8080/"
        },
        "id": "xhUuJnEsprve",
        "outputId": "e550f749-47a0-4055-9bd8-42abb3dcf4f6"
      },
      "source": [
        "# Passing a single argument\n",
        "def greet_user(username):\n",
        "  # Display a simple greeting.\n",
        "  print(f\"Hello, {username}!\")\n",
        "\n",
        "greet_user(\"Uday\")\n",
        "greet_user(\"Bhasker\")"
      ],
      "execution_count": 136,
      "outputs": [
        {
          "output_type": "stream",
          "name": "stdout",
          "text": [
            "Hello, Uday!\n",
            "Hello, Bhasker!\n"
          ]
        }
      ]
    },
    {
      "cell_type": "markdown",
      "metadata": {
        "id": "yjK6EOphqXsd"
      },
      "source": [
        "### Positional and keyword arguments\n",
        "The two main kinds of arguments are positional and keyword arguments. When you use positional arguments Python matches the first argument in the function call with the first parameter in the function definition, and so forth. \n",
        "\n",
        "With keyword arguments, you specify wich parameter each argument should be assigned to in the function call. When you use keyword arguments, the order of the arguments doesn't matter."
      ]
    },
    {
      "cell_type": "code",
      "metadata": {
        "colab": {
          "base_uri": "https://localhost:8080/"
        },
        "id": "VFie45NwrP6I",
        "outputId": "8d4287fe-e5b5-41e9-faf8-e0da30f00c7e"
      },
      "source": [
        "# Using positional arguments\n",
        "def describe_pet(name, animal):\n",
        "  # Display information about a pet.\n",
        "  print(\"\\nI have a \"+ animal+\".\")\n",
        "  print(\"It's name is \" + name+\".\")\n",
        "\n",
        "describe_pet(\"rabbit\", \"bunny\")\n",
        "describe_pet(\"dog\", \"scooby\")"
      ],
      "execution_count": 140,
      "outputs": [
        {
          "output_type": "stream",
          "name": "stdout",
          "text": [
            "\n",
            "I have a bunny.\n",
            "It's name is rabbit.\n",
            "\n",
            "I have a scooby.\n",
            "It's name is dog.\n"
          ]
        }
      ]
    },
    {
      "cell_type": "code",
      "metadata": {
        "colab": {
          "base_uri": "https://localhost:8080/"
        },
        "id": "R0J-GbSOsEly",
        "outputId": "87bfbba6-d126-44b7-91ad-d9cfe03522dd"
      },
      "source": [
        "# Using keyword arguments\n",
        "describe_pet(animal = \"rabbit\", name=\"bunny\")\n",
        "describe_pet(name=\"scooby\", animal= \"dog\")"
      ],
      "execution_count": 141,
      "outputs": [
        {
          "output_type": "stream",
          "name": "stdout",
          "text": [
            "\n",
            "I have a rabbit.\n",
            "It's name is bunny.\n",
            "\n",
            "I have a dog.\n",
            "It's name is scooby.\n"
          ]
        }
      ]
    },
    {
      "cell_type": "markdown",
      "metadata": {
        "id": "wMBmlTi2tGUr"
      },
      "source": [
        "### Default values\n",
        "You can provide a default value for a parameter. When function calls omit this argument the default value will be used. Parameters with default values must be listed after parameters without default values in the function's definition so positional arguments can still work correctly."
      ]
    },
    {
      "cell_type": "code",
      "metadata": {
        "colab": {
          "base_uri": "https://localhost:8080/"
        },
        "id": "nj4V3PUYthn9",
        "outputId": "69b9eea1-9ef9-4b69-b8ee-58fb12853fa4"
      },
      "source": [
        "# Using a default value\n",
        "def describe_pet(name, animal='dog') :\n",
        "  # Display information about a pet.\n",
        "  print(\"\\nI have a \"+ name+\".\")\n",
        "  print(\"It's name is \" + animal+\".\")\n",
        "\n",
        "describe_pet(\"rabbit\", \"bunny\")\n",
        "describe_pet(\"scooby\")"
      ],
      "execution_count": 142,
      "outputs": [
        {
          "output_type": "stream",
          "name": "stdout",
          "text": [
            "\n",
            "I have a rabbit.\n",
            "It's name is bunny.\n",
            "\n",
            "I have a scooby.\n",
            "It's name is dog.\n"
          ]
        }
      ]
    },
    {
      "cell_type": "code",
      "metadata": {
        "colab": {
          "base_uri": "https://localhost:8080/"
        },
        "id": "Xd0o_GL3toGH",
        "outputId": "7b716dbd-8ad2-45af-ca23-a13a98d209a5"
      },
      "source": [
        "# Using None to make an argument optional\n",
        "def describe_pet(animal, name=None) :\n",
        "  # Display information about a pet.\n",
        "  print(\"\\nI have a \"+ animal+\".\")\n",
        "  if name:\n",
        "    print(\"It's name is \" + name+\".\")\n",
        "\n",
        "describe_pet(\"rabbit\", \"bunny\")\n",
        "describe_pet(\"dog\")"
      ],
      "execution_count": 148,
      "outputs": [
        {
          "output_type": "stream",
          "name": "stdout",
          "text": [
            "\n",
            "I have a rabbit.\n",
            "It's name is bunny.\n",
            "\n",
            "I have a dog.\n"
          ]
        }
      ]
    },
    {
      "cell_type": "markdown",
      "metadata": {
        "id": "7wp6AkKXv03_"
      },
      "source": [
        "### Return values\n",
        "A function can return a value or a set of values. When a function returns a value, the calling line must provide a variable in which to store the return value. A function stops running when it reaches a return statement."
      ]
    },
    {
      "cell_type": "code",
      "metadata": {
        "colab": {
          "base_uri": "https://localhost:8080/"
        },
        "id": "Hn5C9-9uwNNe",
        "outputId": "1310b91c-20f1-492f-f4cc-84b1b1d89845"
      },
      "source": [
        "# Returning a single value\n",
        "def get_full_name(first, last):\n",
        "  # Return a neatly formatted full name.\n",
        "  full_name = first + ' ' + last\n",
        "  return full_name.title()\n",
        "\n",
        "musician = get_full_name('uday', 'yenneti')\n",
        "print(musician)"
      ],
      "execution_count": 149,
      "outputs": [
        {
          "output_type": "stream",
          "name": "stdout",
          "text": [
            "Uday Yenneti\n"
          ]
        }
      ]
    },
    {
      "cell_type": "code",
      "metadata": {
        "colab": {
          "base_uri": "https://localhost:8080/"
        },
        "id": "AFRzBDtwyQZQ",
        "outputId": "eccac72b-bed9-48e7-92f8-39b4ae94d94e"
      },
      "source": [
        "# Returning a dictionary\n",
        "def build_person(first, last):\n",
        "  # Return a dictionary of information about a person.\n",
        "  person = {'first': first, 'last': last}\n",
        "  return person\n",
        "\n",
        "musician = build_person('Uday', 'Yenneti')\n",
        "print(musician)"
      ],
      "execution_count": 150,
      "outputs": [
        {
          "output_type": "stream",
          "name": "stdout",
          "text": [
            "{'first': 'Uday', 'last': 'Yenneti'}\n"
          ]
        }
      ]
    },
    {
      "cell_type": "code",
      "metadata": {
        "colab": {
          "base_uri": "https://localhost:8080/"
        },
        "id": "pOLesNmxywYE",
        "outputId": "7388754a-cfde-4acb-a9c7-a83609f3fffa"
      },
      "source": [
        "# Returning a dictionary with optional values\n",
        "def build_person(first, last, age=None):\n",
        "  # Return a dictionary of information about a person.\n",
        "  person = {'first': first, 'last': last}\n",
        "  if age:\n",
        "    person['age'] = age\n",
        "  return person\n",
        "\n",
        "musician = build_person('Uday', 'Yenneti', 33)\n",
        "print(musician)\n",
        "\n",
        "musician = build_person('Bhaskar', 'Yenneti', 23)\n",
        "print(musician)"
      ],
      "execution_count": 153,
      "outputs": [
        {
          "output_type": "stream",
          "name": "stdout",
          "text": [
            "{'first': 'Uday', 'last': 'Yenneti', 'age': 33}\n",
            "{'first': 'Bhaskar', 'last': 'Yenneti', 'age': 23}\n"
          ]
        }
      ]
    },
    {
      "cell_type": "markdown",
      "metadata": {
        "id": "Er_VyILmz30Y"
      },
      "source": [
        "### Passing a list to a function\n",
        "You can pass a list as an argument to a function, and the function can work with the values in the list. Any changes the function makes to the list will affect the original list. You can prevent a function from modifying a list by passing a copy of the list as an argument."
      ]
    },
    {
      "cell_type": "code",
      "metadata": {
        "colab": {
          "base_uri": "https://localhost:8080/"
        },
        "id": "FOZw3caw0Pgv",
        "outputId": "a33b6e13-4914-43c1-f055-2eee9c4c1985"
      },
      "source": [
        "# Passing a list as an argument\n",
        "def greet_users(names):\n",
        "  # Print a simple greeting to everyone.\n",
        "  for name in names:\n",
        "    msg = \"Hello, \" + name + \"!\"\n",
        "    print(msg)\n",
        "\n",
        "usernames = ['Uday', 'Bhaskar', 'Santosh', 'Kumar']\n",
        "greet_users(usernames)"
      ],
      "execution_count": 155,
      "outputs": [
        {
          "output_type": "stream",
          "name": "stdout",
          "text": [
            "Hello, Uday!\n",
            "Hello, Bhaskar!\n",
            "Hello, Santosh!\n",
            "Hello, Kumar!\n"
          ]
        }
      ]
    },
    {
      "cell_type": "code",
      "metadata": {
        "colab": {
          "base_uri": "https://localhost:8080/"
        },
        "id": "PNabHcNq0xEy",
        "outputId": "4e9f10de-69be-4dd9-8355-8c9a45c2ff71"
      },
      "source": [
        "# Allowing a function to modify a list\n",
        "# The following example sends a list of models to function for printing. \n",
        "# The original list is emptied, and the second list is filled.\n",
        "def print_models(unprinted, printed):\n",
        "  # 3d print a set of models.\n",
        "  while unprinted:\n",
        "    current_model = unprinted.pop()\n",
        "    print(\"Printing \" + current_model)\n",
        "    printed.append(current_model)\n",
        "\n",
        "# Store some unprinted designs, and print each of them.\n",
        "unprinted = ['phone case', 'pendant', 'ring']\n",
        "printed = []\n",
        "print_models(unprinted, printed)\n",
        "\n",
        "print(\"\\nUnprinted:\", unprinted)\n",
        "print(\"Printed: \", printed)"
      ],
      "execution_count": 156,
      "outputs": [
        {
          "output_type": "stream",
          "name": "stdout",
          "text": [
            "Printing ring\n",
            "Printing pendant\n",
            "Printing phone case\n",
            "\n",
            "Unprinted: []\n",
            "Printed:  ['ring', 'pendant', 'phone case']\n"
          ]
        }
      ]
    },
    {
      "cell_type": "code",
      "metadata": {
        "colab": {
          "base_uri": "https://localhost:8080/"
        },
        "id": "Guc1Mfmo2LE8",
        "outputId": "ce87fc9a-6bf5-4e3c-f4bd-3249de3bc28f"
      },
      "source": [
        "# Preventing a function from modifying a list\n",
        "# The following example is the same as the previous one, \n",
        "# except the original list is unchanged after calling print_models()\n",
        "\n",
        "# Store some unprinted designs, and print each of them.\n",
        "unprinted = ['phone case', 'pendant', 'ring']\n",
        "printed = []\n",
        "print_models(unprinted[:], printed)\n",
        "print(\"\\nUnprinted:\", unprinted)\n",
        "print(\"Printed: \", printed)"
      ],
      "execution_count": 160,
      "outputs": [
        {
          "output_type": "stream",
          "name": "stdout",
          "text": [
            "Printing ring\n",
            "Printing pendant\n",
            "Printing phone case\n",
            "\n",
            "Unprinted: ['phone case', 'pendant', 'ring']\n",
            "Printed:  ['ring', 'pendant', 'phone case']\n"
          ]
        }
      ]
    },
    {
      "cell_type": "markdown",
      "metadata": {
        "id": "YAAMzegh32Qo"
      },
      "source": [
        "### Passing an arbitrary number of arguments\n",
        "Sometimes you won't know how many arguments a function will need to accept. Python allows you to collect an arbitrary number of arguments into one parameter using the * operator. A parameter that accepts an arbitrary number of arguments must come last in the function definition.\n",
        "\n",
        "The ** operator allows a parameter to collect an arbitrary number of keyword arguments."
      ]
    },
    {
      "cell_type": "code",
      "metadata": {
        "colab": {
          "base_uri": "https://localhost:8080/"
        },
        "id": "0MCKARbl4l39",
        "outputId": "414b7f1a-1120-45a1-cae0-97a37f6542db"
      },
      "source": [
        "# Collecting an arbitrary number of arguments\n",
        "def make_pizza(size, *toppings):\n",
        "  # Make a pizza.\n",
        "  print(f\"\\nMaking a {size} pizza.\")\n",
        "  print(\"Toppings:\")\n",
        "  for topping in toppings:\n",
        "    print(\"- \" + topping)\n",
        "\n",
        "# Make three pizzas with different toppings.\n",
        "make_pizza(\"small\", \"pepperoni\")\n",
        "make_pizza(\"large\", \"bacon bits\", \"pineapple\")\n",
        "make_pizza(\"medium\", \"mushrooms\", \"peppers\", \"onions\", \"extra cheese\")"
      ],
      "execution_count": 161,
      "outputs": [
        {
          "output_type": "stream",
          "name": "stdout",
          "text": [
            "\n",
            "Making a small pizza.\n",
            "Toppings:\n",
            "- pepperoni\n",
            "\n",
            "Making a large pizza.\n",
            "Toppings:\n",
            "- bacon bits\n",
            "- pineapple\n",
            "\n",
            "Making a medium pizza.\n",
            "Toppings:\n",
            "- mushrooms\n",
            "- peppers\n",
            "- onions\n",
            "- extra cheese\n"
          ]
        }
      ]
    },
    {
      "cell_type": "code",
      "metadata": {
        "colab": {
          "base_uri": "https://localhost:8080/"
        },
        "id": "2d7NEDQU5sXZ",
        "outputId": "4e93f43c-7bce-4c30-91a9-37dc5b48a05c"
      },
      "source": [
        "# Collecting an arbitrary number of keyword arguments\n",
        "def build_profile(first, last, **user_info):\n",
        "  # Build a user's profile dictionary.\n",
        "  # Build a dict with the required keys.\n",
        "  profile = {'first': first, 'last': last}\n",
        "\n",
        "  # Add any other keys and values.\n",
        "  for key, value in user_info.items():\n",
        "    profile[key] = value\n",
        "  return profile\n",
        "\n",
        "# Create two users with differnt kinds of information.\n",
        "user_0 = build_profile('Uday', 'Yenneti', location='Hyderabad')\n",
        "user_1 = build_profile('Bhaskar', 'Yenneti', location=\"Vizag\", field='Programmming')\n",
        "\n",
        "print(user_0)\n",
        "print(user_1)"
      ],
      "execution_count": 162,
      "outputs": [
        {
          "output_type": "stream",
          "name": "stdout",
          "text": [
            "{'first': 'Uday', 'last': 'Yenneti', 'location': 'Hyderabad'}\n",
            "{'first': 'Bhaskar', 'last': 'Yenneti', 'location': 'Vizag', 'field': 'Programmming'}\n"
          ]
        }
      ]
    },
    {
      "cell_type": "markdown",
      "metadata": {
        "id": "qA1uBZRZ7OPz"
      },
      "source": [
        "### What's the best way to structure a function?\n",
        "As you can see there are many ways to write and call a function. When you're starting out, aim for something that simply works. As you gain experience you'll develop an understanding of the more subtle advantages of different structures such as positional and keyword arguments, and the various approaches to importing functions. For now if your functions do what you need them to, you're doing well."
      ]
    },
    {
      "cell_type": "markdown",
      "metadata": {
        "id": "xot4XDVq79WC"
      },
      "source": [
        "### Modules\n",
        "You can store your functions in a separate file called a module, and then import the functions you need into the file containing your main program. This allows for cleaner program files. (Make sure your module is stored is stored in the same directory as your main program.)"
      ]
    },
    {
      "cell_type": "code",
      "metadata": {
        "id": "0XGEaeig8YbX"
      },
      "source": [
        "# Storing a function in a module\n",
        "# File: pizza.py\n",
        "def make_pizza(size, *toppings):\n",
        "  # Make a pizza.\n",
        "  print(f\"\\nMaking a {size} pizza.\")\n",
        "  print(\"Toppings:\")\n",
        "  for topping in toppings:\n",
        "    print(\"- \" + topping)"
      ],
      "execution_count": 163,
      "outputs": []
    },
    {
      "cell_type": "code",
      "metadata": {
        "id": "swyKdlHn-hxB"
      },
      "source": [
        "# Importing an entire module\n",
        "# File: making_pizzas.py\n",
        "# Every function in the module is available in the program file.\n",
        "\n",
        "import pizza\n",
        "\n",
        "pizza.make_pizza('medium', 'pepperoni')\n",
        "pizza.make_pizza('small', 'bacon', 'pineapple')"
      ],
      "execution_count": null,
      "outputs": []
    },
    {
      "cell_type": "code",
      "metadata": {
        "id": "aJtMMTg0_aQT"
      },
      "source": [
        "# Importing an specific function\n",
        "# Only the imported functions are avaialbe in the program file.\n",
        "from pizza import make_pizza\n",
        "\n",
        "make_pizza('medium', 'pepperoni')\n",
        "make_pizza('small', 'bacon', 'pineapple')"
      ],
      "execution_count": null,
      "outputs": []
    },
    {
      "cell_type": "code",
      "metadata": {
        "id": "hFkbYR_M_9K4"
      },
      "source": [
        "# Giving a module an alias\n",
        "import pizza as p\n",
        "\n",
        "p.make_pizza('medium', 'pepperoni')\n",
        "p.make_pizza('small', 'bacon', 'pineapple')"
      ],
      "execution_count": null,
      "outputs": []
    },
    {
      "cell_type": "code",
      "metadata": {
        "id": "JTaRCtI4ARyX"
      },
      "source": [
        "# Giving a function an alias\n",
        "from pizza import make_pizza as mp\n",
        "\n",
        "mp('medium', 'pepperoni')\n",
        "mp('small', 'bacon', 'pineapple')"
      ],
      "execution_count": null,
      "outputs": []
    },
    {
      "cell_type": "code",
      "metadata": {
        "id": "sUpzqRrmAryI"
      },
      "source": [
        "# Importing all functions from a module\n",
        "# Don't do this, but recognize it when you see it in others code. \n",
        "# It can result in naming conflicts; which can cause errors.\n",
        "from pizza import *\n",
        "\n",
        "make_pizza('medium', 'pepperoni')\n",
        "make_pizza('small', 'bacon', 'pineapple')"
      ],
      "execution_count": null,
      "outputs": []
    },
    {
      "cell_type": "markdown",
      "metadata": {
        "id": "g9F0b4O8BavW"
      },
      "source": [
        "## Cheat Sheet - Classes\n",
        "**What are classes?**\n",
        "\n",
        "Classes are the foundation of object-oriented programming. Classes represent real-world things you want to model in your programs: for example dogs, cars and robots. You use a class to make objects, which are specific instances of dogs, car and robots. A class defines the general behaviour that a whole category of objects can have, and the information that can be associated with those objects.\n",
        "\n",
        "Classes can inherit from each other - you can write a class that extends the functionality of an existing class. This allows you to code efficiently for a wide variety of situations."
      ]
    },
    {
      "cell_type": "markdown",
      "metadata": {
        "id": "xdy-qTm8EZWj"
      },
      "source": [
        "### Creating and using a class\n",
        "Consider how we might model a car. What information would we associate with a car, and what behavior would it have? The information is stored in variables called attributes, and the behavior is represented by functions. Functions that are part of a class are called methods."
      ]
    },
    {
      "cell_type": "code",
      "metadata": {
        "id": "5vOoRQ9oE55M"
      },
      "source": [
        "# The Car classs\n",
        "class Car():\n",
        "  # A simple attempt to model a car.\n",
        "  def __init__(self, make, model, year):\n",
        "    self.make = make\n",
        "    self.model = model\n",
        "    self.year = year\n",
        "\n",
        "    # Fuel capacity and level in gallons.\n",
        "    self.fuel_capacity = 15\n",
        "    self.fuel_level = 0\n",
        "\n",
        "  def fill_tank(self):\n",
        "    # Fill gas tank to capacity.\n",
        "    self.fuel_level = self.fuel_capacity\n",
        "    print(\"Fuel tank is full.\")\n",
        "\n",
        "  def drive(self):\n",
        "    # Simulate driving.\n",
        "    print(\"The car is moving.\")"
      ],
      "execution_count": 3,
      "outputs": []
    },
    {
      "cell_type": "code",
      "metadata": {
        "id": "o0K38yLBGVBD"
      },
      "source": [
        "# Creating an object from a class\n",
        "my_car = Car('ford', 'figo', 2012)"
      ],
      "execution_count": 4,
      "outputs": []
    },
    {
      "cell_type": "code",
      "metadata": {
        "colab": {
          "base_uri": "https://localhost:8080/"
        },
        "id": "eS27AFt0Gvq9",
        "outputId": "88151164-7668-4e70-9599-912557420dd8"
      },
      "source": [
        "# Accessing attribute values\n",
        "print(my_car.make)\n",
        "print(my_car.model)\n",
        "print(my_car.year)"
      ],
      "execution_count": 166,
      "outputs": [
        {
          "output_type": "stream",
          "name": "stdout",
          "text": [
            "ford\n",
            "figo\n",
            "2012\n"
          ]
        }
      ]
    },
    {
      "cell_type": "code",
      "metadata": {
        "colab": {
          "base_uri": "https://localhost:8080/"
        },
        "id": "FH5HEGybARqz",
        "outputId": "000e04ed-5d0a-418e-bef9-f67ebb7fb029"
      },
      "source": [
        "# Calling methods\n",
        "my_car.fill_tank()\n",
        "my_car.drive()"
      ],
      "execution_count": 5,
      "outputs": [
        {
          "output_type": "stream",
          "name": "stdout",
          "text": [
            "Fuel tank is full.\n",
            "The car is moving.\n"
          ]
        }
      ]
    },
    {
      "cell_type": "code",
      "metadata": {
        "id": "DrSXH3jPAufz"
      },
      "source": [
        "# Creating multiple objects\n",
        "my_old_car = Car('Maruthi', 'alto', 2000)\n",
        "my_truck = Car('toyota', 'tacoma', 2010)"
      ],
      "execution_count": 8,
      "outputs": []
    },
    {
      "cell_type": "markdown",
      "metadata": {
        "id": "mTsPPzI0BgeB"
      },
      "source": [
        "### Modifying attributes\n",
        "You can modify an attribute's value directly, or you can write methods updating values more carefully."
      ]
    },
    {
      "cell_type": "code",
      "metadata": {
        "id": "KePDUHPDBsYL"
      },
      "source": [
        "# Modifying an attribute directly\n",
        "my_new_car = Car('audi', 'a4', 2019)\n",
        "my_new_car.fuel_level = 5"
      ],
      "execution_count": 10,
      "outputs": []
    },
    {
      "cell_type": "code",
      "metadata": {
        "id": "p0WXTR_ICUvQ"
      },
      "source": [
        "# Writing a method to update an attribute's value\n",
        "def update_fuel_level(self, new_level):\n",
        "  #Update the fuel level.\n",
        "  if new_level <= self.fuel_capacity:\n",
        "    self.fuel_level = new_level\n",
        "  else :\n",
        "    print(\"The tank can't hold that much!\")\n",
        "\n",
        "# Writing a method to increment an attribute's value\n",
        "def add_fuel(self, amount):\n",
        "  # Add fuel to the tank.\n",
        "  if(self.fuel_level + amount <= self.fuel_capacity):\n",
        "    self.fuel_level += amount\n",
        "    print(\"Added fuel.\")\n",
        "  else:\n",
        "    print(\"The tank won't hold that much.\")"
      ],
      "execution_count": 11,
      "outputs": []
    },
    {
      "cell_type": "markdown",
      "metadata": {
        "id": "JMp1fDmvDd9z"
      },
      "source": [
        "### Naming conventions\n",
        "In Python class names are written in CamelCase and object names are written in lowercase with underscores. Modules that contain classes should still be named in lowercase with underscores."
      ]
    },
    {
      "cell_type": "markdown",
      "metadata": {
        "id": "BI9Q8icvD9Tu"
      },
      "source": [
        "### Class inheritancets\n",
        "If the class you're writing is a specialized version of another class, you can use inheritance. When one class inherits from another, it automatically takes on all the attributes and methods of the parent class. The child class is free to introduce new attributes and methods, and override attributes and methods of the parent class.\n",
        "\n",
        "To inherit from another class include the name of the parent class in parentheses when defining the new class."
      ]
    },
    {
      "cell_type": "code",
      "metadata": {
        "id": "Ndp-H84aEp06"
      },
      "source": [
        "# The __init__() method for a child class\n",
        "class ElectricCar(Car):\n",
        "  # A simple model of an electric car.\n",
        "  def __init__(self, make, model, year):\n",
        "    # Initialize an electric car.\n",
        "    super().__init__(make, model, year)\n",
        "\n",
        "    # Attributes specific to electric cars.\n",
        "    # BAttery capacity in KWh.\n",
        "    self.battery_size = 70\n",
        "    # Chanrge level in %.\n",
        "    self.charge_level = 0\n",
        "  # Adding new methods to the child class\n",
        "  def charge(self) :\n",
        "    # Fully charge the vehicle.\n",
        "    self.charge_level = 100\n",
        "    print(\"The vehicle is fully charged.\")\n",
        "  \n",
        "  # Overriding parent methods\n",
        "  def fill_tank(self):\n",
        "    # Displaying an error message.\n",
        "    print(\"This car has no fuel tank!\")"
      ],
      "execution_count": 19,
      "outputs": []
    },
    {
      "cell_type": "code",
      "metadata": {
        "colab": {
          "base_uri": "https://localhost:8080/"
        },
        "id": "xQzxRNfnGP08",
        "outputId": "182ddc55-c26f-43e6-b8db-0e01bf0015a8"
      },
      "source": [
        "# Using child methods and parent methods\n",
        "my_ecar = ElectricCar('tesla', 'model s', 2020)\n",
        "\n",
        "my_ecar.charge()\n",
        "my_ecar.drive()"
      ],
      "execution_count": 18,
      "outputs": [
        {
          "output_type": "stream",
          "name": "stdout",
          "text": [
            "The vehicle is fully charged.\n",
            "The car is moving.\n"
          ]
        }
      ]
    },
    {
      "cell_type": "markdown",
      "metadata": {
        "id": "4P_SPUUeG3P1"
      },
      "source": [
        "### Finding your workflow\n",
        "There are many ways to model real world objects and situations in code, and sometimes that variety can feel overwhelming. Pick an approach and try it - if your first attempt doesn't work try a different approach."
      ]
    },
    {
      "cell_type": "markdown",
      "metadata": {
        "id": "otSiDGd4Hv_R"
      },
      "source": [
        "### Instances as attributes\n",
        "A class can have objects as attributes. This allows classes to work together to model complex situations.\n"
      ]
    },
    {
      "cell_type": "code",
      "metadata": {
        "id": "0w7I1iuMHrwY"
      },
      "source": [
        "# A Battery class\n",
        "class Battery():\n",
        "  # A battery for an electric car.\n",
        "  \n",
        "  def __init__(self, size=70):\n",
        "    # Initialize battery attributes.\n",
        "    # Capacity in KWh, charge level in %.\n",
        "    self.size = size\n",
        "    self.charge_level = 0\n",
        "  \n",
        "  def get_range(self):\n",
        "    # Return the battery's range.\n",
        "    if self.size == 70:\n",
        "      return 240\n",
        "    elif self.size == 85:\n",
        "      return 270"
      ],
      "execution_count": 20,
      "outputs": []
    },
    {
      "cell_type": "code",
      "metadata": {
        "id": "UclNUHA7JH2x"
      },
      "source": [
        "# Using an instance as ana attribute\n",
        "# The __init__() method for a child class\n",
        "class ElectricCar(Car):\n",
        "  # A simple model of an electric car.\n",
        "  def __init__(self, make, model, year):\n",
        "    # Initialize an electric car.\n",
        "    super().__init__(make, model, year)\n",
        "\n",
        "    # Attributes specific to electric cars.\n",
        "    self.battery = Battery()\n",
        "  # Adding new methods to the child class\n",
        "  def charge(self) :\n",
        "    # Fully charge the vehicle.\n",
        "    self.battery.charge_level = 100\n",
        "    print(\"The vehicle is fully charged.\")"
      ],
      "execution_count": 21,
      "outputs": []
    },
    {
      "cell_type": "code",
      "metadata": {
        "colab": {
          "base_uri": "https://localhost:8080/"
        },
        "id": "0yRKyRkvJhPD",
        "outputId": "5fc55e4f-d1e1-4889-fbd0-378bd754bc15"
      },
      "source": [
        "# Using the instance\n",
        "my_ecar = ElectricCar('tesla', 'model x', 2020)\n",
        "\n",
        "my_ecar.charge()\n",
        "print(my_ecar.battery.get_range())\n",
        "my_ecar.drive()"
      ],
      "execution_count": 22,
      "outputs": [
        {
          "output_type": "stream",
          "name": "stdout",
          "text": [
            "The vehicle is fully charged.\n",
            "240\n",
            "The car is moving.\n"
          ]
        }
      ]
    },
    {
      "cell_type": "markdown",
      "metadata": {
        "id": "WGsVzafgJ65x"
      },
      "source": [
        "### Importing classes\n",
        "Class files can get long as you add detailed information and functionality. To help keep your program files uncluttered, you can store your classes in modules and import the classes you need into your main program."
      ]
    },
    {
      "cell_type": "code",
      "metadata": {
        "id": "u-cWQoenKRnV"
      },
      "source": [
        "# Storing classes in a file\n",
        "# car.py\n",
        "# Represent gas and electric cars.\n",
        "class Car():\n",
        "  # A simple attempt to model a car.\n",
        "  --snip--\n",
        "\n",
        "class Battery():\n",
        "  # A battery for an electric car.\n",
        "  --snip--\n",
        "\n",
        "class ElectricCar(Car):\n",
        "  # A simple model of an electric car.\n",
        "  -- snip--"
      ],
      "execution_count": null,
      "outputs": []
    },
    {
      "cell_type": "code",
      "metadata": {
        "id": "Dovxotg1Nucw"
      },
      "source": [
        "# Importing individual classes from a module\n",
        "# my_cars.py\n",
        "# from car import Car, ElectricCar\n",
        "# Importing an entire module\n",
        "# import car\n",
        "# Importing all classes from a module\n",
        "# (Don't do this, but recognize it when you see it.)\n",
        "# from car import *\n",
        "\n",
        "my_beetle = Car('Volkswagen', 'beetle', 2018)\n",
        "my_beetle.fill_tank()\n",
        "my_beetle.drive()\n",
        "\n",
        "my_tesla = ElectricCar('tesla', 'model s', 2020)\n",
        "my_tesla.charge()\n",
        "my_tesla.drive()"
      ],
      "execution_count": null,
      "outputs": []
    },
    {
      "cell_type": "markdown",
      "metadata": {
        "id": "jPl3ZBU9QuVS"
      },
      "source": [
        "### Storing objects in a list\n",
        "A list can hold as many items as you want, so you can make a large number of objects from a class and store them in a list.\n",
        "\n",
        "Here's an example showing how to make a fleet of rental cars, and make sure all the cars are ready to drive."
      ]
    },
    {
      "cell_type": "code",
      "metadata": {
        "colab": {
          "base_uri": "https://localhost:8080/"
        },
        "id": "AC3iuczmRJja",
        "outputId": "a50b58ac-b408-4f15-a2c9-cd5a9b9365b1"
      },
      "source": [
        "# A fleet of rental cars\n",
        "# from car import Car, ElectricCar\n",
        "\n",
        "# Make lists to hold a fleet of cars.\n",
        "gas_fleet = []\n",
        "electric_fleet = []\n",
        "\n",
        "#Make 500 gas cars and 250 electric cars.\n",
        "for _ in range(500):\n",
        "  car = Car('ford', 'figo', 2015)\n",
        "  gas_fleet.append(car)\n",
        "\n",
        "for _ in range(250):\n",
        "  ecar = ElectricCar('tesla', 'model s', 2020)\n",
        "  electric_fleet.append(ecar)\n",
        "\n",
        "# Fill the gas cars, and charge electric cars.\n",
        "for car in gas_fleet:\n",
        "  car.fill_tank()\n",
        "for ecar in electric_fleet:\n",
        "  ecar.charge()\n",
        "\n",
        "print(\"Gas cars:\", len(gas_fleet))\n",
        "print(\"Electric cars:\", len(electric_fleet))"
      ],
      "execution_count": 26,
      "outputs": [
        {
          "output_type": "stream",
          "name": "stdout",
          "text": [
            "Fuel tank is full.\n",
            "Fuel tank is full.\n",
            "Fuel tank is full.\n",
            "Fuel tank is full.\n",
            "Fuel tank is full.\n",
            "Fuel tank is full.\n",
            "Fuel tank is full.\n",
            "Fuel tank is full.\n",
            "Fuel tank is full.\n",
            "Fuel tank is full.\n",
            "Fuel tank is full.\n",
            "Fuel tank is full.\n",
            "Fuel tank is full.\n",
            "Fuel tank is full.\n",
            "Fuel tank is full.\n",
            "Fuel tank is full.\n",
            "Fuel tank is full.\n",
            "Fuel tank is full.\n",
            "Fuel tank is full.\n",
            "Fuel tank is full.\n",
            "Fuel tank is full.\n",
            "Fuel tank is full.\n",
            "Fuel tank is full.\n",
            "Fuel tank is full.\n",
            "Fuel tank is full.\n",
            "Fuel tank is full.\n",
            "Fuel tank is full.\n",
            "Fuel tank is full.\n",
            "Fuel tank is full.\n",
            "Fuel tank is full.\n",
            "Fuel tank is full.\n",
            "Fuel tank is full.\n",
            "Fuel tank is full.\n",
            "Fuel tank is full.\n",
            "Fuel tank is full.\n",
            "Fuel tank is full.\n",
            "Fuel tank is full.\n",
            "Fuel tank is full.\n",
            "Fuel tank is full.\n",
            "Fuel tank is full.\n",
            "Fuel tank is full.\n",
            "Fuel tank is full.\n",
            "Fuel tank is full.\n",
            "Fuel tank is full.\n",
            "Fuel tank is full.\n",
            "Fuel tank is full.\n",
            "Fuel tank is full.\n",
            "Fuel tank is full.\n",
            "Fuel tank is full.\n",
            "Fuel tank is full.\n",
            "Fuel tank is full.\n",
            "Fuel tank is full.\n",
            "Fuel tank is full.\n",
            "Fuel tank is full.\n",
            "Fuel tank is full.\n",
            "Fuel tank is full.\n",
            "Fuel tank is full.\n",
            "Fuel tank is full.\n",
            "Fuel tank is full.\n",
            "Fuel tank is full.\n",
            "Fuel tank is full.\n",
            "Fuel tank is full.\n",
            "Fuel tank is full.\n",
            "Fuel tank is full.\n",
            "Fuel tank is full.\n",
            "Fuel tank is full.\n",
            "Fuel tank is full.\n",
            "Fuel tank is full.\n",
            "Fuel tank is full.\n",
            "Fuel tank is full.\n",
            "Fuel tank is full.\n",
            "Fuel tank is full.\n",
            "Fuel tank is full.\n",
            "Fuel tank is full.\n",
            "Fuel tank is full.\n",
            "Fuel tank is full.\n",
            "Fuel tank is full.\n",
            "Fuel tank is full.\n",
            "Fuel tank is full.\n",
            "Fuel tank is full.\n",
            "Fuel tank is full.\n",
            "Fuel tank is full.\n",
            "Fuel tank is full.\n",
            "Fuel tank is full.\n",
            "Fuel tank is full.\n",
            "Fuel tank is full.\n",
            "Fuel tank is full.\n",
            "Fuel tank is full.\n",
            "Fuel tank is full.\n",
            "Fuel tank is full.\n",
            "Fuel tank is full.\n",
            "Fuel tank is full.\n",
            "Fuel tank is full.\n",
            "Fuel tank is full.\n",
            "Fuel tank is full.\n",
            "Fuel tank is full.\n",
            "Fuel tank is full.\n",
            "Fuel tank is full.\n",
            "Fuel tank is full.\n",
            "Fuel tank is full.\n",
            "Fuel tank is full.\n",
            "Fuel tank is full.\n",
            "Fuel tank is full.\n",
            "Fuel tank is full.\n",
            "Fuel tank is full.\n",
            "Fuel tank is full.\n",
            "Fuel tank is full.\n",
            "Fuel tank is full.\n",
            "Fuel tank is full.\n",
            "Fuel tank is full.\n",
            "Fuel tank is full.\n",
            "Fuel tank is full.\n",
            "Fuel tank is full.\n",
            "Fuel tank is full.\n",
            "Fuel tank is full.\n",
            "Fuel tank is full.\n",
            "Fuel tank is full.\n",
            "Fuel tank is full.\n",
            "Fuel tank is full.\n",
            "Fuel tank is full.\n",
            "Fuel tank is full.\n",
            "Fuel tank is full.\n",
            "Fuel tank is full.\n",
            "Fuel tank is full.\n",
            "Fuel tank is full.\n",
            "Fuel tank is full.\n",
            "Fuel tank is full.\n",
            "Fuel tank is full.\n",
            "Fuel tank is full.\n",
            "Fuel tank is full.\n",
            "Fuel tank is full.\n",
            "Fuel tank is full.\n",
            "Fuel tank is full.\n",
            "Fuel tank is full.\n",
            "Fuel tank is full.\n",
            "Fuel tank is full.\n",
            "Fuel tank is full.\n",
            "Fuel tank is full.\n",
            "Fuel tank is full.\n",
            "Fuel tank is full.\n",
            "Fuel tank is full.\n",
            "Fuel tank is full.\n",
            "Fuel tank is full.\n",
            "Fuel tank is full.\n",
            "Fuel tank is full.\n",
            "Fuel tank is full.\n",
            "Fuel tank is full.\n",
            "Fuel tank is full.\n",
            "Fuel tank is full.\n",
            "Fuel tank is full.\n",
            "Fuel tank is full.\n",
            "Fuel tank is full.\n",
            "Fuel tank is full.\n",
            "Fuel tank is full.\n",
            "Fuel tank is full.\n",
            "Fuel tank is full.\n",
            "Fuel tank is full.\n",
            "Fuel tank is full.\n",
            "Fuel tank is full.\n",
            "Fuel tank is full.\n",
            "Fuel tank is full.\n",
            "Fuel tank is full.\n",
            "Fuel tank is full.\n",
            "Fuel tank is full.\n",
            "Fuel tank is full.\n",
            "Fuel tank is full.\n",
            "Fuel tank is full.\n",
            "Fuel tank is full.\n",
            "Fuel tank is full.\n",
            "Fuel tank is full.\n",
            "Fuel tank is full.\n",
            "Fuel tank is full.\n",
            "Fuel tank is full.\n",
            "Fuel tank is full.\n",
            "Fuel tank is full.\n",
            "Fuel tank is full.\n",
            "Fuel tank is full.\n",
            "Fuel tank is full.\n",
            "Fuel tank is full.\n",
            "Fuel tank is full.\n",
            "Fuel tank is full.\n",
            "Fuel tank is full.\n",
            "Fuel tank is full.\n",
            "Fuel tank is full.\n",
            "Fuel tank is full.\n",
            "Fuel tank is full.\n",
            "Fuel tank is full.\n",
            "Fuel tank is full.\n",
            "Fuel tank is full.\n",
            "Fuel tank is full.\n",
            "Fuel tank is full.\n",
            "Fuel tank is full.\n",
            "Fuel tank is full.\n",
            "Fuel tank is full.\n",
            "Fuel tank is full.\n",
            "Fuel tank is full.\n",
            "Fuel tank is full.\n",
            "Fuel tank is full.\n",
            "Fuel tank is full.\n",
            "Fuel tank is full.\n",
            "Fuel tank is full.\n",
            "Fuel tank is full.\n",
            "Fuel tank is full.\n",
            "Fuel tank is full.\n",
            "Fuel tank is full.\n",
            "Fuel tank is full.\n",
            "Fuel tank is full.\n",
            "Fuel tank is full.\n",
            "Fuel tank is full.\n",
            "Fuel tank is full.\n",
            "Fuel tank is full.\n",
            "Fuel tank is full.\n",
            "Fuel tank is full.\n",
            "Fuel tank is full.\n",
            "Fuel tank is full.\n",
            "Fuel tank is full.\n",
            "Fuel tank is full.\n",
            "Fuel tank is full.\n",
            "Fuel tank is full.\n",
            "Fuel tank is full.\n",
            "Fuel tank is full.\n",
            "Fuel tank is full.\n",
            "Fuel tank is full.\n",
            "Fuel tank is full.\n",
            "Fuel tank is full.\n",
            "Fuel tank is full.\n",
            "Fuel tank is full.\n",
            "Fuel tank is full.\n",
            "Fuel tank is full.\n",
            "Fuel tank is full.\n",
            "Fuel tank is full.\n",
            "Fuel tank is full.\n",
            "Fuel tank is full.\n",
            "Fuel tank is full.\n",
            "Fuel tank is full.\n",
            "Fuel tank is full.\n",
            "Fuel tank is full.\n",
            "Fuel tank is full.\n",
            "Fuel tank is full.\n",
            "Fuel tank is full.\n",
            "Fuel tank is full.\n",
            "Fuel tank is full.\n",
            "Fuel tank is full.\n",
            "Fuel tank is full.\n",
            "Fuel tank is full.\n",
            "Fuel tank is full.\n",
            "Fuel tank is full.\n",
            "Fuel tank is full.\n",
            "Fuel tank is full.\n",
            "Fuel tank is full.\n",
            "Fuel tank is full.\n",
            "Fuel tank is full.\n",
            "Fuel tank is full.\n",
            "Fuel tank is full.\n",
            "Fuel tank is full.\n",
            "Fuel tank is full.\n",
            "Fuel tank is full.\n",
            "Fuel tank is full.\n",
            "Fuel tank is full.\n",
            "Fuel tank is full.\n",
            "Fuel tank is full.\n",
            "Fuel tank is full.\n",
            "Fuel tank is full.\n",
            "Fuel tank is full.\n",
            "Fuel tank is full.\n",
            "Fuel tank is full.\n",
            "Fuel tank is full.\n",
            "Fuel tank is full.\n",
            "Fuel tank is full.\n",
            "Fuel tank is full.\n",
            "Fuel tank is full.\n",
            "Fuel tank is full.\n",
            "Fuel tank is full.\n",
            "Fuel tank is full.\n",
            "Fuel tank is full.\n",
            "Fuel tank is full.\n",
            "Fuel tank is full.\n",
            "Fuel tank is full.\n",
            "Fuel tank is full.\n",
            "Fuel tank is full.\n",
            "Fuel tank is full.\n",
            "Fuel tank is full.\n",
            "Fuel tank is full.\n",
            "Fuel tank is full.\n",
            "Fuel tank is full.\n",
            "Fuel tank is full.\n",
            "Fuel tank is full.\n",
            "Fuel tank is full.\n",
            "Fuel tank is full.\n",
            "Fuel tank is full.\n",
            "Fuel tank is full.\n",
            "Fuel tank is full.\n",
            "Fuel tank is full.\n",
            "Fuel tank is full.\n",
            "Fuel tank is full.\n",
            "Fuel tank is full.\n",
            "Fuel tank is full.\n",
            "Fuel tank is full.\n",
            "Fuel tank is full.\n",
            "Fuel tank is full.\n",
            "Fuel tank is full.\n",
            "Fuel tank is full.\n",
            "Fuel tank is full.\n",
            "Fuel tank is full.\n",
            "Fuel tank is full.\n",
            "Fuel tank is full.\n",
            "Fuel tank is full.\n",
            "Fuel tank is full.\n",
            "Fuel tank is full.\n",
            "Fuel tank is full.\n",
            "Fuel tank is full.\n",
            "Fuel tank is full.\n",
            "Fuel tank is full.\n",
            "Fuel tank is full.\n",
            "Fuel tank is full.\n",
            "Fuel tank is full.\n",
            "Fuel tank is full.\n",
            "Fuel tank is full.\n",
            "Fuel tank is full.\n",
            "Fuel tank is full.\n",
            "Fuel tank is full.\n",
            "Fuel tank is full.\n",
            "Fuel tank is full.\n",
            "Fuel tank is full.\n",
            "Fuel tank is full.\n",
            "Fuel tank is full.\n",
            "Fuel tank is full.\n",
            "Fuel tank is full.\n",
            "Fuel tank is full.\n",
            "Fuel tank is full.\n",
            "Fuel tank is full.\n",
            "Fuel tank is full.\n",
            "Fuel tank is full.\n",
            "Fuel tank is full.\n",
            "Fuel tank is full.\n",
            "Fuel tank is full.\n",
            "Fuel tank is full.\n",
            "Fuel tank is full.\n",
            "Fuel tank is full.\n",
            "Fuel tank is full.\n",
            "Fuel tank is full.\n",
            "Fuel tank is full.\n",
            "Fuel tank is full.\n",
            "Fuel tank is full.\n",
            "Fuel tank is full.\n",
            "Fuel tank is full.\n",
            "Fuel tank is full.\n",
            "Fuel tank is full.\n",
            "Fuel tank is full.\n",
            "Fuel tank is full.\n",
            "Fuel tank is full.\n",
            "Fuel tank is full.\n",
            "Fuel tank is full.\n",
            "Fuel tank is full.\n",
            "Fuel tank is full.\n",
            "Fuel tank is full.\n",
            "Fuel tank is full.\n",
            "Fuel tank is full.\n",
            "Fuel tank is full.\n",
            "Fuel tank is full.\n",
            "Fuel tank is full.\n",
            "Fuel tank is full.\n",
            "Fuel tank is full.\n",
            "Fuel tank is full.\n",
            "Fuel tank is full.\n",
            "Fuel tank is full.\n",
            "Fuel tank is full.\n",
            "Fuel tank is full.\n",
            "Fuel tank is full.\n",
            "Fuel tank is full.\n",
            "Fuel tank is full.\n",
            "Fuel tank is full.\n",
            "Fuel tank is full.\n",
            "Fuel tank is full.\n",
            "Fuel tank is full.\n",
            "Fuel tank is full.\n",
            "Fuel tank is full.\n",
            "Fuel tank is full.\n",
            "Fuel tank is full.\n",
            "Fuel tank is full.\n",
            "Fuel tank is full.\n",
            "Fuel tank is full.\n",
            "Fuel tank is full.\n",
            "Fuel tank is full.\n",
            "Fuel tank is full.\n",
            "Fuel tank is full.\n",
            "Fuel tank is full.\n",
            "Fuel tank is full.\n",
            "Fuel tank is full.\n",
            "Fuel tank is full.\n",
            "Fuel tank is full.\n",
            "Fuel tank is full.\n",
            "Fuel tank is full.\n",
            "Fuel tank is full.\n",
            "Fuel tank is full.\n",
            "Fuel tank is full.\n",
            "Fuel tank is full.\n",
            "Fuel tank is full.\n",
            "Fuel tank is full.\n",
            "Fuel tank is full.\n",
            "Fuel tank is full.\n",
            "Fuel tank is full.\n",
            "Fuel tank is full.\n",
            "Fuel tank is full.\n",
            "Fuel tank is full.\n",
            "Fuel tank is full.\n",
            "Fuel tank is full.\n",
            "Fuel tank is full.\n",
            "Fuel tank is full.\n",
            "Fuel tank is full.\n",
            "Fuel tank is full.\n",
            "Fuel tank is full.\n",
            "Fuel tank is full.\n",
            "Fuel tank is full.\n",
            "Fuel tank is full.\n",
            "Fuel tank is full.\n",
            "Fuel tank is full.\n",
            "Fuel tank is full.\n",
            "Fuel tank is full.\n",
            "Fuel tank is full.\n",
            "Fuel tank is full.\n",
            "Fuel tank is full.\n",
            "Fuel tank is full.\n",
            "Fuel tank is full.\n",
            "Fuel tank is full.\n",
            "Fuel tank is full.\n",
            "Fuel tank is full.\n",
            "Fuel tank is full.\n",
            "Fuel tank is full.\n",
            "Fuel tank is full.\n",
            "Fuel tank is full.\n",
            "Fuel tank is full.\n",
            "Fuel tank is full.\n",
            "Fuel tank is full.\n",
            "Fuel tank is full.\n",
            "Fuel tank is full.\n",
            "Fuel tank is full.\n",
            "Fuel tank is full.\n",
            "Fuel tank is full.\n",
            "Fuel tank is full.\n",
            "Fuel tank is full.\n",
            "Fuel tank is full.\n",
            "Fuel tank is full.\n",
            "Fuel tank is full.\n",
            "Fuel tank is full.\n",
            "Fuel tank is full.\n",
            "Fuel tank is full.\n",
            "Fuel tank is full.\n",
            "Fuel tank is full.\n",
            "Fuel tank is full.\n",
            "Fuel tank is full.\n",
            "Fuel tank is full.\n",
            "Fuel tank is full.\n",
            "Fuel tank is full.\n",
            "Fuel tank is full.\n",
            "Fuel tank is full.\n",
            "Fuel tank is full.\n",
            "Fuel tank is full.\n",
            "Fuel tank is full.\n",
            "Fuel tank is full.\n",
            "Fuel tank is full.\n",
            "Fuel tank is full.\n",
            "Fuel tank is full.\n",
            "Fuel tank is full.\n",
            "Fuel tank is full.\n",
            "Fuel tank is full.\n",
            "Fuel tank is full.\n",
            "Fuel tank is full.\n",
            "Fuel tank is full.\n",
            "Fuel tank is full.\n",
            "Fuel tank is full.\n",
            "Fuel tank is full.\n",
            "Fuel tank is full.\n",
            "Fuel tank is full.\n",
            "Fuel tank is full.\n",
            "Fuel tank is full.\n",
            "Fuel tank is full.\n",
            "Fuel tank is full.\n",
            "Fuel tank is full.\n",
            "Fuel tank is full.\n",
            "Fuel tank is full.\n",
            "Fuel tank is full.\n",
            "Fuel tank is full.\n",
            "Fuel tank is full.\n",
            "Fuel tank is full.\n",
            "Fuel tank is full.\n",
            "Fuel tank is full.\n",
            "Fuel tank is full.\n",
            "Fuel tank is full.\n",
            "Fuel tank is full.\n",
            "Fuel tank is full.\n",
            "Fuel tank is full.\n",
            "Fuel tank is full.\n",
            "Fuel tank is full.\n",
            "Fuel tank is full.\n",
            "Fuel tank is full.\n",
            "Fuel tank is full.\n",
            "Fuel tank is full.\n",
            "Fuel tank is full.\n",
            "Fuel tank is full.\n",
            "The vehicle is fully charged.\n",
            "The vehicle is fully charged.\n",
            "The vehicle is fully charged.\n",
            "The vehicle is fully charged.\n",
            "The vehicle is fully charged.\n",
            "The vehicle is fully charged.\n",
            "The vehicle is fully charged.\n",
            "The vehicle is fully charged.\n",
            "The vehicle is fully charged.\n",
            "The vehicle is fully charged.\n",
            "The vehicle is fully charged.\n",
            "The vehicle is fully charged.\n",
            "The vehicle is fully charged.\n",
            "The vehicle is fully charged.\n",
            "The vehicle is fully charged.\n",
            "The vehicle is fully charged.\n",
            "The vehicle is fully charged.\n",
            "The vehicle is fully charged.\n",
            "The vehicle is fully charged.\n",
            "The vehicle is fully charged.\n",
            "The vehicle is fully charged.\n",
            "The vehicle is fully charged.\n",
            "The vehicle is fully charged.\n",
            "The vehicle is fully charged.\n",
            "The vehicle is fully charged.\n",
            "The vehicle is fully charged.\n",
            "The vehicle is fully charged.\n",
            "The vehicle is fully charged.\n",
            "The vehicle is fully charged.\n",
            "The vehicle is fully charged.\n",
            "The vehicle is fully charged.\n",
            "The vehicle is fully charged.\n",
            "The vehicle is fully charged.\n",
            "The vehicle is fully charged.\n",
            "The vehicle is fully charged.\n",
            "The vehicle is fully charged.\n",
            "The vehicle is fully charged.\n",
            "The vehicle is fully charged.\n",
            "The vehicle is fully charged.\n",
            "The vehicle is fully charged.\n",
            "The vehicle is fully charged.\n",
            "The vehicle is fully charged.\n",
            "The vehicle is fully charged.\n",
            "The vehicle is fully charged.\n",
            "The vehicle is fully charged.\n",
            "The vehicle is fully charged.\n",
            "The vehicle is fully charged.\n",
            "The vehicle is fully charged.\n",
            "The vehicle is fully charged.\n",
            "The vehicle is fully charged.\n",
            "The vehicle is fully charged.\n",
            "The vehicle is fully charged.\n",
            "The vehicle is fully charged.\n",
            "The vehicle is fully charged.\n",
            "The vehicle is fully charged.\n",
            "The vehicle is fully charged.\n",
            "The vehicle is fully charged.\n",
            "The vehicle is fully charged.\n",
            "The vehicle is fully charged.\n",
            "The vehicle is fully charged.\n",
            "The vehicle is fully charged.\n",
            "The vehicle is fully charged.\n",
            "The vehicle is fully charged.\n",
            "The vehicle is fully charged.\n",
            "The vehicle is fully charged.\n",
            "The vehicle is fully charged.\n",
            "The vehicle is fully charged.\n",
            "The vehicle is fully charged.\n",
            "The vehicle is fully charged.\n",
            "The vehicle is fully charged.\n",
            "The vehicle is fully charged.\n",
            "The vehicle is fully charged.\n",
            "The vehicle is fully charged.\n",
            "The vehicle is fully charged.\n",
            "The vehicle is fully charged.\n",
            "The vehicle is fully charged.\n",
            "The vehicle is fully charged.\n",
            "The vehicle is fully charged.\n",
            "The vehicle is fully charged.\n",
            "The vehicle is fully charged.\n",
            "The vehicle is fully charged.\n",
            "The vehicle is fully charged.\n",
            "The vehicle is fully charged.\n",
            "The vehicle is fully charged.\n",
            "The vehicle is fully charged.\n",
            "The vehicle is fully charged.\n",
            "The vehicle is fully charged.\n",
            "The vehicle is fully charged.\n",
            "The vehicle is fully charged.\n",
            "The vehicle is fully charged.\n",
            "The vehicle is fully charged.\n",
            "The vehicle is fully charged.\n",
            "The vehicle is fully charged.\n",
            "The vehicle is fully charged.\n",
            "The vehicle is fully charged.\n",
            "The vehicle is fully charged.\n",
            "The vehicle is fully charged.\n",
            "The vehicle is fully charged.\n",
            "The vehicle is fully charged.\n",
            "The vehicle is fully charged.\n",
            "The vehicle is fully charged.\n",
            "The vehicle is fully charged.\n",
            "The vehicle is fully charged.\n",
            "The vehicle is fully charged.\n",
            "The vehicle is fully charged.\n",
            "The vehicle is fully charged.\n",
            "The vehicle is fully charged.\n",
            "The vehicle is fully charged.\n",
            "The vehicle is fully charged.\n",
            "The vehicle is fully charged.\n",
            "The vehicle is fully charged.\n",
            "The vehicle is fully charged.\n",
            "The vehicle is fully charged.\n",
            "The vehicle is fully charged.\n",
            "The vehicle is fully charged.\n",
            "The vehicle is fully charged.\n",
            "The vehicle is fully charged.\n",
            "The vehicle is fully charged.\n",
            "The vehicle is fully charged.\n",
            "The vehicle is fully charged.\n",
            "The vehicle is fully charged.\n",
            "The vehicle is fully charged.\n",
            "The vehicle is fully charged.\n",
            "The vehicle is fully charged.\n",
            "The vehicle is fully charged.\n",
            "The vehicle is fully charged.\n",
            "The vehicle is fully charged.\n",
            "The vehicle is fully charged.\n",
            "The vehicle is fully charged.\n",
            "The vehicle is fully charged.\n",
            "The vehicle is fully charged.\n",
            "The vehicle is fully charged.\n",
            "The vehicle is fully charged.\n",
            "The vehicle is fully charged.\n",
            "The vehicle is fully charged.\n",
            "The vehicle is fully charged.\n",
            "The vehicle is fully charged.\n",
            "The vehicle is fully charged.\n",
            "The vehicle is fully charged.\n",
            "The vehicle is fully charged.\n",
            "The vehicle is fully charged.\n",
            "The vehicle is fully charged.\n",
            "The vehicle is fully charged.\n",
            "The vehicle is fully charged.\n",
            "The vehicle is fully charged.\n",
            "The vehicle is fully charged.\n",
            "The vehicle is fully charged.\n",
            "The vehicle is fully charged.\n",
            "The vehicle is fully charged.\n",
            "The vehicle is fully charged.\n",
            "The vehicle is fully charged.\n",
            "The vehicle is fully charged.\n",
            "The vehicle is fully charged.\n",
            "The vehicle is fully charged.\n",
            "The vehicle is fully charged.\n",
            "The vehicle is fully charged.\n",
            "The vehicle is fully charged.\n",
            "The vehicle is fully charged.\n",
            "The vehicle is fully charged.\n",
            "The vehicle is fully charged.\n",
            "The vehicle is fully charged.\n",
            "The vehicle is fully charged.\n",
            "The vehicle is fully charged.\n",
            "The vehicle is fully charged.\n",
            "The vehicle is fully charged.\n",
            "The vehicle is fully charged.\n",
            "The vehicle is fully charged.\n",
            "The vehicle is fully charged.\n",
            "The vehicle is fully charged.\n",
            "The vehicle is fully charged.\n",
            "The vehicle is fully charged.\n",
            "The vehicle is fully charged.\n",
            "The vehicle is fully charged.\n",
            "The vehicle is fully charged.\n",
            "The vehicle is fully charged.\n",
            "The vehicle is fully charged.\n",
            "The vehicle is fully charged.\n",
            "The vehicle is fully charged.\n",
            "The vehicle is fully charged.\n",
            "The vehicle is fully charged.\n",
            "The vehicle is fully charged.\n",
            "The vehicle is fully charged.\n",
            "The vehicle is fully charged.\n",
            "The vehicle is fully charged.\n",
            "The vehicle is fully charged.\n",
            "The vehicle is fully charged.\n",
            "The vehicle is fully charged.\n",
            "The vehicle is fully charged.\n",
            "The vehicle is fully charged.\n",
            "The vehicle is fully charged.\n",
            "The vehicle is fully charged.\n",
            "The vehicle is fully charged.\n",
            "The vehicle is fully charged.\n",
            "The vehicle is fully charged.\n",
            "The vehicle is fully charged.\n",
            "The vehicle is fully charged.\n",
            "The vehicle is fully charged.\n",
            "The vehicle is fully charged.\n",
            "The vehicle is fully charged.\n",
            "The vehicle is fully charged.\n",
            "The vehicle is fully charged.\n",
            "The vehicle is fully charged.\n",
            "The vehicle is fully charged.\n",
            "The vehicle is fully charged.\n",
            "The vehicle is fully charged.\n",
            "The vehicle is fully charged.\n",
            "The vehicle is fully charged.\n",
            "The vehicle is fully charged.\n",
            "The vehicle is fully charged.\n",
            "The vehicle is fully charged.\n",
            "The vehicle is fully charged.\n",
            "The vehicle is fully charged.\n",
            "The vehicle is fully charged.\n",
            "The vehicle is fully charged.\n",
            "The vehicle is fully charged.\n",
            "The vehicle is fully charged.\n",
            "The vehicle is fully charged.\n",
            "The vehicle is fully charged.\n",
            "The vehicle is fully charged.\n",
            "The vehicle is fully charged.\n",
            "The vehicle is fully charged.\n",
            "The vehicle is fully charged.\n",
            "The vehicle is fully charged.\n",
            "The vehicle is fully charged.\n",
            "The vehicle is fully charged.\n",
            "The vehicle is fully charged.\n",
            "The vehicle is fully charged.\n",
            "The vehicle is fully charged.\n",
            "The vehicle is fully charged.\n",
            "The vehicle is fully charged.\n",
            "The vehicle is fully charged.\n",
            "The vehicle is fully charged.\n",
            "The vehicle is fully charged.\n",
            "The vehicle is fully charged.\n",
            "The vehicle is fully charged.\n",
            "The vehicle is fully charged.\n",
            "The vehicle is fully charged.\n",
            "The vehicle is fully charged.\n",
            "The vehicle is fully charged.\n",
            "The vehicle is fully charged.\n",
            "The vehicle is fully charged.\n",
            "The vehicle is fully charged.\n",
            "The vehicle is fully charged.\n",
            "The vehicle is fully charged.\n",
            "The vehicle is fully charged.\n",
            "The vehicle is fully charged.\n",
            "The vehicle is fully charged.\n",
            "The vehicle is fully charged.\n",
            "The vehicle is fully charged.\n",
            "The vehicle is fully charged.\n",
            "Gas cars: 500\n",
            "Electric cars: 250\n"
          ]
        }
      ]
    },
    {
      "cell_type": "markdown",
      "metadata": {
        "id": "Fr4D3X7Ix-Ph"
      },
      "source": [
        "## Files and Exceptions"
      ]
    },
    {
      "cell_type": "markdown",
      "metadata": {
        "id": "RRM93yeNyCU9"
      },
      "source": [
        "### What are files? What are exceptions?\n",
        "Your programs can read information in from files, and they can write data to files. Reading from files allows you to work with a wide variety of inforamtion; writing to files allows uesrs to pick up where they left off the next time they run your program. You can write text to files, and you can store Python structures such as lists in data files.\n",
        "\n",
        "Exceptions are special objects that help your programs respond to errors in appropriate ways. For example if your program tries to open a file that doesn't exist, you can use exceptions to display an informative error message instead of having the program crash."
      ]
    },
    {
      "cell_type": "markdown",
      "metadata": {
        "id": "ZK5CNgFs0CDS"
      },
      "source": [
        "### Reading from a file\n",
        "To read from a file your program needs to open the file and then read the contents of the file. You can read the entire contents of the file at once, or read the file line by line. The with statement makes sure the file is closed properly when the program has finished accessing the file."
      ]
    },
    {
      "cell_type": "code",
      "metadata": {
        "colab": {
          "base_uri": "https://localhost:8080/"
        },
        "id": "E1g2pBkL2z8n",
        "outputId": "b6667ffc-e3bd-4b40-f29f-80c216bb5b0d"
      },
      "source": [
        "# Reading an entire file at once\n",
        "filename = 'test.txt'\n",
        "with open(filename) as f_obj:\n",
        "  contents = f_obj.read()\n",
        "\n",
        "print(contents)"
      ],
      "execution_count": 7,
      "outputs": [
        {
          "output_type": "stream",
          "name": "stdout",
          "text": [
            "I love programming!\n"
          ]
        }
      ]
    },
    {
      "cell_type": "markdown",
      "metadata": {
        "id": "p4pTy3hL3ebU"
      },
      "source": [
        "### Reading line by line\n",
        "Each line that's read from the file has a newline character at the end of the line, and the print function adds its own newline character. The rstrip() method gets rid of the extra blank lines this would result in when printing to the terminal."
      ]
    },
    {
      "cell_type": "code",
      "metadata": {
        "colab": {
          "base_uri": "https://localhost:8080/"
        },
        "id": "MmeuhG8J4R5Q",
        "outputId": "6baf9844-5d9c-48ae-dd31-0064081365ea"
      },
      "source": [
        "with open(filename) as f_obj:\n",
        "  for line in f_obj:\n",
        "    print(line.rstrip())"
      ],
      "execution_count": 17,
      "outputs": [
        {
          "output_type": "stream",
          "name": "stdout",
          "text": [
            "I love programming!\n",
            "I love creating new games.\n",
            "I also love working with data.\n",
            "I love making apps as well.\n"
          ]
        }
      ]
    },
    {
      "cell_type": "code",
      "metadata": {
        "colab": {
          "base_uri": "https://localhost:8080/"
        },
        "id": "gF77mAd448P1",
        "outputId": "aff2b908-b66c-41c5-d588-ad1079f17079"
      },
      "source": [
        "# Storing the lines in a list\n",
        "with open(filename) as f_obj:\n",
        "  lines = f_obj.readlines()\n",
        "\n",
        "for line in lines:\n",
        "  print(line.rstrip())"
      ],
      "execution_count": 16,
      "outputs": [
        {
          "output_type": "stream",
          "name": "stdout",
          "text": [
            "I love programming!\n",
            "I love creating new games.\n",
            "I also love working with data.\n",
            "I love making apps as well.\n"
          ]
        }
      ]
    },
    {
      "cell_type": "markdown",
      "metadata": {
        "id": "pHU7SQiD5SQo"
      },
      "source": [
        "### Writing to a file\n",
        "Passing the 'w' argument to open() tells Python you want to write to the file. Passing the 'w+' argument to open() tells Python you want to create/write to the file. Be careful; this will erase the contents of the file if it already exits. Passing the 'a' argument tells Python you want to append to the end of an existing fiel."
      ]
    },
    {
      "cell_type": "code",
      "metadata": {
        "id": "bz2Szncq5wLf"
      },
      "source": [
        "# Writing to an empty file\n",
        "with open(filename, 'w+') as f:\n",
        "  f.write(\"I love programming!\")"
      ],
      "execution_count": 6,
      "outputs": []
    },
    {
      "cell_type": "code",
      "metadata": {
        "id": "5mbAKWH46s3J"
      },
      "source": [
        "# Writing multiple lines to an empty file\n",
        "with open(filename, 'w') as f:\n",
        "  f.write(\"I love programming!\\n\")\n",
        "  f.write(\"I love creating new games.\\n\")"
      ],
      "execution_count": 14,
      "outputs": []
    },
    {
      "cell_type": "code",
      "metadata": {
        "id": "gjMs4zyf7HMM"
      },
      "source": [
        "# Appending to a file\n",
        "with open(filename, 'a') as f:\n",
        "  f.write(\"I also love working with data.\\n\")\n",
        "  f.write(\"I love making apps as well.\\n\")"
      ],
      "execution_count": 15,
      "outputs": []
    },
    {
      "cell_type": "markdown",
      "metadata": {
        "id": "YK9iqBU_7xLF"
      },
      "source": [
        "### File paths\n",
        "Whenn Python runs the opne() function, it looks for the file in the same directory where the program that's being executed in stored. You can open a file from a subfolder using a relative path. You can also use an absolute path to open any file on your system."
      ]
    },
    {
      "cell_type": "code",
      "metadata": {
        "colab": {
          "base_uri": "https://localhost:8080/"
        },
        "id": "PKi7bgl58N1r",
        "outputId": "6cae0784-37ab-4e61-c56c-162ed42b45b9"
      },
      "source": [
        "# Opening a file from a subfolder\n",
        "f_path = \"text_files/alice.txt\"\n",
        "\n",
        "with open(f_path) as f_obj:\n",
        "  lines = f_obj.readlines()\n",
        "for line in lines:\n",
        "  print(line.rstrip())"
      ],
      "execution_count": 19,
      "outputs": [
        {
          "output_type": "stream",
          "name": "stdout",
          "text": [
            "I love programming!\n",
            "I love creating new games.\n",
            "I also love working with data.\n",
            "I love making apps as well.\n"
          ]
        }
      ]
    },
    {
      "cell_type": "code",
      "metadata": {
        "id": "Unu0Eqfz91EU"
      },
      "source": [
        "# Opening a file using an absloute path\n",
        "f_path = \"/home/ehmatthes/books/alice.txt\"\n",
        "\n",
        "with open(f_path) as f_obj:\n",
        "  lines = f_obj.readlines()"
      ],
      "execution_count": 20,
      "outputs": []
    },
    {
      "cell_type": "code",
      "metadata": {
        "id": "fYGR7mmX-Os8"
      },
      "source": [
        "# Opening a file on Windows\n",
        "# Windows will sometimes interpret forward slashes incorrectly.\n",
        "# If you run into this, use backslashes in your file paths.\n",
        "f_path = \"C:\\Users\\ehmatthes\\books\\alice.txt\"\n",
        "\n",
        "with open(filename) as f_obj:\n",
        "  lines = f_obj.readlines()"
      ],
      "execution_count": 22,
      "outputs": []
    },
    {
      "cell_type": "markdown",
      "metadata": {
        "id": "qgRrPAsu_QTf"
      },
      "source": [
        "### The try-except block\n",
        "When you think an error may occur, you can write a try-except block to handle the exception that might be raised. The try block tells Python to try running some code, and the except block tells Python what to do if the code results in a particular kind of error."
      ]
    },
    {
      "cell_type": "code",
      "metadata": {
        "colab": {
          "base_uri": "https://localhost:8080/"
        },
        "id": "2R1CaLQ6_3x9",
        "outputId": "3f843100-0d0e-4455-a93e-ab4ab4d8fb8f"
      },
      "source": [
        "# Handling the ZeroDivisionError exception\n",
        "try:\n",
        "  print(5/0)\n",
        "except ZeroDivisionError:\n",
        "  print(\"You can't divide by zero!\")"
      ],
      "execution_count": 23,
      "outputs": [
        {
          "output_type": "stream",
          "name": "stdout",
          "text": [
            "You can't divide by zero!\n"
          ]
        }
      ]
    },
    {
      "cell_type": "code",
      "metadata": {
        "colab": {
          "base_uri": "https://localhost:8080/"
        },
        "id": "VOYCxjKIAGG8",
        "outputId": "b8882e47-260b-4b97-9442-cd9ef8108573"
      },
      "source": [
        "# Handling the FileNotFoundError exception\n",
        "try:\n",
        "  with open(f_path) as f_obj:\n",
        "    lines = f_obj.readlines()\n",
        "except FileNotFoundError:\n",
        "  msg = f\"Can't find file {f_path}\"\n",
        "  print(msg)"
      ],
      "execution_count": 24,
      "outputs": [
        {
          "output_type": "stream",
          "name": "stdout",
          "text": [
            "Can't find file /home/ehmatthes/books/alice.txt\n"
          ]
        }
      ]
    },
    {
      "cell_type": "markdown",
      "metadata": {
        "id": "9VP5iYMwAtcO"
      },
      "source": [
        "### Knowing which exception to handle\n",
        "It can be hard to know what kind of exception to handle when writing code. Try writing your code without a try block, and make it generate an error. The traceback will tell you what kind of exception your program needs to handle."
      ]
    },
    {
      "cell_type": "markdown",
      "metadata": {
        "id": "DI2it2v2BojO"
      },
      "source": [
        "### The else block\n",
        "The try block should only contain code that may cause an error. Any code that depends on the try block running successfully should be placed in the else block."
      ]
    },
    {
      "cell_type": "code",
      "metadata": {
        "colab": {
          "base_uri": "https://localhost:8080/"
        },
        "id": "sD525JO2BnwW",
        "outputId": "e4da3970-fa15-4c95-afea-c9308ff1651f"
      },
      "source": [
        "# Using an else block\n",
        "print(\"Enter two numbers. I'll divide them.\")\n",
        "\n",
        "x = input(\"First number: \")\n",
        "y = input(\"Second number: \")\n",
        "\n",
        "try:\n",
        "  result = int(x)/int(y)\n",
        "except ZeroDivisionError:\n",
        "  print(\"You can't divide by zero!\")\n",
        "else:\n",
        "  print(result)"
      ],
      "execution_count": 25,
      "outputs": [
        {
          "output_type": "stream",
          "name": "stdout",
          "text": [
            "Enter two numbers. I'll divide them.\n",
            "First number: 10\n",
            "Second number: 20\n",
            "0.5\n"
          ]
        }
      ]
    },
    {
      "cell_type": "code",
      "metadata": {
        "colab": {
          "base_uri": "https://localhost:8080/"
        },
        "id": "CbLND5l-DWR7",
        "outputId": "31f782eb-875b-4ea1-b9a6-3bc6bb557ece"
      },
      "source": [
        "# Preventing crashes from user input\n",
        "# Without the except block in the following example, \n",
        "# the program would crash if the user tries to divide by zero.\n",
        "# As written, it will handle the error gracefully and keep running.\n",
        "\n",
        "# A simple calculator for division only.\n",
        "print(\"Enter two numbers. I'll divide them.\")\n",
        "print(\"Enter 'q' to quit.\")\n",
        "\n",
        "while True:\n",
        "  x = input(\"\\nFirst number: \")\n",
        "  if x == 'q':\n",
        "    break\n",
        "  y = input(\"Second number: \")\n",
        "  if y == 'q':\n",
        "    break\n",
        "\n",
        "  try:\n",
        "    result = int(x)/int(y)\n",
        "  except ZeroDivisionError:\n",
        "    print(\"You can't divide by zero!\")\n",
        "  else:\n",
        "    print(result)"
      ],
      "execution_count": 26,
      "outputs": [
        {
          "name": "stdout",
          "output_type": "stream",
          "text": [
            "Enter two numbers. I'll divide them.\n",
            "Enter 'q' to quit.\n",
            "\n",
            "First number: 5\n",
            "Second number: 6\n",
            "0.8333333333333334\n",
            "\n",
            "First number: 6\n",
            "Second number: 4\n",
            "1.5\n",
            "\n",
            "First number: 8\n",
            "Second number: 1\n",
            "8.0\n",
            "\n",
            "First number: 4\n",
            "Second number: 2\n",
            "2.0\n",
            "\n",
            "First number: q\n"
          ]
        }
      ]
    },
    {
      "cell_type": "markdown",
      "metadata": {
        "id": "v33pgKauGY7t"
      },
      "source": [
        "## Deciding which errors to report\n",
        "Well-written, properly tested code is not very prone to internal errors such as syntax or logical errors. But every time your program depends on someting external such as user input or the existense of a file, there's a possibility of an exception being raised.\n",
        "\n",
        "It's up to you how to communicate errors to your users. Sometimes users need to know if a file is missing; sometimes it's better to handle the error silently. A little experience will help you know how much to report."
      ]
    },
    {
      "cell_type": "markdown",
      "metadata": {
        "id": "fcOjZvvlHUEP"
      },
      "source": [
        "### Failing silently\n",
        "Sometimes you want your program to just continue running when it encounters an error, without reporting the error to the user. Using the pass statement in an else block allows you to do this."
      ]
    },
    {
      "cell_type": "code",
      "metadata": {
        "id": "knV5g-4gHTpR"
      },
      "source": [
        "# Using the pass statement in an else block\n",
        "f_names = ['alice.txt', 'siddhartha.txt', 'moby_dick.txt', 'little_women.txt']\n",
        "\n",
        "for f_name in f_names:\n",
        "  # Report the length of each file found.\n",
        "  try:\n",
        "    with open(f_name) as f_obj:\n",
        "      lines = f_obj.readlines()\n",
        "  except FileNotFoundError:\n",
        "    # Just move on to the next file.\n",
        "    pass\n",
        "  else:\n",
        "    num_lines = len(lines)\n",
        "    msg = f\"{f_name} has {num_lines} lines.\"\n",
        "    print(msg)"
      ],
      "execution_count": 27,
      "outputs": []
    },
    {
      "cell_type": "markdown",
      "metadata": {
        "id": "nuUe6x2dI4bq"
      },
      "source": [
        "### Avoid bare except blocks\n",
        "Exception-handling code should catch specify exceptions taht you except to happen during your program's exception. A bare except block will catch all exceptions, including keyboard interrupts and system exists you might need when forcing a program to close.\n",
        "\n",
        "If you want to use a try block and your're not sure which exception to catch, use Exception. It will catch most exceptions, but still allow you to interrupt programs intentionally."
      ]
    },
    {
      "cell_type": "code",
      "metadata": {
        "id": "GNt3jCWOJq-3"
      },
      "source": [
        "# Don't use bare except blocks\n",
        "try:\n",
        "  # Do Something\n",
        "except:\n",
        "  pass"
      ],
      "execution_count": null,
      "outputs": []
    },
    {
      "cell_type": "code",
      "metadata": {
        "id": "bvXLIuAFJ5Wv"
      },
      "source": [
        "# Use Exception instead\n",
        "try:\n",
        "  # Do Something\n",
        "except Exception:\n",
        "  pass"
      ],
      "execution_count": null,
      "outputs": []
    },
    {
      "cell_type": "code",
      "metadata": {
        "id": "Ad5hjPEnKEQ6"
      },
      "source": [
        "# Printing the exception\n",
        "try:\n",
        "  # Do something\n",
        "except Exception as e:\n",
        "  print(e. type(e))"
      ],
      "execution_count": null,
      "outputs": []
    },
    {
      "cell_type": "markdown",
      "metadata": {
        "id": "0FQSNIztKbKK"
      },
      "source": [
        "### Sorting data with json\n",
        "The json module allows you to dump simple Python data structures into a file, and load the data from that file the next time the program runs. The JSON data format is not specific to Python, so you can share this kind of data with people who work in other languages as well.\n",
        "\n",
        "Knowing how to manage exceptions in important when working with stored data. You'll usually want to make sure the data you're trying to load exists before working with it."
      ]
    },
    {
      "cell_type": "code",
      "metadata": {
        "id": "KZbzpctvLulF"
      },
      "source": [
        "# Using json.dump() to store data\n",
        "import json\n",
        "# Store some numbers.\n",
        "numbers = [2, 3, 5, 7, 11, 13]\n",
        "\n",
        "filename = 'number.json'\n",
        "with open(filename, 'w') as f_obj:\n",
        "  json.dump(numbers, f_obj)"
      ],
      "execution_count": 29,
      "outputs": []
    },
    {
      "cell_type": "code",
      "metadata": {
        "colab": {
          "base_uri": "https://localhost:8080/"
        },
        "id": "bt0JRYzlMSh8",
        "outputId": "a12cf5e9-6872-4833-b85d-a2beca114ef7"
      },
      "source": [
        "# Using json.load() to read data\n",
        "\n",
        "# Load some previously stored numbers.\n",
        "filename = 'number.json'\n",
        "with open(filename) as f_obj:\n",
        "  numbers = json.load(f_obj)\n",
        "print(numbers)"
      ],
      "execution_count": 31,
      "outputs": [
        {
          "output_type": "stream",
          "name": "stdout",
          "text": [
            "[2, 3, 5, 7, 11, 13]\n"
          ]
        }
      ]
    },
    {
      "cell_type": "code",
      "metadata": {
        "colab": {
          "base_uri": "https://localhost:8080/"
        },
        "id": "EdjXjcmUM8_Z",
        "outputId": "a442166d-336c-46c2-c567-b1d0a9c8f92a"
      },
      "source": [
        "# Making sure the stored data exists\n",
        "f_name = 'number.json'\n",
        "\n",
        "try:\n",
        "  with open(f_name) as f_obj:\n",
        "    numbers = json.load(f_obj)\n",
        "except FileNotFoundError:\n",
        "  msg = f\"Can't find {f_name}\"\n",
        "  print(msg)\n",
        "else:\n",
        "  print(numbers)"
      ],
      "execution_count": 32,
      "outputs": [
        {
          "output_type": "stream",
          "name": "stdout",
          "text": [
            "[2, 3, 5, 7, 11, 13]\n"
          ]
        }
      ]
    },
    {
      "cell_type": "markdown",
      "metadata": {
        "id": "-vnDXEM5OAE0"
      },
      "source": [
        "### Practice with exceptions\n",
        "Take a program you've already written that prompts for user input, and add some error-handling code to the program."
      ]
    },
    {
      "cell_type": "markdown",
      "metadata": {
        "id": "xi5JX743OY_4"
      },
      "source": [
        "## Testing Your Code\n",
        "### Why test your code?\n",
        "When you write a function or a class, you can also write tests for that code. Testing proves that your code works as it's supposed to in the situation it's designed to handle, and also when people use your programs in unexpected ways. Writing tests gives you confidence that your code will work correctly as more people being to use your programs. You can also add new features to your programs. You can also add new features to your programs and know that you haven't broken existing behaviour.\n",
        "\n",
        "A Unit test verifies that one specific aspect of your code works as it's supposed to. A test case is a collection of unit tests which verify your code's behavior in a wide variety of situations."
      ]
    },
    {
      "cell_type": "markdown",
      "metadata": {
        "id": "NRbuApcIQc48"
      },
      "source": [
        "### Testing a function: A passsing test\n",
        "Python's unittest module provides tools for testing your code. To try it out, we'll create a function that returns a full name. We'll use the function in a regular program, and then build a test case for the function."
      ]
    },
    {
      "cell_type": "code",
      "metadata": {
        "id": "B5B0c3BlQ1Sa"
      },
      "source": [
        "# A function to test\n",
        "# Save this as full_names.py\n",
        "\n",
        "def get_full_name(first, last):\n",
        "  # Return a full name.\n",
        "  full_name = f\"{first} {last}\"\n",
        "  return full_name.title()"
      ],
      "execution_count": 33,
      "outputs": []
    },
    {
      "cell_type": "code",
      "metadata": {
        "colab": {
          "base_uri": "https://localhost:8080/"
        },
        "id": "kLm9EK4CRX2j",
        "outputId": "b748f0f3-f499-4803-c856-4bcaad2ce6e4"
      },
      "source": [
        "# Using the function\n",
        "# Save this as names.py\n",
        "from full_names import get_full_name\n",
        "\n",
        "name_1 = get_full_name('Uday', 'Yenneti')\n",
        "print(name_1)\n",
        "\n",
        "name_2 = get_full_name('Bhaskar', 'Yenneti')\n",
        "print(name_2)"
      ],
      "execution_count": 34,
      "outputs": [
        {
          "output_type": "stream",
          "name": "stdout",
          "text": [
            "Uday Yenneti\n",
            "Bhaskar Yenneti\n"
          ]
        }
      ]
    },
    {
      "cell_type": "code",
      "metadata": {
        "colab": {
          "base_uri": "https://localhost:8080/",
          "height": 316
        },
        "id": "r2U2s_LTSbDQ",
        "outputId": "3e83b18d-690f-4bf2-fe9a-00544e49e598"
      },
      "source": [
        "# Building a testcase with one unit test\n",
        "# To build a test case, make a class that inherits from unittest.\n",
        "# TestCase and write methods that begin with test_.\n",
        "# Save this as test_full_names.py\n",
        "\n",
        "import unittest\n",
        "# from full_names import get_full_name\n",
        "\n",
        "class NamesTestCase(unittest.TestCase):\n",
        "  # Tests for names.py\n",
        "\n",
        "  def test_first_last(self):\n",
        "    # Test names like Uday Yenneti.\n",
        "    full_name = get_full_name('Uday', 'Yenneti')\n",
        "    self.assertEqual(full_name, 'Uday Yenneti')\n",
        "\n",
        "unittest.main()\n",
        "\n",
        "# Running the test\n",
        "# Python reports on each unit test in the test case. \n",
        "# The dot reports a single passing test.\n",
        "# Python informs us that it ran 1 test in less than 0.001 seconds,\n",
        "# and the OK lets us know that all unit tests in the test case passed."
      ],
      "execution_count": 41,
      "outputs": [
        {
          "output_type": "stream",
          "name": "stderr",
          "text": [
            "E\n",
            "======================================================================\n",
            "ERROR: /root/ (unittest.loader._FailedTest)\n",
            "----------------------------------------------------------------------\n",
            "AttributeError: module '__main__' has no attribute '/root/'\n",
            "\n",
            "----------------------------------------------------------------------\n",
            "Ran 1 test in 0.002s\n",
            "\n",
            "FAILED (errors=1)\n"
          ]
        },
        {
          "output_type": "error",
          "ename": "SystemExit",
          "evalue": "ignored",
          "traceback": [
            "An exception has occurred, use %tb to see the full traceback.\n",
            "\u001b[0;31mSystemExit\u001b[0m\u001b[0;31m:\u001b[0m True\n"
          ]
        },
        {
          "output_type": "stream",
          "name": "stderr",
          "text": [
            "/usr/local/lib/python3.7/dist-packages/IPython/core/interactiveshell.py:2890: UserWarning: To exit: use 'exit', 'quit', or Ctrl-D.\n",
            "  warn(\"To exit: use 'exit', 'quit', or Ctrl-D.\", stacklevel=1)\n"
          ]
        }
      ]
    },
    {
      "cell_type": "markdown",
      "metadata": {
        "id": "4inIerOEZ9SC"
      },
      "source": [
        "### Testing a function: A failing test\n",
        "Failing tests are important; they tell you that a change in the code has affected existing behaviour. When a test falils, you need to modify the code so the existing behaviour still works."
      ]
    },
    {
      "cell_type": "code",
      "metadata": {
        "id": "sT_8IsKsZ2rF"
      },
      "source": [
        "# Modifying the function\n",
        "# We'll modify get_full_name() so it handles middle names, \n",
        "# but we'll do it in a way that breaks existing behaviour.\n",
        "\n",
        "def get_full_name(first, middle, last):\n",
        "  # Return a full name.\n",
        "  full_name = f\"{first} {middle} {last}\"\n",
        "  return full_name.title()"
      ],
      "execution_count": 42,
      "outputs": []
    },
    {
      "cell_type": "code",
      "metadata": {
        "colab": {
          "base_uri": "https://localhost:8080/"
        },
        "id": "YEQm3poqbNug",
        "outputId": "428f16ad-e3ec-4cb0-dfac-6f73bc51fbb7"
      },
      "source": [
        "# Using the function\n",
        "from full_names import get_full_name\n",
        "\n",
        "uday = get_full_name(\"Uday\", \"Bhaskar\", \"Yenneti\")\n",
        "print(uday)\n",
        "\n",
        "santosh = get_full_name(\"Santosh\", \"Kumar\", \"Yenneti\")\n",
        "print(santosh)"
      ],
      "execution_count": 43,
      "outputs": [
        {
          "output_type": "stream",
          "name": "stdout",
          "text": [
            "Uday Bhaskar Yenneti\n",
            "Santosh Kumar Yenneti\n"
          ]
        }
      ]
    },
    {
      "cell_type": "code",
      "metadata": {
        "id": "Ij4VdnmFcBYA"
      },
      "source": [
        "# Running the test\n",
        "# When you change your code, it's important to run your existing tests.\n",
        "# This will tell you whether the changes you made affected existing behaviour."
      ],
      "execution_count": null,
      "outputs": []
    },
    {
      "cell_type": "code",
      "metadata": {
        "id": "DbqF9SNGcqsy"
      },
      "source": [
        "# Fixing the code\n",
        "# When a test fails, the code needs to be modified until the test passes again.\n",
        "# (Don't make the mistake of rewriting your tests to fit your new code.)\n",
        "# Here we can make the middle name optional.\n",
        "def get_full_name(first, last, middle=''):\n",
        "  # Return a full name.\n",
        "  if middle:\n",
        "    full_name = f\"{first} {middle} {last}\"\n",
        "  else:\n",
        "    full_name = f\"{first} {last}\"\n",
        "  return full_name.title()\n",
        "\n",
        "# Returning the test\n",
        "  # Now the test should pass again, \n",
        "  # which means our original functionality is still intact."
      ],
      "execution_count": null,
      "outputs": []
    },
    {
      "cell_type": "markdown",
      "metadata": {
        "id": "I6nN0FhEeprA"
      },
      "source": [
        "### Adding new tests\n",
        "You can add as many unit tests to a test case as you need. To write a new test, add a new method to your test case class."
      ]
    },
    {
      "cell_type": "code",
      "metadata": {
        "colab": {
          "base_uri": "https://localhost:8080/",
          "height": 316
        },
        "id": "Fufr_XXke7Cs",
        "outputId": "54e25092-67b9-4ca0-898d-39eb12d62729"
      },
      "source": [
        "# Testing middle names\n",
        "# We've shown that get_full_name() works for first and last names.\n",
        "# Let's test that it works for middle names as well.\n",
        "import unittest\n",
        "from full_names import get_full_name\n",
        "\n",
        "class NamesTestCase(unittest.TestCase):\n",
        "  # Tests for names.py.\n",
        "\n",
        "  def test_first_last(self):\n",
        "    # Test names like Uday Yenneti.\n",
        "    full_name = get_full_name('Uday', 'Yenneti')\n",
        "    self.assertEqual(full_name, 'Uday Yenneti')\n",
        "\n",
        "  def test_middle(self):\n",
        "    # Test names like Uday Bhaskar Yenneti\n",
        "    full_name = get_full_name('Uday', 'Bhaskar', 'Yenneti')\n",
        "    self.assertEqual(full_name, 'Uday Bhaskar Yenneti')\n",
        "\n",
        "unittest.main()\n",
        "# Running the tests\n",
        "# The two dots represent two passing tests."
      ],
      "execution_count": 44,
      "outputs": [
        {
          "output_type": "stream",
          "name": "stderr",
          "text": [
            "E\n",
            "======================================================================\n",
            "ERROR: /root/ (unittest.loader._FailedTest)\n",
            "----------------------------------------------------------------------\n",
            "AttributeError: module '__main__' has no attribute '/root/'\n",
            "\n",
            "----------------------------------------------------------------------\n",
            "Ran 1 test in 0.002s\n",
            "\n",
            "FAILED (errors=1)\n"
          ]
        },
        {
          "output_type": "error",
          "ename": "SystemExit",
          "evalue": "ignored",
          "traceback": [
            "An exception has occurred, use %tb to see the full traceback.\n",
            "\u001b[0;31mSystemExit\u001b[0m\u001b[0;31m:\u001b[0m True\n"
          ]
        },
        {
          "output_type": "stream",
          "name": "stderr",
          "text": [
            "/usr/local/lib/python3.7/dist-packages/IPython/core/interactiveshell.py:2890: UserWarning: To exit: use 'exit', 'quit', or Ctrl-D.\n",
            "  warn(\"To exit: use 'exit', 'quit', or Ctrl-D.\", stacklevel=1)\n"
          ]
        }
      ]
    },
    {
      "cell_type": "markdown",
      "metadata": {
        "id": "eg-V6JFygZ0f"
      },
      "source": [
        "### A Variety of assert methods\n",
        "Python provides a number of assert methods you can use to test your code."
      ]
    },
    {
      "cell_type": "code",
      "metadata": {
        "id": "rWDGr8fkgjQR"
      },
      "source": [
        "# Verify that a==b or a!=b\n",
        "assertEqual(a, b)\n",
        "assertNotEqual(a, b)\n",
        "# Verify that x is True, or x is False\n",
        "assertTrue(x)\n",
        "assertFalse(x)\n",
        "# Verify an item is in a list, or not in a list\n",
        "assertIn(item, list)\n",
        "assertNotIn(item, list)"
      ],
      "execution_count": null,
      "outputs": []
    },
    {
      "cell_type": "markdown",
      "metadata": {
        "id": "iRKtSB9YhIwk"
      },
      "source": [
        "### Testing a class\n",
        "Testing a class is similar to testing a function, since you'll mostly be testing your methods."
      ]
    },
    {
      "cell_type": "code",
      "metadata": {
        "id": "dwJZNRw9hIME"
      },
      "source": [
        "# A class to test\n",
        "# Save as accountant.py\n",
        "class Accountant():\n",
        "  # Manage a bank account.\n",
        "  def __init__(self, balance=0):\n",
        "    self.balance = balance\n",
        "  \n",
        "  def deposit(self, amount):\n",
        "    self.balance += amount\n",
        "  \n",
        "  def withdraw(self, amount):\n",
        "    self.balance -= amount"
      ],
      "execution_count": 46,
      "outputs": []
    },
    {
      "cell_type": "code",
      "metadata": {
        "colab": {
          "base_uri": "https://localhost:8080/",
          "height": 316
        },
        "id": "uNl4d1SQivS3",
        "outputId": "3deebfc1-01ef-4932-8457-dd9046ade888"
      },
      "source": [
        "# Building a testcase\n",
        "# for the first test, we'll make sure we can start out with different initial balances.\n",
        "# Save this as test_accountant.py.\n",
        "\n",
        "import unittest\n",
        "# from accountant import Accountant\n",
        "\n",
        "class TestAccountant(unittest.TestCase):\n",
        "  # Tests for the class Accountant.\n",
        "\n",
        "  def test_initial_balance(self):\n",
        "    # Default balance should be 0.\n",
        "    acc = Accountant()\n",
        "    self.assertEqual(acc.balance, 0)\n",
        "\n",
        "    # Test non-default balance.\n",
        "    acc = Accountant(100)\n",
        "    self.assertEqual(acc.balance, 100)\n",
        "\n",
        "unittest.main()"
      ],
      "execution_count": 48,
      "outputs": [
        {
          "output_type": "stream",
          "name": "stderr",
          "text": [
            "E\n",
            "======================================================================\n",
            "ERROR: /root/ (unittest.loader._FailedTest)\n",
            "----------------------------------------------------------------------\n",
            "AttributeError: module '__main__' has no attribute '/root/'\n",
            "\n",
            "----------------------------------------------------------------------\n",
            "Ran 1 test in 0.002s\n",
            "\n",
            "FAILED (errors=1)\n"
          ]
        },
        {
          "output_type": "error",
          "ename": "SystemExit",
          "evalue": "ignored",
          "traceback": [
            "An exception has occurred, use %tb to see the full traceback.\n",
            "\u001b[0;31mSystemExit\u001b[0m\u001b[0;31m:\u001b[0m True\n"
          ]
        },
        {
          "output_type": "stream",
          "name": "stderr",
          "text": [
            "/usr/local/lib/python3.7/dist-packages/IPython/core/interactiveshell.py:2890: UserWarning: To exit: use 'exit', 'quit', or Ctrl-D.\n",
            "  warn(\"To exit: use 'exit', 'quit', or Ctrl-D.\", stacklevel=1)\n"
          ]
        }
      ]
    },
    {
      "cell_type": "markdown",
      "metadata": {
        "id": "lsVre9gpkuSp"
      },
      "source": [
        "### When is it okay to modify testt?\n",
        "In general you shouldn't modify a test once it's written. When a test fails it usually means new code you've written has broken existing functionality, and you need to modify the new code until all existing tests pass.\n",
        "\n",
        "If your original requirements have changed, it may be appropriate to modify some tests. This unually happens in the early stages of project when desired behaviour is still being sorted out."
      ]
    },
    {
      "cell_type": "markdown",
      "metadata": {
        "id": "L-3C6V8-lrCT"
      },
      "source": [
        "### The setUp() method\n",
        "When testing a class, you usually have to make an instance of the class. The setup() method is run before every test. Any instances you make in setUp() are available in every test you write."
      ]
    },
    {
      "cell_type": "code",
      "metadata": {
        "colab": {
          "base_uri": "https://localhost:8080/",
          "height": 367
        },
        "id": "adkosUH1mBoe",
        "outputId": "549c60d3-9633-4fb4-8cd0-454973a98eb9"
      },
      "source": [
        "# Using setUp() to support multiple tests\n",
        "# The instance self.acc can be used in each new test.\n",
        "import unittest\n",
        "from accountant import Accountant\n",
        "\n",
        "class TestAccountant(unittest.TestCase):\n",
        "  # Tests for the class Accountant.\n",
        "\n",
        "  def setUp(self):\n",
        "    self.acc = Accountant()\n",
        "  \n",
        "  def test_initial_balance(self):\n",
        "    # Default balance should be 0.\n",
        "    self.assertEqual(self.acc.balance, 0)\n",
        "\n",
        "    # Test non-default balance.\n",
        "    acc = Accountant(100)\n",
        "    self.assertEqual(acc.balance, 100)\n",
        "\n",
        "  def test_deposit(self):\n",
        "    # Test single deposit.\n",
        "    self.acc.deposit(100)\n",
        "    self.assertEqual(self.acc.balance, 100)\n",
        "\n",
        "    # Test multiple deposits.\n",
        "    self.acc.deposit(100)\n",
        "    self.acc.deposit(100)\n",
        "    self.assertEqual(self.acc.balance, 300)\n",
        "\n",
        "  def test_withdrawal(self):\n",
        "    # Test single withdrawal.\n",
        "    self.acc.deposit(1000)\n",
        "    self.acc.withdraw(100)\n",
        "    self.assertEqual(self.acc.balance, 900)\n",
        "\n",
        "unittest.main()"
      ],
      "execution_count": 49,
      "outputs": [
        {
          "output_type": "error",
          "ename": "ModuleNotFoundError",
          "evalue": "ignored",
          "traceback": [
            "\u001b[0;31m---------------------------------------------------------------------------\u001b[0m",
            "\u001b[0;31mModuleNotFoundError\u001b[0m                       Traceback (most recent call last)",
            "\u001b[0;32m<ipython-input-49-db7a119fccff>\u001b[0m in \u001b[0;36m<module>\u001b[0;34m()\u001b[0m\n\u001b[1;32m      2\u001b[0m \u001b[0;31m# The instance self.acc can be used in each new test.\u001b[0m\u001b[0;34m\u001b[0m\u001b[0;34m\u001b[0m\u001b[0;34m\u001b[0m\u001b[0m\n\u001b[1;32m      3\u001b[0m \u001b[0;32mimport\u001b[0m \u001b[0munittest\u001b[0m\u001b[0;34m\u001b[0m\u001b[0;34m\u001b[0m\u001b[0m\n\u001b[0;32m----> 4\u001b[0;31m \u001b[0;32mfrom\u001b[0m \u001b[0maccountant\u001b[0m \u001b[0;32mimport\u001b[0m \u001b[0mAccountant\u001b[0m\u001b[0;34m\u001b[0m\u001b[0;34m\u001b[0m\u001b[0m\n\u001b[0m\u001b[1;32m      5\u001b[0m \u001b[0;34m\u001b[0m\u001b[0m\n\u001b[1;32m      6\u001b[0m \u001b[0;32mclass\u001b[0m \u001b[0mTestAccountant\u001b[0m\u001b[0;34m(\u001b[0m\u001b[0munittest\u001b[0m\u001b[0;34m.\u001b[0m\u001b[0mTestCase\u001b[0m\u001b[0;34m)\u001b[0m\u001b[0;34m:\u001b[0m\u001b[0;34m\u001b[0m\u001b[0;34m\u001b[0m\u001b[0m\n",
            "\u001b[0;31mModuleNotFoundError\u001b[0m: No module named 'accountant'",
            "",
            "\u001b[0;31m---------------------------------------------------------------------------\u001b[0;32m\nNOTE: If your import is failing due to a missing package, you can\nmanually install dependencies using either !pip or !apt.\n\nTo view examples of installing some common dependencies, click the\n\"Open Examples\" button below.\n\u001b[0;31m---------------------------------------------------------------------------\u001b[0m\n"
          ],
          "errorDetails": {
            "actions": [
              {
                "action": "open_url",
                "actionText": "Open Examples",
                "url": "/notebooks/snippets/importing_libraries.ipynb"
              }
            ]
          }
        }
      ]
    }
  ]
}